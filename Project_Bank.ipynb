{
 "cells": [
  {
   "cell_type": "markdown",
   "id": "5374f032",
   "metadata": {},
   "source": [
    "# 1. Project: Predict whether a client will agree to join the new product being marketed by the banking institution."
   ]
  },
  {
   "cell_type": "markdown",
   "id": "ab091d31",
   "metadata": {},
   "source": [
    "# 2. Library import and data loading"
   ]
  },
  {
   "cell_type": "code",
   "execution_count": 1,
   "id": "a45d1f91",
   "metadata": {},
   "outputs": [],
   "source": [
    "import numpy as np\n",
    "import pandas as pd\n",
    "import matplotlib.pyplot as plt\n",
    "import seaborn as sns\n",
    "\n",
    "%matplotlib inline"
   ]
  },
  {
   "cell_type": "code",
   "execution_count": 2,
   "id": "28cd369d",
   "metadata": {},
   "outputs": [],
   "source": [
    "# Reading CSV file with the competition data\n",
    "df = pd.read_csv('bank-sampled-9K.csv', index_col=False)"
   ]
  },
  {
   "cell_type": "markdown",
   "id": "1bc67cdf",
   "metadata": {},
   "source": [
    "# 3. Data Analysis, Preparation and Wrangling"
   ]
  },
  {
   "cell_type": "code",
   "execution_count": 3,
   "id": "99d2a8a9",
   "metadata": {},
   "outputs": [
    {
     "name": "stdout",
     "output_type": "stream",
     "text": [
      "Competition data has 9000 records and 17 variables\n"
     ]
    }
   ],
   "source": [
    "df.drop('Unnamed: 0',axis=1, inplace=True)\n",
    "\n",
    "# Validation of number of records and variables\n",
    "print(\"Competition data has {} records and {} variables\".format(*df.shape))"
   ]
  },
  {
   "cell_type": "code",
   "execution_count": 4,
   "id": "513ac5bc",
   "metadata": {
    "scrolled": false
   },
   "outputs": [
    {
     "data": {
      "text/html": [
       "<div>\n",
       "<style scoped>\n",
       "    .dataframe tbody tr th:only-of-type {\n",
       "        vertical-align: middle;\n",
       "    }\n",
       "\n",
       "    .dataframe tbody tr th {\n",
       "        vertical-align: top;\n",
       "    }\n",
       "\n",
       "    .dataframe thead th {\n",
       "        text-align: right;\n",
       "    }\n",
       "</style>\n",
       "<table border=\"1\" class=\"dataframe\">\n",
       "  <thead>\n",
       "    <tr style=\"text-align: right;\">\n",
       "      <th></th>\n",
       "      <th>age</th>\n",
       "      <th>job</th>\n",
       "      <th>marital</th>\n",
       "      <th>education</th>\n",
       "      <th>default</th>\n",
       "      <th>balance</th>\n",
       "      <th>housing</th>\n",
       "      <th>loan</th>\n",
       "      <th>contact</th>\n",
       "      <th>day</th>\n",
       "      <th>month</th>\n",
       "      <th>duration</th>\n",
       "      <th>campaign</th>\n",
       "      <th>pdays</th>\n",
       "      <th>previous</th>\n",
       "      <th>poutcome</th>\n",
       "      <th>y</th>\n",
       "    </tr>\n",
       "  </thead>\n",
       "  <tbody>\n",
       "    <tr>\n",
       "      <th>0</th>\n",
       "      <td>58</td>\n",
       "      <td>management</td>\n",
       "      <td>married</td>\n",
       "      <td>tertiary</td>\n",
       "      <td>no</td>\n",
       "      <td>2143</td>\n",
       "      <td>yes</td>\n",
       "      <td>no</td>\n",
       "      <td>unknown</td>\n",
       "      <td>5</td>\n",
       "      <td>may</td>\n",
       "      <td>261</td>\n",
       "      <td>1</td>\n",
       "      <td>-1</td>\n",
       "      <td>0</td>\n",
       "      <td>unknown</td>\n",
       "      <td>no</td>\n",
       "    </tr>\n",
       "    <tr>\n",
       "      <th>1</th>\n",
       "      <td>33</td>\n",
       "      <td>entrepreneur</td>\n",
       "      <td>married</td>\n",
       "      <td>secondary</td>\n",
       "      <td>no</td>\n",
       "      <td>2</td>\n",
       "      <td>yes</td>\n",
       "      <td>yes</td>\n",
       "      <td>unknown</td>\n",
       "      <td>5</td>\n",
       "      <td>may</td>\n",
       "      <td>76</td>\n",
       "      <td>1</td>\n",
       "      <td>-1</td>\n",
       "      <td>0</td>\n",
       "      <td>unknown</td>\n",
       "      <td>no</td>\n",
       "    </tr>\n",
       "    <tr>\n",
       "      <th>2</th>\n",
       "      <td>29</td>\n",
       "      <td>admin.</td>\n",
       "      <td>single</td>\n",
       "      <td>secondary</td>\n",
       "      <td>no</td>\n",
       "      <td>390</td>\n",
       "      <td>yes</td>\n",
       "      <td>no</td>\n",
       "      <td>unknown</td>\n",
       "      <td>5</td>\n",
       "      <td>may</td>\n",
       "      <td>137</td>\n",
       "      <td>1</td>\n",
       "      <td>-1</td>\n",
       "      <td>0</td>\n",
       "      <td>unknown</td>\n",
       "      <td>no</td>\n",
       "    </tr>\n",
       "    <tr>\n",
       "      <th>3</th>\n",
       "      <td>53</td>\n",
       "      <td>technician</td>\n",
       "      <td>married</td>\n",
       "      <td>secondary</td>\n",
       "      <td>no</td>\n",
       "      <td>6</td>\n",
       "      <td>yes</td>\n",
       "      <td>no</td>\n",
       "      <td>unknown</td>\n",
       "      <td>5</td>\n",
       "      <td>may</td>\n",
       "      <td>517</td>\n",
       "      <td>1</td>\n",
       "      <td>-1</td>\n",
       "      <td>0</td>\n",
       "      <td>unknown</td>\n",
       "      <td>no</td>\n",
       "    </tr>\n",
       "    <tr>\n",
       "      <th>4</th>\n",
       "      <td>57</td>\n",
       "      <td>blue-collar</td>\n",
       "      <td>married</td>\n",
       "      <td>primary</td>\n",
       "      <td>no</td>\n",
       "      <td>52</td>\n",
       "      <td>yes</td>\n",
       "      <td>no</td>\n",
       "      <td>unknown</td>\n",
       "      <td>5</td>\n",
       "      <td>may</td>\n",
       "      <td>38</td>\n",
       "      <td>1</td>\n",
       "      <td>-1</td>\n",
       "      <td>0</td>\n",
       "      <td>unknown</td>\n",
       "      <td>no</td>\n",
       "    </tr>\n",
       "    <tr>\n",
       "      <th>5</th>\n",
       "      <td>60</td>\n",
       "      <td>retired</td>\n",
       "      <td>married</td>\n",
       "      <td>primary</td>\n",
       "      <td>no</td>\n",
       "      <td>60</td>\n",
       "      <td>yes</td>\n",
       "      <td>no</td>\n",
       "      <td>unknown</td>\n",
       "      <td>5</td>\n",
       "      <td>may</td>\n",
       "      <td>219</td>\n",
       "      <td>1</td>\n",
       "      <td>-1</td>\n",
       "      <td>0</td>\n",
       "      <td>unknown</td>\n",
       "      <td>no</td>\n",
       "    </tr>\n",
       "    <tr>\n",
       "      <th>6</th>\n",
       "      <td>40</td>\n",
       "      <td>retired</td>\n",
       "      <td>married</td>\n",
       "      <td>primary</td>\n",
       "      <td>no</td>\n",
       "      <td>0</td>\n",
       "      <td>yes</td>\n",
       "      <td>yes</td>\n",
       "      <td>unknown</td>\n",
       "      <td>5</td>\n",
       "      <td>may</td>\n",
       "      <td>181</td>\n",
       "      <td>1</td>\n",
       "      <td>-1</td>\n",
       "      <td>0</td>\n",
       "      <td>unknown</td>\n",
       "      <td>no</td>\n",
       "    </tr>\n",
       "    <tr>\n",
       "      <th>7</th>\n",
       "      <td>36</td>\n",
       "      <td>admin.</td>\n",
       "      <td>divorced</td>\n",
       "      <td>secondary</td>\n",
       "      <td>no</td>\n",
       "      <td>506</td>\n",
       "      <td>yes</td>\n",
       "      <td>no</td>\n",
       "      <td>unknown</td>\n",
       "      <td>5</td>\n",
       "      <td>may</td>\n",
       "      <td>577</td>\n",
       "      <td>1</td>\n",
       "      <td>-1</td>\n",
       "      <td>0</td>\n",
       "      <td>unknown</td>\n",
       "      <td>no</td>\n",
       "    </tr>\n",
       "    <tr>\n",
       "      <th>8</th>\n",
       "      <td>44</td>\n",
       "      <td>services</td>\n",
       "      <td>divorced</td>\n",
       "      <td>secondary</td>\n",
       "      <td>no</td>\n",
       "      <td>2586</td>\n",
       "      <td>yes</td>\n",
       "      <td>no</td>\n",
       "      <td>unknown</td>\n",
       "      <td>5</td>\n",
       "      <td>may</td>\n",
       "      <td>160</td>\n",
       "      <td>1</td>\n",
       "      <td>-1</td>\n",
       "      <td>0</td>\n",
       "      <td>unknown</td>\n",
       "      <td>no</td>\n",
       "    </tr>\n",
       "    <tr>\n",
       "      <th>9</th>\n",
       "      <td>54</td>\n",
       "      <td>blue-collar</td>\n",
       "      <td>married</td>\n",
       "      <td>secondary</td>\n",
       "      <td>no</td>\n",
       "      <td>1291</td>\n",
       "      <td>yes</td>\n",
       "      <td>no</td>\n",
       "      <td>unknown</td>\n",
       "      <td>5</td>\n",
       "      <td>may</td>\n",
       "      <td>266</td>\n",
       "      <td>1</td>\n",
       "      <td>-1</td>\n",
       "      <td>0</td>\n",
       "      <td>unknown</td>\n",
       "      <td>no</td>\n",
       "    </tr>\n",
       "  </tbody>\n",
       "</table>\n",
       "</div>"
      ],
      "text/plain": [
       "   age           job   marital  education default  balance housing loan  \\\n",
       "0   58    management   married   tertiary      no     2143     yes   no   \n",
       "1   33  entrepreneur   married  secondary      no        2     yes  yes   \n",
       "2   29        admin.    single  secondary      no      390     yes   no   \n",
       "3   53    technician   married  secondary      no        6     yes   no   \n",
       "4   57   blue-collar   married    primary      no       52     yes   no   \n",
       "5   60       retired   married    primary      no       60     yes   no   \n",
       "6   40       retired   married    primary      no        0     yes  yes   \n",
       "7   36        admin.  divorced  secondary      no      506     yes   no   \n",
       "8   44      services  divorced  secondary      no     2586     yes   no   \n",
       "9   54   blue-collar   married  secondary      no     1291     yes   no   \n",
       "\n",
       "   contact  day month  duration  campaign  pdays  previous poutcome   y  \n",
       "0  unknown    5   may       261         1     -1         0  unknown  no  \n",
       "1  unknown    5   may        76         1     -1         0  unknown  no  \n",
       "2  unknown    5   may       137         1     -1         0  unknown  no  \n",
       "3  unknown    5   may       517         1     -1         0  unknown  no  \n",
       "4  unknown    5   may        38         1     -1         0  unknown  no  \n",
       "5  unknown    5   may       219         1     -1         0  unknown  no  \n",
       "6  unknown    5   may       181         1     -1         0  unknown  no  \n",
       "7  unknown    5   may       577         1     -1         0  unknown  no  \n",
       "8  unknown    5   may       160         1     -1         0  unknown  no  \n",
       "9  unknown    5   may       266         1     -1         0  unknown  no  "
      ]
     },
     "execution_count": 4,
     "metadata": {},
     "output_type": "execute_result"
    }
   ],
   "source": [
    "df.head(10)"
   ]
  },
  {
   "cell_type": "code",
   "execution_count": 5,
   "id": "7909885c",
   "metadata": {},
   "outputs": [
    {
     "name": "stdout",
     "output_type": "stream",
     "text": [
      "<class 'pandas.core.frame.DataFrame'>\n",
      "RangeIndex: 9000 entries, 0 to 8999\n",
      "Data columns (total 17 columns):\n",
      " #   Column     Non-Null Count  Dtype \n",
      "---  ------     --------------  ----- \n",
      " 0   age        9000 non-null   int64 \n",
      " 1   job        9000 non-null   object\n",
      " 2   marital    9000 non-null   object\n",
      " 3   education  9000 non-null   object\n",
      " 4   default    9000 non-null   object\n",
      " 5   balance    9000 non-null   int64 \n",
      " 6   housing    9000 non-null   object\n",
      " 7   loan       9000 non-null   object\n",
      " 8   contact    9000 non-null   object\n",
      " 9   day        9000 non-null   int64 \n",
      " 10  month      9000 non-null   object\n",
      " 11  duration   9000 non-null   int64 \n",
      " 12  campaign   9000 non-null   int64 \n",
      " 13  pdays      9000 non-null   int64 \n",
      " 14  previous   9000 non-null   int64 \n",
      " 15  poutcome   9000 non-null   object\n",
      " 16  y          9000 non-null   object\n",
      "dtypes: int64(7), object(10)\n",
      "memory usage: 1.2+ MB\n"
     ]
    }
   ],
   "source": [
    "df.info()"
   ]
  },
  {
   "cell_type": "code",
   "execution_count": 6,
   "id": "951ab65a",
   "metadata": {},
   "outputs": [
    {
     "data": {
      "text/html": [
       "<div>\n",
       "<style scoped>\n",
       "    .dataframe tbody tr th:only-of-type {\n",
       "        vertical-align: middle;\n",
       "    }\n",
       "\n",
       "    .dataframe tbody tr th {\n",
       "        vertical-align: top;\n",
       "    }\n",
       "\n",
       "    .dataframe thead th {\n",
       "        text-align: right;\n",
       "    }\n",
       "</style>\n",
       "<table border=\"1\" class=\"dataframe\">\n",
       "  <thead>\n",
       "    <tr style=\"text-align: right;\">\n",
       "      <th></th>\n",
       "      <th>age</th>\n",
       "      <th>job</th>\n",
       "      <th>marital</th>\n",
       "      <th>education</th>\n",
       "      <th>default</th>\n",
       "      <th>balance</th>\n",
       "      <th>housing</th>\n",
       "      <th>loan</th>\n",
       "      <th>contact</th>\n",
       "      <th>day</th>\n",
       "      <th>month</th>\n",
       "      <th>campaign</th>\n",
       "      <th>pdays</th>\n",
       "      <th>previous</th>\n",
       "      <th>poutcome</th>\n",
       "      <th>y</th>\n",
       "    </tr>\n",
       "  </thead>\n",
       "  <tbody>\n",
       "    <tr>\n",
       "      <th>0</th>\n",
       "      <td>58</td>\n",
       "      <td>management</td>\n",
       "      <td>married</td>\n",
       "      <td>tertiary</td>\n",
       "      <td>no</td>\n",
       "      <td>2143</td>\n",
       "      <td>yes</td>\n",
       "      <td>no</td>\n",
       "      <td>unknown</td>\n",
       "      <td>5</td>\n",
       "      <td>may</td>\n",
       "      <td>1</td>\n",
       "      <td>-1</td>\n",
       "      <td>0</td>\n",
       "      <td>unknown</td>\n",
       "      <td>no</td>\n",
       "    </tr>\n",
       "    <tr>\n",
       "      <th>1</th>\n",
       "      <td>33</td>\n",
       "      <td>entrepreneur</td>\n",
       "      <td>married</td>\n",
       "      <td>secondary</td>\n",
       "      <td>no</td>\n",
       "      <td>2</td>\n",
       "      <td>yes</td>\n",
       "      <td>yes</td>\n",
       "      <td>unknown</td>\n",
       "      <td>5</td>\n",
       "      <td>may</td>\n",
       "      <td>1</td>\n",
       "      <td>-1</td>\n",
       "      <td>0</td>\n",
       "      <td>unknown</td>\n",
       "      <td>no</td>\n",
       "    </tr>\n",
       "    <tr>\n",
       "      <th>2</th>\n",
       "      <td>29</td>\n",
       "      <td>admin.</td>\n",
       "      <td>single</td>\n",
       "      <td>secondary</td>\n",
       "      <td>no</td>\n",
       "      <td>390</td>\n",
       "      <td>yes</td>\n",
       "      <td>no</td>\n",
       "      <td>unknown</td>\n",
       "      <td>5</td>\n",
       "      <td>may</td>\n",
       "      <td>1</td>\n",
       "      <td>-1</td>\n",
       "      <td>0</td>\n",
       "      <td>unknown</td>\n",
       "      <td>no</td>\n",
       "    </tr>\n",
       "    <tr>\n",
       "      <th>3</th>\n",
       "      <td>53</td>\n",
       "      <td>technician</td>\n",
       "      <td>married</td>\n",
       "      <td>secondary</td>\n",
       "      <td>no</td>\n",
       "      <td>6</td>\n",
       "      <td>yes</td>\n",
       "      <td>no</td>\n",
       "      <td>unknown</td>\n",
       "      <td>5</td>\n",
       "      <td>may</td>\n",
       "      <td>1</td>\n",
       "      <td>-1</td>\n",
       "      <td>0</td>\n",
       "      <td>unknown</td>\n",
       "      <td>no</td>\n",
       "    </tr>\n",
       "    <tr>\n",
       "      <th>4</th>\n",
       "      <td>57</td>\n",
       "      <td>blue-collar</td>\n",
       "      <td>married</td>\n",
       "      <td>primary</td>\n",
       "      <td>no</td>\n",
       "      <td>52</td>\n",
       "      <td>yes</td>\n",
       "      <td>no</td>\n",
       "      <td>unknown</td>\n",
       "      <td>5</td>\n",
       "      <td>may</td>\n",
       "      <td>1</td>\n",
       "      <td>-1</td>\n",
       "      <td>0</td>\n",
       "      <td>unknown</td>\n",
       "      <td>no</td>\n",
       "    </tr>\n",
       "    <tr>\n",
       "      <th>5</th>\n",
       "      <td>60</td>\n",
       "      <td>retired</td>\n",
       "      <td>married</td>\n",
       "      <td>primary</td>\n",
       "      <td>no</td>\n",
       "      <td>60</td>\n",
       "      <td>yes</td>\n",
       "      <td>no</td>\n",
       "      <td>unknown</td>\n",
       "      <td>5</td>\n",
       "      <td>may</td>\n",
       "      <td>1</td>\n",
       "      <td>-1</td>\n",
       "      <td>0</td>\n",
       "      <td>unknown</td>\n",
       "      <td>no</td>\n",
       "    </tr>\n",
       "    <tr>\n",
       "      <th>6</th>\n",
       "      <td>40</td>\n",
       "      <td>retired</td>\n",
       "      <td>married</td>\n",
       "      <td>primary</td>\n",
       "      <td>no</td>\n",
       "      <td>0</td>\n",
       "      <td>yes</td>\n",
       "      <td>yes</td>\n",
       "      <td>unknown</td>\n",
       "      <td>5</td>\n",
       "      <td>may</td>\n",
       "      <td>1</td>\n",
       "      <td>-1</td>\n",
       "      <td>0</td>\n",
       "      <td>unknown</td>\n",
       "      <td>no</td>\n",
       "    </tr>\n",
       "    <tr>\n",
       "      <th>7</th>\n",
       "      <td>36</td>\n",
       "      <td>admin.</td>\n",
       "      <td>divorced</td>\n",
       "      <td>secondary</td>\n",
       "      <td>no</td>\n",
       "      <td>506</td>\n",
       "      <td>yes</td>\n",
       "      <td>no</td>\n",
       "      <td>unknown</td>\n",
       "      <td>5</td>\n",
       "      <td>may</td>\n",
       "      <td>1</td>\n",
       "      <td>-1</td>\n",
       "      <td>0</td>\n",
       "      <td>unknown</td>\n",
       "      <td>no</td>\n",
       "    </tr>\n",
       "    <tr>\n",
       "      <th>8</th>\n",
       "      <td>44</td>\n",
       "      <td>services</td>\n",
       "      <td>divorced</td>\n",
       "      <td>secondary</td>\n",
       "      <td>no</td>\n",
       "      <td>2586</td>\n",
       "      <td>yes</td>\n",
       "      <td>no</td>\n",
       "      <td>unknown</td>\n",
       "      <td>5</td>\n",
       "      <td>may</td>\n",
       "      <td>1</td>\n",
       "      <td>-1</td>\n",
       "      <td>0</td>\n",
       "      <td>unknown</td>\n",
       "      <td>no</td>\n",
       "    </tr>\n",
       "    <tr>\n",
       "      <th>9</th>\n",
       "      <td>54</td>\n",
       "      <td>blue-collar</td>\n",
       "      <td>married</td>\n",
       "      <td>secondary</td>\n",
       "      <td>no</td>\n",
       "      <td>1291</td>\n",
       "      <td>yes</td>\n",
       "      <td>no</td>\n",
       "      <td>unknown</td>\n",
       "      <td>5</td>\n",
       "      <td>may</td>\n",
       "      <td>1</td>\n",
       "      <td>-1</td>\n",
       "      <td>0</td>\n",
       "      <td>unknown</td>\n",
       "      <td>no</td>\n",
       "    </tr>\n",
       "  </tbody>\n",
       "</table>\n",
       "</div>"
      ],
      "text/plain": [
       "   age           job   marital  education default  balance housing loan  \\\n",
       "0   58    management   married   tertiary      no     2143     yes   no   \n",
       "1   33  entrepreneur   married  secondary      no        2     yes  yes   \n",
       "2   29        admin.    single  secondary      no      390     yes   no   \n",
       "3   53    technician   married  secondary      no        6     yes   no   \n",
       "4   57   blue-collar   married    primary      no       52     yes   no   \n",
       "5   60       retired   married    primary      no       60     yes   no   \n",
       "6   40       retired   married    primary      no        0     yes  yes   \n",
       "7   36        admin.  divorced  secondary      no      506     yes   no   \n",
       "8   44      services  divorced  secondary      no     2586     yes   no   \n",
       "9   54   blue-collar   married  secondary      no     1291     yes   no   \n",
       "\n",
       "   contact  day month  campaign  pdays  previous poutcome   y  \n",
       "0  unknown    5   may         1     -1         0  unknown  no  \n",
       "1  unknown    5   may         1     -1         0  unknown  no  \n",
       "2  unknown    5   may         1     -1         0  unknown  no  \n",
       "3  unknown    5   may         1     -1         0  unknown  no  \n",
       "4  unknown    5   may         1     -1         0  unknown  no  \n",
       "5  unknown    5   may         1     -1         0  unknown  no  \n",
       "6  unknown    5   may         1     -1         0  unknown  no  \n",
       "7  unknown    5   may         1     -1         0  unknown  no  \n",
       "8  unknown    5   may         1     -1         0  unknown  no  \n",
       "9  unknown    5   may         1     -1         0  unknown  no  "
      ]
     },
     "execution_count": 6,
     "metadata": {},
     "output_type": "execute_result"
    }
   ],
   "source": [
    "# Dropping 'duration'\n",
    "df.drop(columns = 'duration', inplace = True)\n",
    "\n",
    "df.head(10)"
   ]
  },
  {
   "cell_type": "code",
   "execution_count": 7,
   "id": "5d76268f",
   "metadata": {},
   "outputs": [],
   "source": [
    "# Merge day - month\n",
    "from datetime import datetime as dt\n",
    "\n",
    "last_date = \"18 Nov, 2010\"\n",
    "dt_1 = dt.strptime(last_date, \"%d %b, %Y\")  # Convert to datetime\n",
    "\n",
    "df['month'] = df['month'].apply(lambda x : x.capitalize())\n",
    "df['date'] = df['day'].astype(str) + \" \" + df['month'] + \", 2010\"\n",
    "\n",
    "# Create last_contact => how many days ago was the last contact\n",
    "df['last_contact'] = df['date'].apply(lambda x : (dt_1 - dt.strptime(x, \"%d %b, %Y\")).days)\n",
    "\n",
    "#Drop the unnecessary columns\n",
    "df.drop(columns = {'month','date', 'day'}, axis = 1, inplace = True)\n"
   ]
  },
  {
   "cell_type": "markdown",
   "id": "f578b572",
   "metadata": {},
   "source": [
    "Summary Statistics"
   ]
  },
  {
   "cell_type": "code",
   "execution_count": 8,
   "id": "50a86fdb",
   "metadata": {
    "scrolled": true
   },
   "outputs": [
    {
     "data": {
      "text/html": [
       "<div>\n",
       "<style scoped>\n",
       "    .dataframe tbody tr th:only-of-type {\n",
       "        vertical-align: middle;\n",
       "    }\n",
       "\n",
       "    .dataframe tbody tr th {\n",
       "        vertical-align: top;\n",
       "    }\n",
       "\n",
       "    .dataframe thead th {\n",
       "        text-align: right;\n",
       "    }\n",
       "</style>\n",
       "<table border=\"1\" class=\"dataframe\">\n",
       "  <thead>\n",
       "    <tr style=\"text-align: right;\">\n",
       "      <th></th>\n",
       "      <th>age</th>\n",
       "      <th>balance</th>\n",
       "      <th>campaign</th>\n",
       "      <th>pdays</th>\n",
       "      <th>previous</th>\n",
       "      <th>last_contact</th>\n",
       "    </tr>\n",
       "  </thead>\n",
       "  <tbody>\n",
       "    <tr>\n",
       "      <th>count</th>\n",
       "      <td>9000.000000</td>\n",
       "      <td>9000.000000</td>\n",
       "      <td>9000.000000</td>\n",
       "      <td>9000.000000</td>\n",
       "      <td>9000.000000</td>\n",
       "      <td>9000.000000</td>\n",
       "    </tr>\n",
       "    <tr>\n",
       "      <th>mean</th>\n",
       "      <td>41.035667</td>\n",
       "      <td>1372.970222</td>\n",
       "      <td>2.767667</td>\n",
       "      <td>39.906444</td>\n",
       "      <td>0.609556</td>\n",
       "      <td>150.289000</td>\n",
       "    </tr>\n",
       "    <tr>\n",
       "      <th>std</th>\n",
       "      <td>10.561698</td>\n",
       "      <td>3363.690197</td>\n",
       "      <td>3.011022</td>\n",
       "      <td>99.440498</td>\n",
       "      <td>3.499115</td>\n",
       "      <td>74.721977</td>\n",
       "    </tr>\n",
       "    <tr>\n",
       "      <th>min</th>\n",
       "      <td>18.000000</td>\n",
       "      <td>-4057.000000</td>\n",
       "      <td>1.000000</td>\n",
       "      <td>-1.000000</td>\n",
       "      <td>0.000000</td>\n",
       "      <td>-42.000000</td>\n",
       "    </tr>\n",
       "    <tr>\n",
       "      <th>25%</th>\n",
       "      <td>33.000000</td>\n",
       "      <td>68.000000</td>\n",
       "      <td>1.000000</td>\n",
       "      <td>-1.000000</td>\n",
       "      <td>0.000000</td>\n",
       "      <td>104.000000</td>\n",
       "    </tr>\n",
       "    <tr>\n",
       "      <th>50%</th>\n",
       "      <td>39.000000</td>\n",
       "      <td>450.000000</td>\n",
       "      <td>2.000000</td>\n",
       "      <td>-1.000000</td>\n",
       "      <td>0.000000</td>\n",
       "      <td>166.000000</td>\n",
       "    </tr>\n",
       "    <tr>\n",
       "      <th>75%</th>\n",
       "      <td>48.000000</td>\n",
       "      <td>1453.250000</td>\n",
       "      <td>3.000000</td>\n",
       "      <td>-1.000000</td>\n",
       "      <td>0.000000</td>\n",
       "      <td>193.000000</td>\n",
       "    </tr>\n",
       "    <tr>\n",
       "      <th>max</th>\n",
       "      <td>90.000000</td>\n",
       "      <td>102127.000000</td>\n",
       "      <td>51.000000</td>\n",
       "      <td>831.000000</td>\n",
       "      <td>275.000000</td>\n",
       "      <td>316.000000</td>\n",
       "    </tr>\n",
       "  </tbody>\n",
       "</table>\n",
       "</div>"
      ],
      "text/plain": [
       "               age        balance     campaign        pdays     previous  \\\n",
       "count  9000.000000    9000.000000  9000.000000  9000.000000  9000.000000   \n",
       "mean     41.035667    1372.970222     2.767667    39.906444     0.609556   \n",
       "std      10.561698    3363.690197     3.011022    99.440498     3.499115   \n",
       "min      18.000000   -4057.000000     1.000000    -1.000000     0.000000   \n",
       "25%      33.000000      68.000000     1.000000    -1.000000     0.000000   \n",
       "50%      39.000000     450.000000     2.000000    -1.000000     0.000000   \n",
       "75%      48.000000    1453.250000     3.000000    -1.000000     0.000000   \n",
       "max      90.000000  102127.000000    51.000000   831.000000   275.000000   \n",
       "\n",
       "       last_contact  \n",
       "count   9000.000000  \n",
       "mean     150.289000  \n",
       "std       74.721977  \n",
       "min      -42.000000  \n",
       "25%      104.000000  \n",
       "50%      166.000000  \n",
       "75%      193.000000  \n",
       "max      316.000000  "
      ]
     },
     "execution_count": 8,
     "metadata": {},
     "output_type": "execute_result"
    }
   ],
   "source": [
    "df.describe()"
   ]
  },
  {
   "cell_type": "markdown",
   "id": "4958b01b",
   "metadata": {},
   "source": [
    "Select categorical columns"
   ]
  },
  {
   "cell_type": "code",
   "execution_count": 9,
   "id": "039e3efb",
   "metadata": {},
   "outputs": [
    {
     "data": {
      "text/plain": [
       "Index(['age', 'job', 'marital', 'education', 'default', 'balance', 'housing',\n",
       "       'loan', 'contact', 'campaign', 'pdays', 'previous', 'poutcome', 'y',\n",
       "       'last_contact'],\n",
       "      dtype='object')"
      ]
     },
     "execution_count": 9,
     "metadata": {},
     "output_type": "execute_result"
    }
   ],
   "source": [
    "df.columns"
   ]
  },
  {
   "cell_type": "code",
   "execution_count": 10,
   "id": "084ac4d3",
   "metadata": {},
   "outputs": [
    {
     "name": "stdout",
     "output_type": "stream",
     "text": [
      "<class 'pandas.core.frame.DataFrame'>\n",
      "RangeIndex: 9000 entries, 0 to 8999\n",
      "Data columns (total 15 columns):\n",
      " #   Column        Non-Null Count  Dtype \n",
      "---  ------        --------------  ----- \n",
      " 0   age           9000 non-null   int64 \n",
      " 1   job           9000 non-null   object\n",
      " 2   marital       9000 non-null   object\n",
      " 3   education     9000 non-null   object\n",
      " 4   default       9000 non-null   object\n",
      " 5   balance       9000 non-null   int64 \n",
      " 6   housing       9000 non-null   object\n",
      " 7   loan          9000 non-null   object\n",
      " 8   contact       9000 non-null   object\n",
      " 9   campaign      9000 non-null   int64 \n",
      " 10  pdays         9000 non-null   int64 \n",
      " 11  previous      9000 non-null   int64 \n",
      " 12  poutcome      9000 non-null   object\n",
      " 13  y             9000 non-null   object\n",
      " 14  last_contact  9000 non-null   int64 \n",
      "dtypes: int64(6), object(9)\n",
      "memory usage: 1.0+ MB\n"
     ]
    }
   ],
   "source": [
    "df.info()"
   ]
  },
  {
   "cell_type": "code",
   "execution_count": 11,
   "id": "2a2f020e",
   "metadata": {},
   "outputs": [
    {
     "name": "stdout",
     "output_type": "stream",
     "text": [
      "Index(['job', 'marital', 'education', 'default', 'housing', 'loan', 'contact',\n",
      "       'poutcome', 'y'],\n",
      "      dtype='object')\n"
     ]
    }
   ],
   "source": [
    "#select columns\n",
    "categorical_variables = df.select_dtypes('object').columns #Review this line in Andrea Notebook\n",
    "print(categorical_variables)"
   ]
  },
  {
   "cell_type": "code",
   "execution_count": 12,
   "id": "f99bc533",
   "metadata": {},
   "outputs": [
    {
     "data": {
      "text/html": [
       "<div>\n",
       "<style scoped>\n",
       "    .dataframe tbody tr th:only-of-type {\n",
       "        vertical-align: middle;\n",
       "    }\n",
       "\n",
       "    .dataframe tbody tr th {\n",
       "        vertical-align: top;\n",
       "    }\n",
       "\n",
       "    .dataframe thead th {\n",
       "        text-align: right;\n",
       "    }\n",
       "</style>\n",
       "<table border=\"1\" class=\"dataframe\">\n",
       "  <thead>\n",
       "    <tr style=\"text-align: right;\">\n",
       "      <th></th>\n",
       "      <th>age</th>\n",
       "      <th>job</th>\n",
       "      <th>marital</th>\n",
       "      <th>education</th>\n",
       "      <th>default</th>\n",
       "      <th>balance</th>\n",
       "      <th>housing</th>\n",
       "      <th>loan</th>\n",
       "      <th>contact</th>\n",
       "      <th>campaign</th>\n",
       "      <th>pdays</th>\n",
       "      <th>previous</th>\n",
       "      <th>poutcome</th>\n",
       "      <th>y</th>\n",
       "      <th>last_contact</th>\n",
       "    </tr>\n",
       "  </thead>\n",
       "  <tbody>\n",
       "    <tr>\n",
       "      <th>0</th>\n",
       "      <td>58</td>\n",
       "      <td>management</td>\n",
       "      <td>married</td>\n",
       "      <td>tertiary</td>\n",
       "      <td>no</td>\n",
       "      <td>2143</td>\n",
       "      <td>yes</td>\n",
       "      <td>no</td>\n",
       "      <td>unknown</td>\n",
       "      <td>1</td>\n",
       "      <td>-1</td>\n",
       "      <td>0</td>\n",
       "      <td>unknown</td>\n",
       "      <td>no</td>\n",
       "      <td>197</td>\n",
       "    </tr>\n",
       "    <tr>\n",
       "      <th>1</th>\n",
       "      <td>33</td>\n",
       "      <td>entrepreneur</td>\n",
       "      <td>married</td>\n",
       "      <td>secondary</td>\n",
       "      <td>no</td>\n",
       "      <td>2</td>\n",
       "      <td>yes</td>\n",
       "      <td>yes</td>\n",
       "      <td>unknown</td>\n",
       "      <td>1</td>\n",
       "      <td>-1</td>\n",
       "      <td>0</td>\n",
       "      <td>unknown</td>\n",
       "      <td>no</td>\n",
       "      <td>197</td>\n",
       "    </tr>\n",
       "    <tr>\n",
       "      <th>2</th>\n",
       "      <td>29</td>\n",
       "      <td>admin.</td>\n",
       "      <td>single</td>\n",
       "      <td>secondary</td>\n",
       "      <td>no</td>\n",
       "      <td>390</td>\n",
       "      <td>yes</td>\n",
       "      <td>no</td>\n",
       "      <td>unknown</td>\n",
       "      <td>1</td>\n",
       "      <td>-1</td>\n",
       "      <td>0</td>\n",
       "      <td>unknown</td>\n",
       "      <td>no</td>\n",
       "      <td>197</td>\n",
       "    </tr>\n",
       "    <tr>\n",
       "      <th>3</th>\n",
       "      <td>53</td>\n",
       "      <td>technician</td>\n",
       "      <td>married</td>\n",
       "      <td>secondary</td>\n",
       "      <td>no</td>\n",
       "      <td>6</td>\n",
       "      <td>yes</td>\n",
       "      <td>no</td>\n",
       "      <td>unknown</td>\n",
       "      <td>1</td>\n",
       "      <td>-1</td>\n",
       "      <td>0</td>\n",
       "      <td>unknown</td>\n",
       "      <td>no</td>\n",
       "      <td>197</td>\n",
       "    </tr>\n",
       "    <tr>\n",
       "      <th>4</th>\n",
       "      <td>57</td>\n",
       "      <td>blue-collar</td>\n",
       "      <td>married</td>\n",
       "      <td>primary</td>\n",
       "      <td>no</td>\n",
       "      <td>52</td>\n",
       "      <td>yes</td>\n",
       "      <td>no</td>\n",
       "      <td>unknown</td>\n",
       "      <td>1</td>\n",
       "      <td>-1</td>\n",
       "      <td>0</td>\n",
       "      <td>unknown</td>\n",
       "      <td>no</td>\n",
       "      <td>197</td>\n",
       "    </tr>\n",
       "  </tbody>\n",
       "</table>\n",
       "</div>"
      ],
      "text/plain": [
       "   age           job  marital  education default  balance housing loan  \\\n",
       "0   58    management  married   tertiary      no     2143     yes   no   \n",
       "1   33  entrepreneur  married  secondary      no        2     yes  yes   \n",
       "2   29        admin.   single  secondary      no      390     yes   no   \n",
       "3   53    technician  married  secondary      no        6     yes   no   \n",
       "4   57   blue-collar  married    primary      no       52     yes   no   \n",
       "\n",
       "   contact  campaign  pdays  previous poutcome   y  last_contact  \n",
       "0  unknown         1     -1         0  unknown  no           197  \n",
       "1  unknown         1     -1         0  unknown  no           197  \n",
       "2  unknown         1     -1         0  unknown  no           197  \n",
       "3  unknown         1     -1         0  unknown  no           197  \n",
       "4  unknown         1     -1         0  unknown  no           197  "
      ]
     },
     "execution_count": 12,
     "metadata": {},
     "output_type": "execute_result"
    }
   ],
   "source": [
    "df.head()"
   ]
  },
  {
   "cell_type": "markdown",
   "id": "b0f30d84",
   "metadata": {},
   "source": [
    "Create dummy variables for each categorical feature"
   ]
  },
  {
   "cell_type": "code",
   "execution_count": 13,
   "id": "4b179a70",
   "metadata": {},
   "outputs": [
    {
     "data": {
      "text/html": [
       "<div>\n",
       "<style scoped>\n",
       "    .dataframe tbody tr th:only-of-type {\n",
       "        vertical-align: middle;\n",
       "    }\n",
       "\n",
       "    .dataframe tbody tr th {\n",
       "        vertical-align: top;\n",
       "    }\n",
       "\n",
       "    .dataframe thead th {\n",
       "        text-align: right;\n",
       "    }\n",
       "</style>\n",
       "<table border=\"1\" class=\"dataframe\">\n",
       "  <thead>\n",
       "    <tr style=\"text-align: right;\">\n",
       "      <th></th>\n",
       "      <th>age</th>\n",
       "      <th>balance</th>\n",
       "      <th>campaign</th>\n",
       "      <th>pdays</th>\n",
       "      <th>previous</th>\n",
       "      <th>last_contact</th>\n",
       "      <th>job_blue-collar</th>\n",
       "      <th>job_entrepreneur</th>\n",
       "      <th>job_housemaid</th>\n",
       "      <th>job_management</th>\n",
       "      <th>...</th>\n",
       "      <th>education_unknown</th>\n",
       "      <th>default_yes</th>\n",
       "      <th>housing_yes</th>\n",
       "      <th>loan_yes</th>\n",
       "      <th>contact_telephone</th>\n",
       "      <th>contact_unknown</th>\n",
       "      <th>poutcome_other</th>\n",
       "      <th>poutcome_success</th>\n",
       "      <th>poutcome_unknown</th>\n",
       "      <th>y_yes</th>\n",
       "    </tr>\n",
       "  </thead>\n",
       "  <tbody>\n",
       "    <tr>\n",
       "      <th>0</th>\n",
       "      <td>58</td>\n",
       "      <td>2143</td>\n",
       "      <td>1</td>\n",
       "      <td>-1</td>\n",
       "      <td>0</td>\n",
       "      <td>197</td>\n",
       "      <td>0</td>\n",
       "      <td>0</td>\n",
       "      <td>0</td>\n",
       "      <td>1</td>\n",
       "      <td>...</td>\n",
       "      <td>0</td>\n",
       "      <td>0</td>\n",
       "      <td>1</td>\n",
       "      <td>0</td>\n",
       "      <td>0</td>\n",
       "      <td>1</td>\n",
       "      <td>0</td>\n",
       "      <td>0</td>\n",
       "      <td>1</td>\n",
       "      <td>0</td>\n",
       "    </tr>\n",
       "    <tr>\n",
       "      <th>1</th>\n",
       "      <td>33</td>\n",
       "      <td>2</td>\n",
       "      <td>1</td>\n",
       "      <td>-1</td>\n",
       "      <td>0</td>\n",
       "      <td>197</td>\n",
       "      <td>0</td>\n",
       "      <td>1</td>\n",
       "      <td>0</td>\n",
       "      <td>0</td>\n",
       "      <td>...</td>\n",
       "      <td>0</td>\n",
       "      <td>0</td>\n",
       "      <td>1</td>\n",
       "      <td>1</td>\n",
       "      <td>0</td>\n",
       "      <td>1</td>\n",
       "      <td>0</td>\n",
       "      <td>0</td>\n",
       "      <td>1</td>\n",
       "      <td>0</td>\n",
       "    </tr>\n",
       "    <tr>\n",
       "      <th>2</th>\n",
       "      <td>29</td>\n",
       "      <td>390</td>\n",
       "      <td>1</td>\n",
       "      <td>-1</td>\n",
       "      <td>0</td>\n",
       "      <td>197</td>\n",
       "      <td>0</td>\n",
       "      <td>0</td>\n",
       "      <td>0</td>\n",
       "      <td>0</td>\n",
       "      <td>...</td>\n",
       "      <td>0</td>\n",
       "      <td>0</td>\n",
       "      <td>1</td>\n",
       "      <td>0</td>\n",
       "      <td>0</td>\n",
       "      <td>1</td>\n",
       "      <td>0</td>\n",
       "      <td>0</td>\n",
       "      <td>1</td>\n",
       "      <td>0</td>\n",
       "    </tr>\n",
       "    <tr>\n",
       "      <th>3</th>\n",
       "      <td>53</td>\n",
       "      <td>6</td>\n",
       "      <td>1</td>\n",
       "      <td>-1</td>\n",
       "      <td>0</td>\n",
       "      <td>197</td>\n",
       "      <td>0</td>\n",
       "      <td>0</td>\n",
       "      <td>0</td>\n",
       "      <td>0</td>\n",
       "      <td>...</td>\n",
       "      <td>0</td>\n",
       "      <td>0</td>\n",
       "      <td>1</td>\n",
       "      <td>0</td>\n",
       "      <td>0</td>\n",
       "      <td>1</td>\n",
       "      <td>0</td>\n",
       "      <td>0</td>\n",
       "      <td>1</td>\n",
       "      <td>0</td>\n",
       "    </tr>\n",
       "    <tr>\n",
       "      <th>4</th>\n",
       "      <td>57</td>\n",
       "      <td>52</td>\n",
       "      <td>1</td>\n",
       "      <td>-1</td>\n",
       "      <td>0</td>\n",
       "      <td>197</td>\n",
       "      <td>1</td>\n",
       "      <td>0</td>\n",
       "      <td>0</td>\n",
       "      <td>0</td>\n",
       "      <td>...</td>\n",
       "      <td>0</td>\n",
       "      <td>0</td>\n",
       "      <td>1</td>\n",
       "      <td>0</td>\n",
       "      <td>0</td>\n",
       "      <td>1</td>\n",
       "      <td>0</td>\n",
       "      <td>0</td>\n",
       "      <td>1</td>\n",
       "      <td>0</td>\n",
       "    </tr>\n",
       "  </tbody>\n",
       "</table>\n",
       "<p>5 rows × 31 columns</p>\n",
       "</div>"
      ],
      "text/plain": [
       "   age  balance  campaign  pdays  previous  last_contact  job_blue-collar  \\\n",
       "0   58     2143         1     -1         0           197                0   \n",
       "1   33        2         1     -1         0           197                0   \n",
       "2   29      390         1     -1         0           197                0   \n",
       "3   53        6         1     -1         0           197                0   \n",
       "4   57       52         1     -1         0           197                1   \n",
       "\n",
       "   job_entrepreneur  job_housemaid  job_management  ...  education_unknown  \\\n",
       "0                 0              0               1  ...                  0   \n",
       "1                 1              0               0  ...                  0   \n",
       "2                 0              0               0  ...                  0   \n",
       "3                 0              0               0  ...                  0   \n",
       "4                 0              0               0  ...                  0   \n",
       "\n",
       "   default_yes  housing_yes  loan_yes  contact_telephone  contact_unknown  \\\n",
       "0            0            1         0                  0                1   \n",
       "1            0            1         1                  0                1   \n",
       "2            0            1         0                  0                1   \n",
       "3            0            1         0                  0                1   \n",
       "4            0            1         0                  0                1   \n",
       "\n",
       "   poutcome_other  poutcome_success  poutcome_unknown  y_yes  \n",
       "0               0                 0                 1      0  \n",
       "1               0                 0                 1      0  \n",
       "2               0                 0                 1      0  \n",
       "3               0                 0                 1      0  \n",
       "4               0                 0                 1      0  \n",
       "\n",
       "[5 rows x 31 columns]"
      ]
     },
     "execution_count": 13,
     "metadata": {},
     "output_type": "execute_result"
    }
   ],
   "source": [
    "#Easiest way to create dummie encoding - convert all categorical values\n",
    "df1 = pd.get_dummies(df, drop_first=True)\n",
    "df1.head()"
   ]
  },
  {
   "cell_type": "code",
   "execution_count": 14,
   "id": "ea609795",
   "metadata": {},
   "outputs": [],
   "source": [
    "# df1 = pd.get_dummies(df, prefix = 'job', columns=['job'])\n",
    "# df1 = pd.get_dummies(df, prefix = 'marital', columns=['marital'])\n",
    "# df1 = pd.get_dummies(df, prefix = 'education', columns=['education'])\n",
    "# df1 = pd.get_dummies(df, prefix = 'default', columns=['default'])\n",
    "# df1 = pd.get_dummies(df, prefix = 'housing', columns=['housing'])\n",
    "# df1 = pd.get_dummies(df, prefix = 'loan', columns=['loan'])\n",
    "# df1 = pd.get_dummies(df, prefix = 'contact', columns=['contact'])\n",
    "# df1 = pd.get_dummies(df, prefix = 'poutcome', columns=['poutcome'])\n",
    "#y_target = pd.get_dummies(df['y'], prefix = 'y', drop_first=True) REVISAR Codigo Andrea si convierte response columns \"y\" a Dummie Variable. Solo convertir features."
   ]
  },
  {
   "cell_type": "code",
   "execution_count": 15,
   "id": "c79b7e62",
   "metadata": {},
   "outputs": [],
   "source": [
    "#df.head()"
   ]
  },
  {
   "cell_type": "code",
   "execution_count": 16,
   "id": "73f7fb63",
   "metadata": {
    "scrolled": true
   },
   "outputs": [
    {
     "name": "stdout",
     "output_type": "stream",
     "text": [
      "<class 'pandas.core.frame.DataFrame'>\n",
      "RangeIndex: 9000 entries, 0 to 8999\n",
      "Data columns (total 31 columns):\n",
      " #   Column               Non-Null Count  Dtype\n",
      "---  ------               --------------  -----\n",
      " 0   age                  9000 non-null   int64\n",
      " 1   balance              9000 non-null   int64\n",
      " 2   campaign             9000 non-null   int64\n",
      " 3   pdays                9000 non-null   int64\n",
      " 4   previous             9000 non-null   int64\n",
      " 5   last_contact         9000 non-null   int64\n",
      " 6   job_blue-collar      9000 non-null   uint8\n",
      " 7   job_entrepreneur     9000 non-null   uint8\n",
      " 8   job_housemaid        9000 non-null   uint8\n",
      " 9   job_management       9000 non-null   uint8\n",
      " 10  job_retired          9000 non-null   uint8\n",
      " 11  job_self-employed    9000 non-null   uint8\n",
      " 12  job_services         9000 non-null   uint8\n",
      " 13  job_student          9000 non-null   uint8\n",
      " 14  job_technician       9000 non-null   uint8\n",
      " 15  job_unemployed       9000 non-null   uint8\n",
      " 16  job_unknown          9000 non-null   uint8\n",
      " 17  marital_married      9000 non-null   uint8\n",
      " 18  marital_single       9000 non-null   uint8\n",
      " 19  education_secondary  9000 non-null   uint8\n",
      " 20  education_tertiary   9000 non-null   uint8\n",
      " 21  education_unknown    9000 non-null   uint8\n",
      " 22  default_yes          9000 non-null   uint8\n",
      " 23  housing_yes          9000 non-null   uint8\n",
      " 24  loan_yes             9000 non-null   uint8\n",
      " 25  contact_telephone    9000 non-null   uint8\n",
      " 26  contact_unknown      9000 non-null   uint8\n",
      " 27  poutcome_other       9000 non-null   uint8\n",
      " 28  poutcome_success     9000 non-null   uint8\n",
      " 29  poutcome_unknown     9000 non-null   uint8\n",
      " 30  y_yes                9000 non-null   uint8\n",
      "dtypes: int64(6), uint8(25)\n",
      "memory usage: 641.7 KB\n"
     ]
    }
   ],
   "source": [
    "df1.info()"
   ]
  },
  {
   "cell_type": "markdown",
   "id": "a9a96aa1",
   "metadata": {},
   "source": [
    "# 4.Feature Selection and Scaling"
   ]
  },
  {
   "cell_type": "code",
   "execution_count": 17,
   "id": "6e67f9af",
   "metadata": {},
   "outputs": [],
   "source": [
    "from sklearn.feature_selection import SelectKBest, mutual_info_classif, VarianceThreshold, SelectFromModel\n",
    "from sklearn.linear_model import LogisticRegression\n",
    "from sklearn.svm import SVC\n",
    "from sklearn.preprocessing import RobustScaler\n",
    "from sklearn.pipeline import Pipeline"
   ]
  },
  {
   "cell_type": "code",
   "execution_count": 18,
   "id": "c1c0af06",
   "metadata": {},
   "outputs": [],
   "source": [
    "X = df1.drop(columns = 'y_yes')\n",
    "y = df1['y_yes']"
   ]
  },
  {
   "cell_type": "code",
   "execution_count": 19,
   "id": "22b50322",
   "metadata": {},
   "outputs": [],
   "source": [
    "### Logistic Regression"
   ]
  },
  {
   "cell_type": "code",
   "execution_count": 20,
   "id": "bd52cae7",
   "metadata": {},
   "outputs": [
    {
     "data": {
      "text/plain": [
       "array([[-5.06935816e-03,  1.84016788e-05, -1.25751184e-01,\n",
       "        -1.82293410e-03, -1.70223725e-04,  7.03799906e-04,\n",
       "        -8.12905736e-02, -2.13315697e-01, -3.14365393e-01,\n",
       "        -1.82422464e-01,  5.96304269e-01, -1.34537887e-01,\n",
       "        -1.86795788e-01,  1.71503559e-01, -1.52681583e-01,\n",
       "         4.04143005e-03, -5.90240926e-04, -2.62431960e-01,\n",
       "         5.69310009e-02,  1.28420666e-02,  2.09706541e-01,\n",
       "         6.71990089e-02, -1.02437623e-01, -5.83810718e-01,\n",
       "        -6.63973191e-01, -1.19880924e-01, -1.05924526e+00,\n",
       "        -1.60800356e-01,  1.78714182e+00, -8.15905447e-01]])"
      ]
     },
     "execution_count": 20,
     "metadata": {},
     "output_type": "execute_result"
    }
   ],
   "source": [
    "logreg_selector = SelectFromModel(estimator = LogisticRegression(max_iter = 5000))\n",
    "logreg_selector.fit(X, y)\n",
    "logreg_selector.estimator_.coef_"
   ]
  },
  {
   "cell_type": "code",
   "execution_count": 21,
   "id": "1f8e84b5",
   "metadata": {},
   "outputs": [
    {
     "data": {
      "text/plain": [
       "0.2691230235063735"
      ]
     },
     "execution_count": 21,
     "metadata": {},
     "output_type": "execute_result"
    }
   ],
   "source": [
    "logreg_selector.threshold_"
   ]
  },
  {
   "cell_type": "code",
   "execution_count": 22,
   "id": "6ec81ff2",
   "metadata": {},
   "outputs": [
    {
     "data": {
      "text/plain": [
       "array([False, False, False, False, False, False, False, False,  True,\n",
       "       False,  True, False, False, False, False, False, False, False,\n",
       "       False, False, False, False, False,  True,  True, False,  True,\n",
       "       False,  True,  True])"
      ]
     },
     "execution_count": 22,
     "metadata": {},
     "output_type": "execute_result"
    }
   ],
   "source": [
    "logreg_selector.get_support()"
   ]
  },
  {
   "cell_type": "code",
   "execution_count": 23,
   "id": "3387b59f",
   "metadata": {},
   "outputs": [
    {
     "data": {
      "text/plain": [
       "(9000, 7)"
      ]
     },
     "execution_count": 23,
     "metadata": {},
     "output_type": "execute_result"
    }
   ],
   "source": [
    "X_logreg = logreg_selector.transform(X)\n",
    "X_logreg.shape"
   ]
  },
  {
   "cell_type": "code",
   "execution_count": 24,
   "id": "1fd4a8d8",
   "metadata": {},
   "outputs": [],
   "source": [
    "### Linear SVM - Regularization 0.001"
   ]
  },
  {
   "cell_type": "code",
   "execution_count": 25,
   "id": "c67e9bc7",
   "metadata": {},
   "outputs": [],
   "source": [
    "from sklearn.svm import LinearSVC"
   ]
  },
  {
   "cell_type": "code",
   "execution_count": 26,
   "id": "f690bbec",
   "metadata": {},
   "outputs": [
    {
     "data": {
      "text/plain": [
       "array([[-4.33766292e-03,  5.86834275e-06, -2.59201267e-02,\n",
       "        -2.71361059e-04,  1.50576697e-03, -1.04048959e-04,\n",
       "        -3.76073160e-02, -3.55821635e-02, -4.84191654e-02,\n",
       "        -4.38449960e-02,  1.16665882e-01, -2.64752269e-02,\n",
       "        -3.57895763e-02,  2.28341925e-02, -3.75743984e-02,\n",
       "        -9.81509089e-04, -4.21211068e-04, -5.95086574e-02,\n",
       "        -3.33029590e-02, -3.65109825e-02,  6.11048372e-03,\n",
       "         7.39124025e-03, -1.51904974e-02, -1.40847984e-01,\n",
       "        -8.33368810e-02, -8.71586431e-03, -1.11470666e-01,\n",
       "        -3.11499995e-02,  3.01653637e-01, -2.00315479e-01]])"
      ]
     },
     "execution_count": 26,
     "metadata": {},
     "output_type": "execute_result"
    }
   ],
   "source": [
    "svm_selector = SelectFromModel(estimator=LinearSVC(C=0.001, dual=False))\n",
    "svm_selector.fit(X, y)\n",
    "svm_selector.estimator_.coef_"
   ]
  },
  {
   "cell_type": "code",
   "execution_count": 27,
   "id": "112416be",
   "metadata": {},
   "outputs": [
    {
     "data": {
      "text/plain": [
       "0.04912819340148622"
      ]
     },
     "execution_count": 27,
     "metadata": {},
     "output_type": "execute_result"
    }
   ],
   "source": [
    "svm_selector.threshold_"
   ]
  },
  {
   "cell_type": "code",
   "execution_count": 28,
   "id": "1c25b625",
   "metadata": {},
   "outputs": [
    {
     "data": {
      "text/plain": [
       "array([False, False, False, False, False, False, False, False, False,\n",
       "       False,  True, False, False, False, False, False, False,  True,\n",
       "       False, False, False, False, False,  True,  True, False,  True,\n",
       "       False,  True,  True])"
      ]
     },
     "execution_count": 28,
     "metadata": {},
     "output_type": "execute_result"
    }
   ],
   "source": [
    "svm_selector.get_support()"
   ]
  },
  {
   "cell_type": "code",
   "execution_count": 29,
   "id": "5fe4b6ec",
   "metadata": {},
   "outputs": [],
   "source": [
    "X_svm = logreg_selector.transform(X)\n",
    "X_svm.shape\n",
    "X_svm = pd.DataFrame(X_svm)"
   ]
  },
  {
   "cell_type": "markdown",
   "id": "6934de2d",
   "metadata": {},
   "source": [
    "Export feature dataframe into the file feature1.csv"
   ]
  },
  {
   "cell_type": "code",
   "execution_count": 30,
   "id": "f0fb6328",
   "metadata": {},
   "outputs": [],
   "source": [
    "X_svm.to_csv('feature1.csv', index = False)"
   ]
  },
  {
   "cell_type": "markdown",
   "id": "9dacbdcf",
   "metadata": {},
   "source": [
    "### SelectKBest"
   ]
  },
  {
   "cell_type": "code",
   "execution_count": 31,
   "id": "c80c52e9",
   "metadata": {},
   "outputs": [
    {
     "data": {
      "text/html": [
       "<style>#sk-container-id-1 {color: black;background-color: white;}#sk-container-id-1 pre{padding: 0;}#sk-container-id-1 div.sk-toggleable {background-color: white;}#sk-container-id-1 label.sk-toggleable__label {cursor: pointer;display: block;width: 100%;margin-bottom: 0;padding: 0.3em;box-sizing: border-box;text-align: center;}#sk-container-id-1 label.sk-toggleable__label-arrow:before {content: \"▸\";float: left;margin-right: 0.25em;color: #696969;}#sk-container-id-1 label.sk-toggleable__label-arrow:hover:before {color: black;}#sk-container-id-1 div.sk-estimator:hover label.sk-toggleable__label-arrow:before {color: black;}#sk-container-id-1 div.sk-toggleable__content {max-height: 0;max-width: 0;overflow: hidden;text-align: left;background-color: #f0f8ff;}#sk-container-id-1 div.sk-toggleable__content pre {margin: 0.2em;color: black;border-radius: 0.25em;background-color: #f0f8ff;}#sk-container-id-1 input.sk-toggleable__control:checked~div.sk-toggleable__content {max-height: 200px;max-width: 100%;overflow: auto;}#sk-container-id-1 input.sk-toggleable__control:checked~label.sk-toggleable__label-arrow:before {content: \"▾\";}#sk-container-id-1 div.sk-estimator input.sk-toggleable__control:checked~label.sk-toggleable__label {background-color: #d4ebff;}#sk-container-id-1 div.sk-label input.sk-toggleable__control:checked~label.sk-toggleable__label {background-color: #d4ebff;}#sk-container-id-1 input.sk-hidden--visually {border: 0;clip: rect(1px 1px 1px 1px);clip: rect(1px, 1px, 1px, 1px);height: 1px;margin: -1px;overflow: hidden;padding: 0;position: absolute;width: 1px;}#sk-container-id-1 div.sk-estimator {font-family: monospace;background-color: #f0f8ff;border: 1px dotted black;border-radius: 0.25em;box-sizing: border-box;margin-bottom: 0.5em;}#sk-container-id-1 div.sk-estimator:hover {background-color: #d4ebff;}#sk-container-id-1 div.sk-parallel-item::after {content: \"\";width: 100%;border-bottom: 1px solid gray;flex-grow: 1;}#sk-container-id-1 div.sk-label:hover label.sk-toggleable__label {background-color: #d4ebff;}#sk-container-id-1 div.sk-serial::before {content: \"\";position: absolute;border-left: 1px solid gray;box-sizing: border-box;top: 0;bottom: 0;left: 50%;z-index: 0;}#sk-container-id-1 div.sk-serial {display: flex;flex-direction: column;align-items: center;background-color: white;padding-right: 0.2em;padding-left: 0.2em;position: relative;}#sk-container-id-1 div.sk-item {position: relative;z-index: 1;}#sk-container-id-1 div.sk-parallel {display: flex;align-items: stretch;justify-content: center;background-color: white;position: relative;}#sk-container-id-1 div.sk-item::before, #sk-container-id-1 div.sk-parallel-item::before {content: \"\";position: absolute;border-left: 1px solid gray;box-sizing: border-box;top: 0;bottom: 0;left: 50%;z-index: -1;}#sk-container-id-1 div.sk-parallel-item {display: flex;flex-direction: column;z-index: 1;position: relative;background-color: white;}#sk-container-id-1 div.sk-parallel-item:first-child::after {align-self: flex-end;width: 50%;}#sk-container-id-1 div.sk-parallel-item:last-child::after {align-self: flex-start;width: 50%;}#sk-container-id-1 div.sk-parallel-item:only-child::after {width: 0;}#sk-container-id-1 div.sk-dashed-wrapped {border: 1px dashed gray;margin: 0 0.4em 0.5em 0.4em;box-sizing: border-box;padding-bottom: 0.4em;background-color: white;}#sk-container-id-1 div.sk-label label {font-family: monospace;font-weight: bold;display: inline-block;line-height: 1.2em;}#sk-container-id-1 div.sk-label-container {text-align: center;}#sk-container-id-1 div.sk-container {/* jupyter's `normalize.less` sets `[hidden] { display: none; }` but bootstrap.min.css set `[hidden] { display: none !important; }` so we also need the `!important` here to be able to override the default hidden behavior on the sphinx rendered scikit-learn.org. See: https://github.com/scikit-learn/scikit-learn/issues/21755 */display: inline-block !important;position: relative;}#sk-container-id-1 div.sk-text-repr-fallback {display: none;}</style><div id=\"sk-container-id-1\" class=\"sk-top-container\"><div class=\"sk-text-repr-fallback\"><pre>SelectKBest(score_func=&lt;function mutual_info_classif at 0x000002A2EFE6DEA0&gt;)</pre><b>In a Jupyter environment, please rerun this cell to show the HTML representation or trust the notebook. <br />On GitHub, the HTML representation is unable to render, please try loading this page with nbviewer.org.</b></div><div class=\"sk-container\" hidden><div class=\"sk-item\"><div class=\"sk-estimator sk-toggleable\"><input class=\"sk-toggleable__control sk-hidden--visually\" id=\"sk-estimator-id-1\" type=\"checkbox\" checked><label for=\"sk-estimator-id-1\" class=\"sk-toggleable__label sk-toggleable__label-arrow\">SelectKBest</label><div class=\"sk-toggleable__content\"><pre>SelectKBest(score_func=&lt;function mutual_info_classif at 0x000002A2EFE6DEA0&gt;)</pre></div></div></div></div></div>"
      ],
      "text/plain": [
       "SelectKBest(score_func=<function mutual_info_classif at 0x000002A2EFE6DEA0>)"
      ]
     },
     "execution_count": 31,
     "metadata": {},
     "output_type": "execute_result"
    }
   ],
   "source": [
    "kbest_selector = SelectKBest(score_func=mutual_info_classif, k=10)\n",
    "kbest_selector.fit(X, y)"
   ]
  },
  {
   "cell_type": "code",
   "execution_count": 32,
   "id": "a5805111",
   "metadata": {},
   "outputs": [
    {
     "data": {
      "text/plain": [
       "array([ True, False, False,  True, False,  True, False, False, False,\n",
       "       False,  True, False, False, False, False,  True, False, False,\n",
       "       False, False, False,  True, False,  True, False, False,  True,\n",
       "       False,  True,  True])"
      ]
     },
     "execution_count": 32,
     "metadata": {},
     "output_type": "execute_result"
    }
   ],
   "source": [
    "kbest_selector.get_support()"
   ]
  },
  {
   "cell_type": "code",
   "execution_count": 33,
   "id": "c83c7203",
   "metadata": {},
   "outputs": [],
   "source": [
    "X_kbest = kbest_selector.transform(X)"
   ]
  },
  {
   "cell_type": "code",
   "execution_count": 34,
   "id": "c54e4440",
   "metadata": {},
   "outputs": [],
   "source": [
    "X_kbest.shape\n",
    "X_kbest = pd.DataFrame(X_kbest)"
   ]
  },
  {
   "cell_type": "code",
   "execution_count": 35,
   "id": "518f21b4",
   "metadata": {},
   "outputs": [],
   "source": [
    "X_kbest.to_csv('feature2.csv', index = False)"
   ]
  },
  {
   "cell_type": "code",
   "execution_count": 36,
   "id": "9b3840cb",
   "metadata": {},
   "outputs": [
    {
     "data": {
      "text/plain": [
       "array([ True,  True,  True,  True,  True,  True,  True,  True, False,\n",
       "        True,  True,  True,  True,  True,  True,  True,  True, False,\n",
       "        True,  True,  True,  True,  True,  True,  True,  True,  True,\n",
       "        True,  True,  True])"
      ]
     },
     "execution_count": 36,
     "metadata": {},
     "output_type": "execute_result"
    }
   ],
   "source": [
    "svm_selector.get_support() == logreg_selector.get_support()"
   ]
  },
  {
   "cell_type": "code",
   "execution_count": 37,
   "id": "9845667b",
   "metadata": {},
   "outputs": [
    {
     "data": {
      "text/plain": [
       "Index(['job_retired', 'marital_married', 'housing_yes', 'loan_yes',\n",
       "       'contact_unknown', 'poutcome_success', 'poutcome_unknown'],\n",
       "      dtype='object')"
      ]
     },
     "execution_count": 37,
     "metadata": {},
     "output_type": "execute_result"
    }
   ],
   "source": [
    "X.columns[svm_selector.get_support()]"
   ]
  },
  {
   "cell_type": "code",
   "execution_count": 38,
   "id": "a2acf517",
   "metadata": {},
   "outputs": [
    {
     "data": {
      "text/plain": [
       "Index(['job_housemaid', 'job_retired', 'housing_yes', 'loan_yes',\n",
       "       'contact_unknown', 'poutcome_success', 'poutcome_unknown'],\n",
       "      dtype='object')"
      ]
     },
     "execution_count": 38,
     "metadata": {},
     "output_type": "execute_result"
    }
   ],
   "source": [
    "X.columns[logreg_selector.get_support()]"
   ]
  },
  {
   "cell_type": "markdown",
   "id": "1ac8f32f",
   "metadata": {},
   "source": [
    "### Scaling"
   ]
  },
  {
   "cell_type": "code",
   "execution_count": 39,
   "id": "1b3c3f2a",
   "metadata": {},
   "outputs": [],
   "source": [
    "from sklearn.compose import ColumnTransformer\n",
    "from sklearn.pipeline import Pipeline\n",
    "\n",
    "scaler = RobustScaler()"
   ]
  },
  {
   "cell_type": "code",
   "execution_count": 40,
   "id": "3eb4d54f",
   "metadata": {},
   "outputs": [],
   "source": [
    "X_svm_scaled = scaler.fit_transform(X_svm)\n",
    "X_logreg_scaled = scaler.fit_transform(X_logreg)"
   ]
  },
  {
   "cell_type": "markdown",
   "id": "d0521e21",
   "metadata": {},
   "source": [
    "# 5. Classifier Modeling"
   ]
  },
  {
   "cell_type": "code",
   "execution_count": 41,
   "id": "e68c632b",
   "metadata": {},
   "outputs": [],
   "source": [
    "from sklearn.model_selection import train_test_split, cross_val_score\n",
    "from sklearn.naive_bayes import GaussianNB\n",
    "from sklearn.neighbors import KNeighborsClassifier\n",
    "from sklearn.tree import DecisionTreeClassifier\n",
    "from sklearn.ensemble import RandomForestClassifier\n",
    "from sklearn.pipeline import Pipeline\n",
    "from sklearn.preprocessing import StandardScaler\n",
    "from sklearn.model_selection import train_test_split, cross_val_score"
   ]
  },
  {
   "cell_type": "markdown",
   "id": "1e740ee1",
   "metadata": {},
   "source": [
    "### For SVM selected features"
   ]
  },
  {
   "cell_type": "code",
   "execution_count": 42,
   "id": "7ebea116",
   "metadata": {},
   "outputs": [],
   "source": [
    "X_train, X_test, y_train, y_test = train_test_split(X_svm_scaled, y, test_size=0.25, random_state=42)"
   ]
  },
  {
   "cell_type": "code",
   "execution_count": 43,
   "id": "f7122893",
   "metadata": {},
   "outputs": [],
   "source": [
    "classifiers = {\n",
    "    'Naive Bayes': Pipeline([('classifier', GaussianNB())]),\n",
    "    'KNN': Pipeline([('classifier', KNeighborsClassifier())]),\n",
    "    'Decision Tree': Pipeline([('classifier', DecisionTreeClassifier(max_depth = 5))]), # Modify there the parameters to the ones in demo\n",
    "    'Random Forest': Pipeline([('classifier', RandomForestClassifier(max_depth =5 , n_estimators= 1000))]),\n",
    "}"
   ]
  },
  {
   "cell_type": "code",
   "execution_count": 44,
   "id": "5420dc25",
   "metadata": {},
   "outputs": [],
   "source": [
    "num_folds = 3\n",
    "best_classifier = None\n",
    "best_accuracy = 0"
   ]
  },
  {
   "cell_type": "code",
   "execution_count": 45,
   "id": "0a6728af",
   "metadata": {},
   "outputs": [
    {
     "name": "stdout",
     "output_type": "stream",
     "text": [
      "Naive Bayes Mean Accuracy: 0.8711111111111111\n",
      "KNN Mean Accuracy: 0.8934814814814814\n",
      "Decision Tree Mean Accuracy: 0.8946666666666667\n",
      "Random Forest Mean Accuracy: 0.8946666666666667\n"
     ]
    }
   ],
   "source": [
    "# Here we loop through the classifiers\n",
    "for name, clf in classifiers.items():\n",
    "    # Cross validation\n",
    "    cv_scores = cross_val_score(clf, X_train, y_train, cv=num_folds)\n",
    "\n",
    "    # accuracy for comparing the classifiers\n",
    "    mean_accuracy = cv_scores.mean()\n",
    "\n",
    "    print(f'{name} Mean Accuracy: {mean_accuracy}')\n",
    "\n",
    "    if mean_accuracy > best_accuracy:\n",
    "        best_accuracy = mean_accuracy\n",
    "        best_classifier = clf"
   ]
  },
  {
   "cell_type": "code",
   "execution_count": 46,
   "id": "aa65f567",
   "metadata": {},
   "outputs": [
    {
     "name": "stdout",
     "output_type": "stream",
     "text": [
      "Best Classifier: Pipeline(steps=[('classifier', DecisionTreeClassifier(max_depth=5))])\n",
      "Best Classifier Test Accuracy:0.8955555555555555\n"
     ]
    }
   ],
   "source": [
    "best_classifier.fit(X_train, y_train)\n",
    "\n",
    "test_accuracy = best_classifier.score(X_test, y_test)\n",
    "print(f'Best Classifier: {best_classifier}')\n",
    "print(f'Best Classifier Test Accuracy:{test_accuracy}')"
   ]
  },
  {
   "cell_type": "markdown",
   "id": "4fe0cdda",
   "metadata": {},
   "source": [
    "### Logistic Regression features"
   ]
  },
  {
   "cell_type": "code",
   "execution_count": 48,
   "id": "e041d9b4",
   "metadata": {},
   "outputs": [],
   "source": [
    "X_train, X_test, y_train, y_test = train_test_split(X_logreg_scaled, y, test_size=0.25, random_state=42)"
   ]
  },
  {
   "cell_type": "code",
   "execution_count": 49,
   "id": "4b78248c",
   "metadata": {},
   "outputs": [],
   "source": [
    "num_folds = 3\n",
    "best_classifier = None\n",
    "best_accuracy = 0"
   ]
  },
  {
   "cell_type": "code",
   "execution_count": 50,
   "id": "3b179cb4",
   "metadata": {},
   "outputs": [
    {
     "name": "stdout",
     "output_type": "stream",
     "text": [
      "Naive Bayes Mean Accuracy: 0.8711111111111111\n",
      "KNN Mean Accuracy: 0.8934814814814814\n",
      "Decision Tree Mean Accuracy: 0.8946666666666667\n",
      "Random Forest Mean Accuracy: 0.8946666666666667\n"
     ]
    }
   ],
   "source": [
    "# Here we loop through the classifiers\n",
    "for name, clf in classifiers.items():\n",
    "    # Cross validation\n",
    "    cv_scores = cross_val_score(clf, X_train, y_train, cv=num_folds)\n",
    "\n",
    "    # accuracy for comparing the classifiers\n",
    "    mean_accuracy = cv_scores.mean()\n",
    "\n",
    "    print(f'{name} Mean Accuracy: {mean_accuracy}')\n",
    "\n",
    "    if mean_accuracy > best_accuracy:\n",
    "        best_accuracy = mean_accuracy\n",
    "        best_classifier = clf"
   ]
  },
  {
   "cell_type": "code",
   "execution_count": 51,
   "id": "bf99f9fb",
   "metadata": {},
   "outputs": [
    {
     "name": "stdout",
     "output_type": "stream",
     "text": [
      "Best Classifier: Pipeline(steps=[('classifier', DecisionTreeClassifier(max_depth=5))])\n",
      "Best Classifier Test Accuracy: 0.8955555555555555\n"
     ]
    }
   ],
   "source": [
    "best_classifier.fit(X_train, y_train)\n",
    "\n",
    "test_accuracy = best_classifier.score(X_test, y_test)\n",
    "print(f'Best Classifier: {best_classifier}')\n",
    "print(f'Best Classifier Test Accuracy: {test_accuracy}')"
   ]
  },
  {
   "cell_type": "markdown",
   "id": "bd8d228b",
   "metadata": {},
   "source": [
    "# 6. Classifier Model – The Second Try"
   ]
  },
  {
   "cell_type": "code",
   "execution_count": 52,
   "id": "9c87b9da",
   "metadata": {},
   "outputs": [],
   "source": [
    "from sklearn.feature_selection import SelectFromModel\n",
    "from sklearn.ensemble import RandomForestClassifier\n",
    "from sklearn.preprocessing import RobustScaler"
   ]
  },
  {
   "cell_type": "code",
   "execution_count": 53,
   "id": "242c11c3",
   "metadata": {},
   "outputs": [
    {
     "data": {
      "text/html": [
       "<div>\n",
       "<style scoped>\n",
       "    .dataframe tbody tr th:only-of-type {\n",
       "        vertical-align: middle;\n",
       "    }\n",
       "\n",
       "    .dataframe tbody tr th {\n",
       "        vertical-align: top;\n",
       "    }\n",
       "\n",
       "    .dataframe thead th {\n",
       "        text-align: right;\n",
       "    }\n",
       "</style>\n",
       "<table border=\"1\" class=\"dataframe\">\n",
       "  <thead>\n",
       "    <tr style=\"text-align: right;\">\n",
       "      <th></th>\n",
       "      <th>age</th>\n",
       "      <th>balance</th>\n",
       "      <th>campaign</th>\n",
       "      <th>pdays</th>\n",
       "      <th>previous</th>\n",
       "      <th>last_contact</th>\n",
       "      <th>job_blue-collar</th>\n",
       "      <th>job_entrepreneur</th>\n",
       "      <th>job_housemaid</th>\n",
       "      <th>job_management</th>\n",
       "      <th>...</th>\n",
       "      <th>education_unknown</th>\n",
       "      <th>default_yes</th>\n",
       "      <th>housing_yes</th>\n",
       "      <th>loan_yes</th>\n",
       "      <th>contact_telephone</th>\n",
       "      <th>contact_unknown</th>\n",
       "      <th>poutcome_other</th>\n",
       "      <th>poutcome_success</th>\n",
       "      <th>poutcome_unknown</th>\n",
       "      <th>y_yes</th>\n",
       "    </tr>\n",
       "  </thead>\n",
       "  <tbody>\n",
       "    <tr>\n",
       "      <th>0</th>\n",
       "      <td>58</td>\n",
       "      <td>2143</td>\n",
       "      <td>1</td>\n",
       "      <td>-1</td>\n",
       "      <td>0</td>\n",
       "      <td>197</td>\n",
       "      <td>0</td>\n",
       "      <td>0</td>\n",
       "      <td>0</td>\n",
       "      <td>1</td>\n",
       "      <td>...</td>\n",
       "      <td>0</td>\n",
       "      <td>0</td>\n",
       "      <td>1</td>\n",
       "      <td>0</td>\n",
       "      <td>0</td>\n",
       "      <td>1</td>\n",
       "      <td>0</td>\n",
       "      <td>0</td>\n",
       "      <td>1</td>\n",
       "      <td>0</td>\n",
       "    </tr>\n",
       "    <tr>\n",
       "      <th>1</th>\n",
       "      <td>33</td>\n",
       "      <td>2</td>\n",
       "      <td>1</td>\n",
       "      <td>-1</td>\n",
       "      <td>0</td>\n",
       "      <td>197</td>\n",
       "      <td>0</td>\n",
       "      <td>1</td>\n",
       "      <td>0</td>\n",
       "      <td>0</td>\n",
       "      <td>...</td>\n",
       "      <td>0</td>\n",
       "      <td>0</td>\n",
       "      <td>1</td>\n",
       "      <td>1</td>\n",
       "      <td>0</td>\n",
       "      <td>1</td>\n",
       "      <td>0</td>\n",
       "      <td>0</td>\n",
       "      <td>1</td>\n",
       "      <td>0</td>\n",
       "    </tr>\n",
       "    <tr>\n",
       "      <th>2</th>\n",
       "      <td>29</td>\n",
       "      <td>390</td>\n",
       "      <td>1</td>\n",
       "      <td>-1</td>\n",
       "      <td>0</td>\n",
       "      <td>197</td>\n",
       "      <td>0</td>\n",
       "      <td>0</td>\n",
       "      <td>0</td>\n",
       "      <td>0</td>\n",
       "      <td>...</td>\n",
       "      <td>0</td>\n",
       "      <td>0</td>\n",
       "      <td>1</td>\n",
       "      <td>0</td>\n",
       "      <td>0</td>\n",
       "      <td>1</td>\n",
       "      <td>0</td>\n",
       "      <td>0</td>\n",
       "      <td>1</td>\n",
       "      <td>0</td>\n",
       "    </tr>\n",
       "    <tr>\n",
       "      <th>3</th>\n",
       "      <td>53</td>\n",
       "      <td>6</td>\n",
       "      <td>1</td>\n",
       "      <td>-1</td>\n",
       "      <td>0</td>\n",
       "      <td>197</td>\n",
       "      <td>0</td>\n",
       "      <td>0</td>\n",
       "      <td>0</td>\n",
       "      <td>0</td>\n",
       "      <td>...</td>\n",
       "      <td>0</td>\n",
       "      <td>0</td>\n",
       "      <td>1</td>\n",
       "      <td>0</td>\n",
       "      <td>0</td>\n",
       "      <td>1</td>\n",
       "      <td>0</td>\n",
       "      <td>0</td>\n",
       "      <td>1</td>\n",
       "      <td>0</td>\n",
       "    </tr>\n",
       "    <tr>\n",
       "      <th>4</th>\n",
       "      <td>57</td>\n",
       "      <td>52</td>\n",
       "      <td>1</td>\n",
       "      <td>-1</td>\n",
       "      <td>0</td>\n",
       "      <td>197</td>\n",
       "      <td>1</td>\n",
       "      <td>0</td>\n",
       "      <td>0</td>\n",
       "      <td>0</td>\n",
       "      <td>...</td>\n",
       "      <td>0</td>\n",
       "      <td>0</td>\n",
       "      <td>1</td>\n",
       "      <td>0</td>\n",
       "      <td>0</td>\n",
       "      <td>1</td>\n",
       "      <td>0</td>\n",
       "      <td>0</td>\n",
       "      <td>1</td>\n",
       "      <td>0</td>\n",
       "    </tr>\n",
       "  </tbody>\n",
       "</table>\n",
       "<p>5 rows × 31 columns</p>\n",
       "</div>"
      ],
      "text/plain": [
       "   age  balance  campaign  pdays  previous  last_contact  job_blue-collar  \\\n",
       "0   58     2143         1     -1         0           197                0   \n",
       "1   33        2         1     -1         0           197                0   \n",
       "2   29      390         1     -1         0           197                0   \n",
       "3   53        6         1     -1         0           197                0   \n",
       "4   57       52         1     -1         0           197                1   \n",
       "\n",
       "   job_entrepreneur  job_housemaid  job_management  ...  education_unknown  \\\n",
       "0                 0              0               1  ...                  0   \n",
       "1                 1              0               0  ...                  0   \n",
       "2                 0              0               0  ...                  0   \n",
       "3                 0              0               0  ...                  0   \n",
       "4                 0              0               0  ...                  0   \n",
       "\n",
       "   default_yes  housing_yes  loan_yes  contact_telephone  contact_unknown  \\\n",
       "0            0            1         0                  0                1   \n",
       "1            0            1         1                  0                1   \n",
       "2            0            1         0                  0                1   \n",
       "3            0            1         0                  0                1   \n",
       "4            0            1         0                  0                1   \n",
       "\n",
       "   poutcome_other  poutcome_success  poutcome_unknown  y_yes  \n",
       "0               0                 0                 1      0  \n",
       "1               0                 0                 1      0  \n",
       "2               0                 0                 1      0  \n",
       "3               0                 0                 1      0  \n",
       "4               0                 0                 1      0  \n",
       "\n",
       "[5 rows x 31 columns]"
      ]
     },
     "execution_count": 53,
     "metadata": {},
     "output_type": "execute_result"
    }
   ],
   "source": [
    "#Convert all categorical values\n",
    "df2 = pd.get_dummies(df, drop_first=True)\n",
    "df2.head()"
   ]
  },
  {
   "cell_type": "code",
   "execution_count": 54,
   "id": "711af758",
   "metadata": {},
   "outputs": [
    {
     "name": "stdout",
     "output_type": "stream",
     "text": [
      "<class 'pandas.core.frame.DataFrame'>\n",
      "RangeIndex: 9000 entries, 0 to 8999\n",
      "Data columns (total 31 columns):\n",
      " #   Column               Non-Null Count  Dtype\n",
      "---  ------               --------------  -----\n",
      " 0   age                  9000 non-null   int64\n",
      " 1   balance              9000 non-null   int64\n",
      " 2   campaign             9000 non-null   int64\n",
      " 3   pdays                9000 non-null   int64\n",
      " 4   previous             9000 non-null   int64\n",
      " 5   last_contact         9000 non-null   int64\n",
      " 6   job_blue-collar      9000 non-null   uint8\n",
      " 7   job_entrepreneur     9000 non-null   uint8\n",
      " 8   job_housemaid        9000 non-null   uint8\n",
      " 9   job_management       9000 non-null   uint8\n",
      " 10  job_retired          9000 non-null   uint8\n",
      " 11  job_self-employed    9000 non-null   uint8\n",
      " 12  job_services         9000 non-null   uint8\n",
      " 13  job_student          9000 non-null   uint8\n",
      " 14  job_technician       9000 non-null   uint8\n",
      " 15  job_unemployed       9000 non-null   uint8\n",
      " 16  job_unknown          9000 non-null   uint8\n",
      " 17  marital_married      9000 non-null   uint8\n",
      " 18  marital_single       9000 non-null   uint8\n",
      " 19  education_secondary  9000 non-null   uint8\n",
      " 20  education_tertiary   9000 non-null   uint8\n",
      " 21  education_unknown    9000 non-null   uint8\n",
      " 22  default_yes          9000 non-null   uint8\n",
      " 23  housing_yes          9000 non-null   uint8\n",
      " 24  loan_yes             9000 non-null   uint8\n",
      " 25  contact_telephone    9000 non-null   uint8\n",
      " 26  contact_unknown      9000 non-null   uint8\n",
      " 27  poutcome_other       9000 non-null   uint8\n",
      " 28  poutcome_success     9000 non-null   uint8\n",
      " 29  poutcome_unknown     9000 non-null   uint8\n",
      " 30  y_yes                9000 non-null   uint8\n",
      "dtypes: int64(6), uint8(25)\n",
      "memory usage: 641.7 KB\n"
     ]
    }
   ],
   "source": [
    "df2.info()"
   ]
  },
  {
   "cell_type": "code",
   "execution_count": 55,
   "id": "ba713a5b",
   "metadata": {
    "scrolled": true
   },
   "outputs": [
    {
     "data": {
      "text/plain": [
       "age                    0\n",
       "balance                0\n",
       "campaign               0\n",
       "pdays                  0\n",
       "previous               0\n",
       "last_contact           0\n",
       "job_blue-collar        0\n",
       "job_entrepreneur       0\n",
       "job_housemaid          0\n",
       "job_management         0\n",
       "job_retired            0\n",
       "job_self-employed      0\n",
       "job_services           0\n",
       "job_student            0\n",
       "job_technician         0\n",
       "job_unemployed         0\n",
       "job_unknown            0\n",
       "marital_married        0\n",
       "marital_single         0\n",
       "education_secondary    0\n",
       "education_tertiary     0\n",
       "education_unknown      0\n",
       "default_yes            0\n",
       "housing_yes            0\n",
       "loan_yes               0\n",
       "contact_telephone      0\n",
       "contact_unknown        0\n",
       "poutcome_other         0\n",
       "poutcome_success       0\n",
       "poutcome_unknown       0\n",
       "y_yes                  0\n",
       "dtype: int64"
      ]
     },
     "execution_count": 55,
     "metadata": {},
     "output_type": "execute_result"
    }
   ],
   "source": [
    "# Check for null again\n",
    "df2.isnull().sum()"
   ]
  },
  {
   "cell_type": "markdown",
   "id": "f7c4cb76",
   "metadata": {},
   "source": [
    "### Define the predictors/features (X) and outcome/predictions (Y)"
   ]
  },
  {
   "cell_type": "code",
   "execution_count": 56,
   "id": "1b04f4ee",
   "metadata": {},
   "outputs": [
    {
     "data": {
      "text/plain": [
       "(9000, 30)"
      ]
     },
     "execution_count": 56,
     "metadata": {},
     "output_type": "execute_result"
    }
   ],
   "source": [
    "X2 = df2.drop(['y_yes'], axis=1)\n",
    "y2 = df2['y_yes']\n",
    "X.shape"
   ]
  },
  {
   "cell_type": "code",
   "execution_count": 109,
   "id": "a3b86897",
   "metadata": {},
   "outputs": [
    {
     "name": "stdout",
     "output_type": "stream",
     "text": [
      "[0 1]\n"
     ]
    }
   ],
   "source": [
    "variable_values = df2['y_yes'].unique()\n",
    "print(variable_values)"
   ]
  },
  {
   "cell_type": "code",
   "execution_count": 57,
   "id": "77abe17e",
   "metadata": {},
   "outputs": [],
   "source": [
    "feature_importance_threshold = 0.057  # Set your desired thresholdsfm = SelectFromModel(estimator=rf_classifier, threshold=feature_importance_threshold)"
   ]
  },
  {
   "cell_type": "code",
   "execution_count": 58,
   "id": "c8789ec5",
   "metadata": {},
   "outputs": [],
   "source": [
    "# Create an instance of SelectFromModel using RandomForestClassifier\n",
    "method2 = SelectFromModel(estimator=RandomForestClassifier(max_depth =5 , n_estimators= 10),threshold=feature_importance_threshold)"
   ]
  },
  {
   "cell_type": "code",
   "execution_count": 59,
   "id": "231af610",
   "metadata": {},
   "outputs": [
    {
     "data": {
      "text/html": [
       "<style>#sk-container-id-2 {color: black;background-color: white;}#sk-container-id-2 pre{padding: 0;}#sk-container-id-2 div.sk-toggleable {background-color: white;}#sk-container-id-2 label.sk-toggleable__label {cursor: pointer;display: block;width: 100%;margin-bottom: 0;padding: 0.3em;box-sizing: border-box;text-align: center;}#sk-container-id-2 label.sk-toggleable__label-arrow:before {content: \"▸\";float: left;margin-right: 0.25em;color: #696969;}#sk-container-id-2 label.sk-toggleable__label-arrow:hover:before {color: black;}#sk-container-id-2 div.sk-estimator:hover label.sk-toggleable__label-arrow:before {color: black;}#sk-container-id-2 div.sk-toggleable__content {max-height: 0;max-width: 0;overflow: hidden;text-align: left;background-color: #f0f8ff;}#sk-container-id-2 div.sk-toggleable__content pre {margin: 0.2em;color: black;border-radius: 0.25em;background-color: #f0f8ff;}#sk-container-id-2 input.sk-toggleable__control:checked~div.sk-toggleable__content {max-height: 200px;max-width: 100%;overflow: auto;}#sk-container-id-2 input.sk-toggleable__control:checked~label.sk-toggleable__label-arrow:before {content: \"▾\";}#sk-container-id-2 div.sk-estimator input.sk-toggleable__control:checked~label.sk-toggleable__label {background-color: #d4ebff;}#sk-container-id-2 div.sk-label input.sk-toggleable__control:checked~label.sk-toggleable__label {background-color: #d4ebff;}#sk-container-id-2 input.sk-hidden--visually {border: 0;clip: rect(1px 1px 1px 1px);clip: rect(1px, 1px, 1px, 1px);height: 1px;margin: -1px;overflow: hidden;padding: 0;position: absolute;width: 1px;}#sk-container-id-2 div.sk-estimator {font-family: monospace;background-color: #f0f8ff;border: 1px dotted black;border-radius: 0.25em;box-sizing: border-box;margin-bottom: 0.5em;}#sk-container-id-2 div.sk-estimator:hover {background-color: #d4ebff;}#sk-container-id-2 div.sk-parallel-item::after {content: \"\";width: 100%;border-bottom: 1px solid gray;flex-grow: 1;}#sk-container-id-2 div.sk-label:hover label.sk-toggleable__label {background-color: #d4ebff;}#sk-container-id-2 div.sk-serial::before {content: \"\";position: absolute;border-left: 1px solid gray;box-sizing: border-box;top: 0;bottom: 0;left: 50%;z-index: 0;}#sk-container-id-2 div.sk-serial {display: flex;flex-direction: column;align-items: center;background-color: white;padding-right: 0.2em;padding-left: 0.2em;position: relative;}#sk-container-id-2 div.sk-item {position: relative;z-index: 1;}#sk-container-id-2 div.sk-parallel {display: flex;align-items: stretch;justify-content: center;background-color: white;position: relative;}#sk-container-id-2 div.sk-item::before, #sk-container-id-2 div.sk-parallel-item::before {content: \"\";position: absolute;border-left: 1px solid gray;box-sizing: border-box;top: 0;bottom: 0;left: 50%;z-index: -1;}#sk-container-id-2 div.sk-parallel-item {display: flex;flex-direction: column;z-index: 1;position: relative;background-color: white;}#sk-container-id-2 div.sk-parallel-item:first-child::after {align-self: flex-end;width: 50%;}#sk-container-id-2 div.sk-parallel-item:last-child::after {align-self: flex-start;width: 50%;}#sk-container-id-2 div.sk-parallel-item:only-child::after {width: 0;}#sk-container-id-2 div.sk-dashed-wrapped {border: 1px dashed gray;margin: 0 0.4em 0.5em 0.4em;box-sizing: border-box;padding-bottom: 0.4em;background-color: white;}#sk-container-id-2 div.sk-label label {font-family: monospace;font-weight: bold;display: inline-block;line-height: 1.2em;}#sk-container-id-2 div.sk-label-container {text-align: center;}#sk-container-id-2 div.sk-container {/* jupyter's `normalize.less` sets `[hidden] { display: none; }` but bootstrap.min.css set `[hidden] { display: none !important; }` so we also need the `!important` here to be able to override the default hidden behavior on the sphinx rendered scikit-learn.org. See: https://github.com/scikit-learn/scikit-learn/issues/21755 */display: inline-block !important;position: relative;}#sk-container-id-2 div.sk-text-repr-fallback {display: none;}</style><div id=\"sk-container-id-2\" class=\"sk-top-container\"><div class=\"sk-text-repr-fallback\"><pre>SelectFromModel(estimator=RandomForestClassifier(max_depth=5, n_estimators=10),\n",
       "                threshold=0.057)</pre><b>In a Jupyter environment, please rerun this cell to show the HTML representation or trust the notebook. <br />On GitHub, the HTML representation is unable to render, please try loading this page with nbviewer.org.</b></div><div class=\"sk-container\" hidden><div class=\"sk-item sk-dashed-wrapped\"><div class=\"sk-label-container\"><div class=\"sk-label sk-toggleable\"><input class=\"sk-toggleable__control sk-hidden--visually\" id=\"sk-estimator-id-2\" type=\"checkbox\" ><label for=\"sk-estimator-id-2\" class=\"sk-toggleable__label sk-toggleable__label-arrow\">SelectFromModel</label><div class=\"sk-toggleable__content\"><pre>SelectFromModel(estimator=RandomForestClassifier(max_depth=5, n_estimators=10),\n",
       "                threshold=0.057)</pre></div></div></div><div class=\"sk-parallel\"><div class=\"sk-parallel-item\"><div class=\"sk-item\"><div class=\"sk-label-container\"><div class=\"sk-label sk-toggleable\"><input class=\"sk-toggleable__control sk-hidden--visually\" id=\"sk-estimator-id-3\" type=\"checkbox\" ><label for=\"sk-estimator-id-3\" class=\"sk-toggleable__label sk-toggleable__label-arrow\">estimator: RandomForestClassifier</label><div class=\"sk-toggleable__content\"><pre>RandomForestClassifier(max_depth=5, n_estimators=10)</pre></div></div></div><div class=\"sk-serial\"><div class=\"sk-item\"><div class=\"sk-estimator sk-toggleable\"><input class=\"sk-toggleable__control sk-hidden--visually\" id=\"sk-estimator-id-4\" type=\"checkbox\" ><label for=\"sk-estimator-id-4\" class=\"sk-toggleable__label sk-toggleable__label-arrow\">RandomForestClassifier</label><div class=\"sk-toggleable__content\"><pre>RandomForestClassifier(max_depth=5, n_estimators=10)</pre></div></div></div></div></div></div></div></div></div></div>"
      ],
      "text/plain": [
       "SelectFromModel(estimator=RandomForestClassifier(max_depth=5, n_estimators=10),\n",
       "                threshold=0.057)"
      ]
     },
     "execution_count": 59,
     "metadata": {},
     "output_type": "execute_result"
    }
   ],
   "source": [
    "# Fit the method on your data\n",
    "method2.fit(X2, y2)"
   ]
  },
  {
   "cell_type": "code",
   "execution_count": 60,
   "id": "b7dc451c",
   "metadata": {
    "scrolled": true
   },
   "outputs": [
    {
     "name": "stdout",
     "output_type": "stream",
     "text": [
      "[ True False False False False  True False False False False False False\n",
      " False False False False False False False False False False False False\n",
      " False False  True False  True  True]\n"
     ]
    }
   ],
   "source": [
    "feature_importances = method2.estimator_.feature_importances_\n",
    "print(feature_importances > 0.05)"
   ]
  },
  {
   "cell_type": "code",
   "execution_count": 61,
   "id": "de5ffce7",
   "metadata": {},
   "outputs": [],
   "source": [
    "# Get the selected features\n",
    "selected_features = X2.columns[method2.get_support()]"
   ]
  },
  {
   "cell_type": "code",
   "execution_count": 62,
   "id": "4006fcc4",
   "metadata": {
    "scrolled": true
   },
   "outputs": [
    {
     "name": "stdout",
     "output_type": "stream",
     "text": [
      "Selected Features:\n",
      "age\n",
      "last_contact\n",
      "contact_unknown\n",
      "poutcome_success\n",
      "poutcome_unknown\n",
      "Number of selected features: 5\n"
     ]
    }
   ],
   "source": [
    "# Print the selected features and their count\n",
    "print(\"Selected Features:\")\n",
    "for feature in selected_features:\n",
    "    print(feature)\n",
    "print(\"Number of selected features:\", len(selected_features))"
   ]
  },
  {
   "cell_type": "markdown",
   "id": "7b8df7e3",
   "metadata": {},
   "source": [
    "\n",
    "### Robust Scaling"
   ]
  },
  {
   "cell_type": "code",
   "execution_count": 63,
   "id": "52fa7b32",
   "metadata": {},
   "outputs": [],
   "source": [
    "scaler = RobustScaler()"
   ]
  },
  {
   "cell_type": "code",
   "execution_count": 64,
   "id": "c68af089",
   "metadata": {},
   "outputs": [],
   "source": [
    "X_scaled  = scaler.fit_transform(X[selected_features])"
   ]
  },
  {
   "cell_type": "markdown",
   "id": "2f4c462c",
   "metadata": {},
   "source": [
    "### Export feature dataframe into csv file"
   ]
  },
  {
   "cell_type": "code",
   "execution_count": 65,
   "id": "614fbddc",
   "metadata": {},
   "outputs": [],
   "source": [
    "# Create a DataFrame with scaled selected features\n",
    "feature_df = pd.DataFrame(X_scaled, columns=selected_features)\n",
    "\n",
    "# Save the feature dataframe to a CSV file named \"feature2.csv\"\n",
    "feature_df.to_csv('feature2.csv', index=False)"
   ]
  },
  {
   "cell_type": "markdown",
   "id": "90c5058c",
   "metadata": {},
   "source": [
    "### Implemented all the clasifiers stated in step 5"
   ]
  },
  {
   "cell_type": "code",
   "execution_count": 66,
   "id": "e2c14ed4",
   "metadata": {},
   "outputs": [
    {
     "name": "stdout",
     "output_type": "stream",
     "text": [
      "Naive Bayes Mean Accuracy: 0.8930370370370371\n",
      "KNN Mean Accuracy: 0.8854814814814814\n",
      "Decision Tree Mean Accuracy: 0.8922962962962964\n",
      "Random Forest Mean Accuracy: 0.8954074074074074\n",
      "Best Classifier: Pipeline(steps=[('classifier',\n",
      "                 RandomForestClassifier(max_depth=5, n_estimators=1000))])\n",
      "Best Classifier Test Accuracy:0.8968888888888888\n"
     ]
    }
   ],
   "source": [
    "X_train, X_test, y_train, y_test = train_test_split(X_scaled, y, test_size=0.25, random_state=42)\n",
    "\n",
    "classifiers = {\n",
    "    'Naive Bayes': Pipeline([('classifier', GaussianNB())]),\n",
    "    'KNN': Pipeline([('classifier', KNeighborsClassifier())]),\n",
    "    'Decision Tree': Pipeline([('classifier', DecisionTreeClassifier(max_depth = 5))]), # Modify there the parameters to the ones in demo\n",
    "    'Random Forest': Pipeline([('classifier', RandomForestClassifier(max_depth =5 , n_estimators= 1000))]),\n",
    "}\n",
    "\n",
    "num_folds = 3\n",
    "best_classifier = None\n",
    "best_accuracy = 0\n",
    "\n",
    "# Here we loop through the classifiers\n",
    "for name, clf in classifiers.items():\n",
    "    # Cross validation\n",
    "    cv_scores = cross_val_score(clf, X_train, y_train, cv=num_folds)\n",
    "\n",
    "    # accuracy for comparing the classifiers\n",
    "    mean_accuracy = cv_scores.mean()\n",
    "\n",
    "    print(f'{name} Mean Accuracy: {mean_accuracy}')\n",
    "\n",
    "    if mean_accuracy > best_accuracy:\n",
    "        best_accuracy = mean_accuracy\n",
    "        best_classifier = clf\n",
    "\n",
    "best_classifier.fit(X_train, y_train)\n",
    "\n",
    "test_accuracy = best_classifier.score(X_test, y_test)\n",
    "print(f'Best Classifier: {best_classifier}')\n",
    "print(f'Best Classifier Test Accuracy:{test_accuracy}')"
   ]
  },
  {
   "cell_type": "code",
   "execution_count": 67,
   "id": "20ed7928",
   "metadata": {},
   "outputs": [
    {
     "name": "stdout",
     "output_type": "stream",
     "text": [
      "Naive Bayes Mean Accuracy: 0.8930370370370371\n",
      "KNN Mean Accuracy: 0.8854814814814814\n",
      "Decision Tree Mean Accuracy: 0.8925925925925927\n",
      "Random Forest Mean Accuracy: 0.8954074074074074\n",
      "Best Classifier Training Accuracy: 0.8979259259259259\n",
      "\n",
      "Best Classifier Test Accuracy: Pipeline(steps=[('classifier',\n",
      "                 RandomForestClassifier(max_depth=5, n_estimators=1000))])\n",
      "Best Classifier Test Accuracy: 0.8964444444444445\n"
     ]
    }
   ],
   "source": [
    "### Logistic Regression features\n",
    "\n",
    "X_train, X_test, y_train, y_test = train_test_split(X_scaled, y, test_size=0.25, random_state=42)\n",
    "\n",
    "num_folds = 3\n",
    "best_classifier = None\n",
    "best_accuracy = 0\n",
    "\n",
    "# Here we loop through the classifiers\n",
    "for name, clf in classifiers.items():\n",
    "    # Cross validation\n",
    "    cv_scores = cross_val_score(clf, X_train, y_train, cv=num_folds)\n",
    "\n",
    "    # accuracy for comparing the classifiers\n",
    "    mean_accuracy = cv_scores.mean()\n",
    "\n",
    "    print(f'{name} Mean Accuracy: {mean_accuracy}')\n",
    "\n",
    "    if mean_accuracy > best_accuracy:\n",
    "        best_accuracy = mean_accuracy\n",
    "        best_classifier = clf\n",
    "\n",
    "best_classifier.fit(X_train, y_train)\n",
    "\n",
    "# Calculating and printing the training accuracy\n",
    "train_accuracy = best_classifier.score(X_train, y_train)\n",
    "print(f'Best Classifier Training Accuracy: {train_accuracy}')\n",
    "\n",
    "print()\n",
    "# Calculating and printing the test accuracy\n",
    "test_accuracy = best_classifier.score(X_test, y_test)\n",
    "print(f'Best Classifier Test Accuracy: {best_classifier}')\n",
    "print(f'Best Classifier Test Accuracy: {test_accuracy}')"
   ]
  },
  {
   "cell_type": "markdown",
   "id": "433cf10c",
   "metadata": {},
   "source": [
    "# 7. Model Evaluation"
   ]
  },
  {
   "cell_type": "code",
   "execution_count": 68,
   "id": "4f6797fa",
   "metadata": {},
   "outputs": [],
   "source": [
    "# PENDING\n",
    "# You should analyze the difference in the accuracy values obtained between the one obtained at step 5 and 6. You should also comment on the amount of features selected between the two results."
   ]
  },
  {
   "cell_type": "code",
   "execution_count": 69,
   "id": "e008c0ca",
   "metadata": {},
   "outputs": [],
   "source": [
    "from sklearn.model_selection import train_test_split\n",
    "from sklearn.ensemble import RandomForestClassifier\n",
    "from sklearn.metrics import confusion_matrix, classification_report, roc_curve, roc_auc_score\n",
    "import matplotlib.pyplot as plt"
   ]
  },
  {
   "cell_type": "code",
   "execution_count": 70,
   "id": "60181d58",
   "metadata": {},
   "outputs": [],
   "source": [
    "# Split the data into training and testing sets\n",
    "X_train, X_test, y_train, y_test = train_test_split(X_scaled, y, test_size=0.2, random_state=42)"
   ]
  },
  {
   "cell_type": "code",
   "execution_count": 71,
   "id": "b4a40765",
   "metadata": {},
   "outputs": [
    {
     "data": {
      "text/html": [
       "<style>#sk-container-id-3 {color: black;background-color: white;}#sk-container-id-3 pre{padding: 0;}#sk-container-id-3 div.sk-toggleable {background-color: white;}#sk-container-id-3 label.sk-toggleable__label {cursor: pointer;display: block;width: 100%;margin-bottom: 0;padding: 0.3em;box-sizing: border-box;text-align: center;}#sk-container-id-3 label.sk-toggleable__label-arrow:before {content: \"▸\";float: left;margin-right: 0.25em;color: #696969;}#sk-container-id-3 label.sk-toggleable__label-arrow:hover:before {color: black;}#sk-container-id-3 div.sk-estimator:hover label.sk-toggleable__label-arrow:before {color: black;}#sk-container-id-3 div.sk-toggleable__content {max-height: 0;max-width: 0;overflow: hidden;text-align: left;background-color: #f0f8ff;}#sk-container-id-3 div.sk-toggleable__content pre {margin: 0.2em;color: black;border-radius: 0.25em;background-color: #f0f8ff;}#sk-container-id-3 input.sk-toggleable__control:checked~div.sk-toggleable__content {max-height: 200px;max-width: 100%;overflow: auto;}#sk-container-id-3 input.sk-toggleable__control:checked~label.sk-toggleable__label-arrow:before {content: \"▾\";}#sk-container-id-3 div.sk-estimator input.sk-toggleable__control:checked~label.sk-toggleable__label {background-color: #d4ebff;}#sk-container-id-3 div.sk-label input.sk-toggleable__control:checked~label.sk-toggleable__label {background-color: #d4ebff;}#sk-container-id-3 input.sk-hidden--visually {border: 0;clip: rect(1px 1px 1px 1px);clip: rect(1px, 1px, 1px, 1px);height: 1px;margin: -1px;overflow: hidden;padding: 0;position: absolute;width: 1px;}#sk-container-id-3 div.sk-estimator {font-family: monospace;background-color: #f0f8ff;border: 1px dotted black;border-radius: 0.25em;box-sizing: border-box;margin-bottom: 0.5em;}#sk-container-id-3 div.sk-estimator:hover {background-color: #d4ebff;}#sk-container-id-3 div.sk-parallel-item::after {content: \"\";width: 100%;border-bottom: 1px solid gray;flex-grow: 1;}#sk-container-id-3 div.sk-label:hover label.sk-toggleable__label {background-color: #d4ebff;}#sk-container-id-3 div.sk-serial::before {content: \"\";position: absolute;border-left: 1px solid gray;box-sizing: border-box;top: 0;bottom: 0;left: 50%;z-index: 0;}#sk-container-id-3 div.sk-serial {display: flex;flex-direction: column;align-items: center;background-color: white;padding-right: 0.2em;padding-left: 0.2em;position: relative;}#sk-container-id-3 div.sk-item {position: relative;z-index: 1;}#sk-container-id-3 div.sk-parallel {display: flex;align-items: stretch;justify-content: center;background-color: white;position: relative;}#sk-container-id-3 div.sk-item::before, #sk-container-id-3 div.sk-parallel-item::before {content: \"\";position: absolute;border-left: 1px solid gray;box-sizing: border-box;top: 0;bottom: 0;left: 50%;z-index: -1;}#sk-container-id-3 div.sk-parallel-item {display: flex;flex-direction: column;z-index: 1;position: relative;background-color: white;}#sk-container-id-3 div.sk-parallel-item:first-child::after {align-self: flex-end;width: 50%;}#sk-container-id-3 div.sk-parallel-item:last-child::after {align-self: flex-start;width: 50%;}#sk-container-id-3 div.sk-parallel-item:only-child::after {width: 0;}#sk-container-id-3 div.sk-dashed-wrapped {border: 1px dashed gray;margin: 0 0.4em 0.5em 0.4em;box-sizing: border-box;padding-bottom: 0.4em;background-color: white;}#sk-container-id-3 div.sk-label label {font-family: monospace;font-weight: bold;display: inline-block;line-height: 1.2em;}#sk-container-id-3 div.sk-label-container {text-align: center;}#sk-container-id-3 div.sk-container {/* jupyter's `normalize.less` sets `[hidden] { display: none; }` but bootstrap.min.css set `[hidden] { display: none !important; }` so we also need the `!important` here to be able to override the default hidden behavior on the sphinx rendered scikit-learn.org. See: https://github.com/scikit-learn/scikit-learn/issues/21755 */display: inline-block !important;position: relative;}#sk-container-id-3 div.sk-text-repr-fallback {display: none;}</style><div id=\"sk-container-id-3\" class=\"sk-top-container\"><div class=\"sk-text-repr-fallback\"><pre>RandomForestClassifier(max_depth=5, n_estimators=1000)</pre><b>In a Jupyter environment, please rerun this cell to show the HTML representation or trust the notebook. <br />On GitHub, the HTML representation is unable to render, please try loading this page with nbviewer.org.</b></div><div class=\"sk-container\" hidden><div class=\"sk-item\"><div class=\"sk-estimator sk-toggleable\"><input class=\"sk-toggleable__control sk-hidden--visually\" id=\"sk-estimator-id-5\" type=\"checkbox\" checked><label for=\"sk-estimator-id-5\" class=\"sk-toggleable__label sk-toggleable__label-arrow\">RandomForestClassifier</label><div class=\"sk-toggleable__content\"><pre>RandomForestClassifier(max_depth=5, n_estimators=1000)</pre></div></div></div></div></div>"
      ],
      "text/plain": [
       "RandomForestClassifier(max_depth=5, n_estimators=1000)"
      ]
     },
     "execution_count": 71,
     "metadata": {},
     "output_type": "execute_result"
    }
   ],
   "source": [
    "# Train a RandomForestClassifier\n",
    "clf = RandomForestClassifier(max_depth =5 , n_estimators= 1000)\n",
    "clf.fit(X_train, y_train)"
   ]
  },
  {
   "cell_type": "code",
   "execution_count": 72,
   "id": "12076f1c",
   "metadata": {},
   "outputs": [],
   "source": [
    "# Make predictions\n",
    "y_pred = clf.predict(X_test)"
   ]
  },
  {
   "cell_type": "markdown",
   "id": "526accd5",
   "metadata": {},
   "source": [
    "### Confusion Matrix"
   ]
  },
  {
   "cell_type": "code",
   "execution_count": 73,
   "id": "b01797b3",
   "metadata": {},
   "outputs": [
    {
     "name": "stdout",
     "output_type": "stream",
     "text": [
      "Confusion Matrix:\n",
      "[[1581   27]\n",
      " [ 155   37]]\n"
     ]
    }
   ],
   "source": [
    "conf_matrix = confusion_matrix(y_test, y_pred)\n",
    "print(\"Confusion Matrix:\")\n",
    "print(conf_matrix)"
   ]
  },
  {
   "cell_type": "code",
   "execution_count": 74,
   "id": "3e1d0e54",
   "metadata": {},
   "outputs": [
    {
     "data": {
      "image/png": "[encoded data removed]",
      "text/plain": [
       "<Figure size 800x600 with 1 Axes>"
      ]
     },
     "metadata": {},
     "output_type": "display_data"
    }
   ],
   "source": [
    "# Plot confusion matrix as a heatmap\n",
    "plt.figure(figsize=(8, 6))\n",
    "sns.heatmap(conf_matrix, annot=True, fmt='d', cmap='Blues', cbar=False,\n",
    "            xticklabels=np.unique(y), yticklabels=np.unique(y))\n",
    "plt.xlabel('Predicted labels')\n",
    "plt.ylabel('True labels')\n",
    "plt.title('Confusion Matrix')\n",
    "plt.show()"
   ]
  },
  {
   "cell_type": "markdown",
   "id": "d1c1b88b",
   "metadata": {},
   "source": [
    "### Classification Report"
   ]
  },
  {
   "cell_type": "code",
   "execution_count": 75,
   "id": "165ea1dc",
   "metadata": {},
   "outputs": [
    {
     "name": "stdout",
     "output_type": "stream",
     "text": [
      "\n",
      "Classification Report:\n",
      "              precision    recall  f1-score   support\n",
      "\n",
      "           0       0.91      0.98      0.95      1608\n",
      "           1       0.58      0.19      0.29       192\n",
      "\n",
      "    accuracy                           0.90      1800\n",
      "   macro avg       0.74      0.59      0.62      1800\n",
      "weighted avg       0.88      0.90      0.88      1800\n",
      "\n"
     ]
    }
   ],
   "source": [
    "# Classification Report\n",
    "class_report = classification_report(y_test, y_pred)\n",
    "print(\"\\nClassification Report:\")\n",
    "print(class_report)"
   ]
  },
  {
   "cell_type": "markdown",
   "id": "8df5a5ac",
   "metadata": {},
   "source": [
    "### ROC Curve"
   ]
  },
  {
   "cell_type": "code",
   "execution_count": 76,
   "id": "cdb143d4",
   "metadata": {},
   "outputs": [
    {
     "data": {
      "image/png": "[encoded data removed]",
      "text/plain": [
       "<Figure size 800x600 with 1 Axes>"
      ]
     },
     "metadata": {},
     "output_type": "display_data"
    }
   ],
   "source": [
    "# ROC Curve\n",
    "y_probs = clf.predict_proba(X_test)[:, 1]\n",
    "fpr, tpr, thresholds = roc_curve(y_test, y_probs)\n",
    "plt.figure(figsize=(8, 6))\n",
    "plt.plot(fpr, tpr, label='ROC Curve')\n",
    "plt.plot([0, 1], [0, 1], 'k--', label='Random Guessing')\n",
    "plt.xlabel('False Positive Rate')\n",
    "plt.ylabel('True Positive Rate')\n",
    "plt.title('ROC Curve')\n",
    "plt.legend()\n",
    "plt.show()"
   ]
  },
  {
   "cell_type": "code",
   "execution_count": 77,
   "id": "583a7703",
   "metadata": {},
   "outputs": [],
   "source": [
    "#Analysis"
   ]
  },
  {
   "cell_type": "markdown",
   "id": "89a4b28a",
   "metadata": {},
   "source": [
    "# 8. Prediction"
   ]
  },
  {
   "cell_type": "code",
   "execution_count": 89,
   "id": "428ae528",
   "metadata": {},
   "outputs": [],
   "source": [
    "inputData = [[45, 8000, 'blue-collar', 'married','yes', 'cellular', 12, 300, 45, 'success'],\n",
    "            [45, 8000, 'retired','divorced', 'yes', 'telephone', 2, 1, 1, 'success'],\n",
    "            [45, 8000, 'unknown', 'unknown','no', 'telephone', 1, 1, 200, 'unknown'],\n",
    "            [45, 8000, 'students','single', 'no', 'cellular', 3, 90, 180, 'success']]\n",
    "\n",
    "df3 = pd.DataFrame(inputData, columns = ['age', 'balance','job', 'marital','housing','contact', \n",
    "                                       'campaign','pdays','last_contact','poutcome'])"
   ]
  },
  {
   "cell_type": "code",
   "execution_count": 79,
   "id": "fbe3ab3a",
   "metadata": {},
   "outputs": [],
   "source": [
    "df_cat = pd.get_dummies(df3, drop_first = False)"
   ]
  },
  {
   "cell_type": "code",
   "execution_count": 81,
   "id": "70812622",
   "metadata": {},
   "outputs": [
    {
     "data": {
      "text/plain": [
       "Index(['age', 'balance', 'campaign', 'pdays', 'last_contact',\n",
       "       'job_blue-collar', 'job_retired', 'job_students', 'job_unknown',\n",
       "       'marital_divorced', 'marital_married', 'marital_single',\n",
       "       'marital_unknown', 'housing_no', 'housing_yes', 'contact_cellular',\n",
       "       'contact_telephone', 'poutcome_success', 'poutcome_unknown'],\n",
       "      dtype='object')"
      ]
     },
     "execution_count": 81,
     "metadata": {},
     "output_type": "execute_result"
    }
   ],
   "source": [
    "df_cat.columns\n"
   ]
  },
  {
   "cell_type": "code",
   "execution_count": 83,
   "id": "09837e91",
   "metadata": {},
   "outputs": [
    {
     "data": {
      "text/plain": [
       "Index(['age', 'balance', 'campaign', 'pdays', 'previous', 'last_contact',\n",
       "       'job_blue-collar', 'job_entrepreneur', 'job_housemaid',\n",
       "       'job_management', 'job_retired', 'job_self-employed', 'job_services',\n",
       "       'job_student', 'job_technician', 'job_unemployed', 'job_unknown',\n",
       "       'marital_married', 'marital_single', 'education_secondary',\n",
       "       'education_tertiary', 'education_unknown', 'default_yes', 'housing_yes',\n",
       "       'loan_yes', 'contact_telephone', 'contact_unknown', 'poutcome_other',\n",
       "       'poutcome_success', 'poutcome_unknown', 'y_yes'],\n",
       "      dtype='object')"
      ]
     },
     "execution_count": 83,
     "metadata": {},
     "output_type": "execute_result"
    }
   ],
   "source": [
    "df2.columns"
   ]
  },
  {
   "cell_type": "code",
   "execution_count": 90,
   "id": "cf392900",
   "metadata": {},
   "outputs": [
    {
     "name": "stdout",
     "output_type": "stream",
     "text": [
      "{'poutcome_other', 'job_housemaid', 'job_technician', 'education_tertiary', 'job_services', 'job_student', 'job_management', 'loan_yes', 'default_yes', 'job_self-employed', 'education_secondary', 'education_unknown', 'job_entrepreneur', 'previous', 'job_unemployed', 'y_yes', 'contact_unknown'}\n"
     ]
    }
   ],
   "source": [
    "print(set(df2.columns) - set(df_cat.columns))"
   ]
  },
  {
   "cell_type": "code",
   "execution_count": 91,
   "id": "f4f629e0",
   "metadata": {},
   "outputs": [],
   "source": [
    "df_aux = pd.DataFrame(columns = df2.columns )"
   ]
  },
  {
   "cell_type": "code",
   "execution_count": 93,
   "id": "149ffb29",
   "metadata": {},
   "outputs": [],
   "source": [
    "df_aux[df_cat.columns] = df_cat"
   ]
  },
  {
   "cell_type": "code",
   "execution_count": 94,
   "id": "b808d19c",
   "metadata": {},
   "outputs": [
    {
     "data": {
      "text/html": [
       "<div>\n",
       "<style scoped>\n",
       "    .dataframe tbody tr th:only-of-type {\n",
       "        vertical-align: middle;\n",
       "    }\n",
       "\n",
       "    .dataframe tbody tr th {\n",
       "        vertical-align: top;\n",
       "    }\n",
       "\n",
       "    .dataframe thead th {\n",
       "        text-align: right;\n",
       "    }\n",
       "</style>\n",
       "<table border=\"1\" class=\"dataframe\">\n",
       "  <thead>\n",
       "    <tr style=\"text-align: right;\">\n",
       "      <th></th>\n",
       "      <th>age</th>\n",
       "      <th>balance</th>\n",
       "      <th>campaign</th>\n",
       "      <th>pdays</th>\n",
       "      <th>previous</th>\n",
       "      <th>last_contact</th>\n",
       "      <th>job_blue-collar</th>\n",
       "      <th>job_entrepreneur</th>\n",
       "      <th>job_housemaid</th>\n",
       "      <th>job_management</th>\n",
       "      <th>...</th>\n",
       "      <th>contact_unknown</th>\n",
       "      <th>poutcome_other</th>\n",
       "      <th>poutcome_success</th>\n",
       "      <th>poutcome_unknown</th>\n",
       "      <th>y_yes</th>\n",
       "      <th>job_students</th>\n",
       "      <th>marital_divorced</th>\n",
       "      <th>marital_unknown</th>\n",
       "      <th>housing_no</th>\n",
       "      <th>contact_cellular</th>\n",
       "    </tr>\n",
       "  </thead>\n",
       "  <tbody>\n",
       "    <tr>\n",
       "      <th>0</th>\n",
       "      <td>45</td>\n",
       "      <td>8000</td>\n",
       "      <td>12</td>\n",
       "      <td>300</td>\n",
       "      <td>NaN</td>\n",
       "      <td>45</td>\n",
       "      <td>1</td>\n",
       "      <td>NaN</td>\n",
       "      <td>NaN</td>\n",
       "      <td>NaN</td>\n",
       "      <td>...</td>\n",
       "      <td>NaN</td>\n",
       "      <td>NaN</td>\n",
       "      <td>1</td>\n",
       "      <td>0</td>\n",
       "      <td>NaN</td>\n",
       "      <td>0</td>\n",
       "      <td>0</td>\n",
       "      <td>0</td>\n",
       "      <td>0</td>\n",
       "      <td>1</td>\n",
       "    </tr>\n",
       "    <tr>\n",
       "      <th>1</th>\n",
       "      <td>45</td>\n",
       "      <td>8000</td>\n",
       "      <td>2</td>\n",
       "      <td>1</td>\n",
       "      <td>NaN</td>\n",
       "      <td>1</td>\n",
       "      <td>0</td>\n",
       "      <td>NaN</td>\n",
       "      <td>NaN</td>\n",
       "      <td>NaN</td>\n",
       "      <td>...</td>\n",
       "      <td>NaN</td>\n",
       "      <td>NaN</td>\n",
       "      <td>1</td>\n",
       "      <td>0</td>\n",
       "      <td>NaN</td>\n",
       "      <td>0</td>\n",
       "      <td>1</td>\n",
       "      <td>0</td>\n",
       "      <td>0</td>\n",
       "      <td>0</td>\n",
       "    </tr>\n",
       "    <tr>\n",
       "      <th>2</th>\n",
       "      <td>45</td>\n",
       "      <td>8000</td>\n",
       "      <td>1</td>\n",
       "      <td>1</td>\n",
       "      <td>NaN</td>\n",
       "      <td>200</td>\n",
       "      <td>0</td>\n",
       "      <td>NaN</td>\n",
       "      <td>NaN</td>\n",
       "      <td>NaN</td>\n",
       "      <td>...</td>\n",
       "      <td>NaN</td>\n",
       "      <td>NaN</td>\n",
       "      <td>0</td>\n",
       "      <td>1</td>\n",
       "      <td>NaN</td>\n",
       "      <td>0</td>\n",
       "      <td>0</td>\n",
       "      <td>1</td>\n",
       "      <td>1</td>\n",
       "      <td>0</td>\n",
       "    </tr>\n",
       "    <tr>\n",
       "      <th>3</th>\n",
       "      <td>45</td>\n",
       "      <td>8000</td>\n",
       "      <td>3</td>\n",
       "      <td>90</td>\n",
       "      <td>NaN</td>\n",
       "      <td>180</td>\n",
       "      <td>0</td>\n",
       "      <td>NaN</td>\n",
       "      <td>NaN</td>\n",
       "      <td>NaN</td>\n",
       "      <td>...</td>\n",
       "      <td>NaN</td>\n",
       "      <td>NaN</td>\n",
       "      <td>1</td>\n",
       "      <td>0</td>\n",
       "      <td>NaN</td>\n",
       "      <td>1</td>\n",
       "      <td>0</td>\n",
       "      <td>0</td>\n",
       "      <td>1</td>\n",
       "      <td>1</td>\n",
       "    </tr>\n",
       "  </tbody>\n",
       "</table>\n",
       "<p>4 rows × 36 columns</p>\n",
       "</div>"
      ],
      "text/plain": [
       "   age  balance  campaign  pdays previous  last_contact  job_blue-collar  \\\n",
       "0   45     8000        12    300      NaN            45                1   \n",
       "1   45     8000         2      1      NaN             1                0   \n",
       "2   45     8000         1      1      NaN           200                0   \n",
       "3   45     8000         3     90      NaN           180                0   \n",
       "\n",
       "  job_entrepreneur job_housemaid job_management  ...  contact_unknown  \\\n",
       "0              NaN           NaN            NaN  ...              NaN   \n",
       "1              NaN           NaN            NaN  ...              NaN   \n",
       "2              NaN           NaN            NaN  ...              NaN   \n",
       "3              NaN           NaN            NaN  ...              NaN   \n",
       "\n",
       "  poutcome_other poutcome_success poutcome_unknown y_yes job_students  \\\n",
       "0            NaN                1                0   NaN            0   \n",
       "1            NaN                1                0   NaN            0   \n",
       "2            NaN                0                1   NaN            0   \n",
       "3            NaN                1                0   NaN            1   \n",
       "\n",
       "   marital_divorced  marital_unknown  housing_no contact_cellular  \n",
       "0                 0                0           0                1  \n",
       "1                 1                0           0                0  \n",
       "2                 0                1           1                0  \n",
       "3                 0                0           1                1  \n",
       "\n",
       "[4 rows x 36 columns]"
      ]
     },
     "execution_count": 94,
     "metadata": {},
     "output_type": "execute_result"
    }
   ],
   "source": [
    "df_aux.head()"
   ]
  },
  {
   "cell_type": "code",
   "execution_count": 95,
   "id": "dcb9137d",
   "metadata": {},
   "outputs": [],
   "source": [
    "excl_cols = set(df2.columns) - set(df_cat.columns)"
   ]
  },
  {
   "cell_type": "code",
   "execution_count": 97,
   "id": "cb23dc89",
   "metadata": {},
   "outputs": [],
   "source": [
    "df_aux[list(excl_cols)] = 0"
   ]
  },
  {
   "cell_type": "code",
   "execution_count": 98,
   "id": "800553e1",
   "metadata": {},
   "outputs": [
    {
     "data": {
      "text/html": [
       "<div>\n",
       "<style scoped>\n",
       "    .dataframe tbody tr th:only-of-type {\n",
       "        vertical-align: middle;\n",
       "    }\n",
       "\n",
       "    .dataframe tbody tr th {\n",
       "        vertical-align: top;\n",
       "    }\n",
       "\n",
       "    .dataframe thead th {\n",
       "        text-align: right;\n",
       "    }\n",
       "</style>\n",
       "<table border=\"1\" class=\"dataframe\">\n",
       "  <thead>\n",
       "    <tr style=\"text-align: right;\">\n",
       "      <th></th>\n",
       "      <th>age</th>\n",
       "      <th>balance</th>\n",
       "      <th>campaign</th>\n",
       "      <th>pdays</th>\n",
       "      <th>previous</th>\n",
       "      <th>last_contact</th>\n",
       "      <th>job_blue-collar</th>\n",
       "      <th>job_entrepreneur</th>\n",
       "      <th>job_housemaid</th>\n",
       "      <th>job_management</th>\n",
       "      <th>...</th>\n",
       "      <th>contact_unknown</th>\n",
       "      <th>poutcome_other</th>\n",
       "      <th>poutcome_success</th>\n",
       "      <th>poutcome_unknown</th>\n",
       "      <th>y_yes</th>\n",
       "      <th>job_students</th>\n",
       "      <th>marital_divorced</th>\n",
       "      <th>marital_unknown</th>\n",
       "      <th>housing_no</th>\n",
       "      <th>contact_cellular</th>\n",
       "    </tr>\n",
       "  </thead>\n",
       "  <tbody>\n",
       "    <tr>\n",
       "      <th>0</th>\n",
       "      <td>45</td>\n",
       "      <td>8000</td>\n",
       "      <td>12</td>\n",
       "      <td>300</td>\n",
       "      <td>0</td>\n",
       "      <td>45</td>\n",
       "      <td>1</td>\n",
       "      <td>0</td>\n",
       "      <td>0</td>\n",
       "      <td>0</td>\n",
       "      <td>...</td>\n",
       "      <td>0</td>\n",
       "      <td>0</td>\n",
       "      <td>1</td>\n",
       "      <td>0</td>\n",
       "      <td>0</td>\n",
       "      <td>0</td>\n",
       "      <td>0</td>\n",
       "      <td>0</td>\n",
       "      <td>0</td>\n",
       "      <td>1</td>\n",
       "    </tr>\n",
       "    <tr>\n",
       "      <th>1</th>\n",
       "      <td>45</td>\n",
       "      <td>8000</td>\n",
       "      <td>2</td>\n",
       "      <td>1</td>\n",
       "      <td>0</td>\n",
       "      <td>1</td>\n",
       "      <td>0</td>\n",
       "      <td>0</td>\n",
       "      <td>0</td>\n",
       "      <td>0</td>\n",
       "      <td>...</td>\n",
       "      <td>0</td>\n",
       "      <td>0</td>\n",
       "      <td>1</td>\n",
       "      <td>0</td>\n",
       "      <td>0</td>\n",
       "      <td>0</td>\n",
       "      <td>1</td>\n",
       "      <td>0</td>\n",
       "      <td>0</td>\n",
       "      <td>0</td>\n",
       "    </tr>\n",
       "    <tr>\n",
       "      <th>2</th>\n",
       "      <td>45</td>\n",
       "      <td>8000</td>\n",
       "      <td>1</td>\n",
       "      <td>1</td>\n",
       "      <td>0</td>\n",
       "      <td>200</td>\n",
       "      <td>0</td>\n",
       "      <td>0</td>\n",
       "      <td>0</td>\n",
       "      <td>0</td>\n",
       "      <td>...</td>\n",
       "      <td>0</td>\n",
       "      <td>0</td>\n",
       "      <td>0</td>\n",
       "      <td>1</td>\n",
       "      <td>0</td>\n",
       "      <td>0</td>\n",
       "      <td>0</td>\n",
       "      <td>1</td>\n",
       "      <td>1</td>\n",
       "      <td>0</td>\n",
       "    </tr>\n",
       "    <tr>\n",
       "      <th>3</th>\n",
       "      <td>45</td>\n",
       "      <td>8000</td>\n",
       "      <td>3</td>\n",
       "      <td>90</td>\n",
       "      <td>0</td>\n",
       "      <td>180</td>\n",
       "      <td>0</td>\n",
       "      <td>0</td>\n",
       "      <td>0</td>\n",
       "      <td>0</td>\n",
       "      <td>...</td>\n",
       "      <td>0</td>\n",
       "      <td>0</td>\n",
       "      <td>1</td>\n",
       "      <td>0</td>\n",
       "      <td>0</td>\n",
       "      <td>1</td>\n",
       "      <td>0</td>\n",
       "      <td>0</td>\n",
       "      <td>1</td>\n",
       "      <td>1</td>\n",
       "    </tr>\n",
       "  </tbody>\n",
       "</table>\n",
       "<p>4 rows × 36 columns</p>\n",
       "</div>"
      ],
      "text/plain": [
       "   age  balance  campaign  pdays  previous  last_contact  job_blue-collar  \\\n",
       "0   45     8000        12    300         0            45                1   \n",
       "1   45     8000         2      1         0             1                0   \n",
       "2   45     8000         1      1         0           200                0   \n",
       "3   45     8000         3     90         0           180                0   \n",
       "\n",
       "   job_entrepreneur  job_housemaid  job_management  ...  contact_unknown  \\\n",
       "0                 0              0               0  ...                0   \n",
       "1                 0              0               0  ...                0   \n",
       "2                 0              0               0  ...                0   \n",
       "3                 0              0               0  ...                0   \n",
       "\n",
       "   poutcome_other  poutcome_success  poutcome_unknown  y_yes  job_students  \\\n",
       "0               0                 1                 0      0             0   \n",
       "1               0                 1                 0      0             0   \n",
       "2               0                 0                 1      0             0   \n",
       "3               0                 1                 0      0             1   \n",
       "\n",
       "   marital_divorced  marital_unknown  housing_no  contact_cellular  \n",
       "0                 0                0           0                 1  \n",
       "1                 1                0           0                 0  \n",
       "2                 0                1           1                 0  \n",
       "3                 0                0           1                 1  \n",
       "\n",
       "[4 rows x 36 columns]"
      ]
     },
     "execution_count": 98,
     "metadata": {},
     "output_type": "execute_result"
    }
   ],
   "source": [
    "df_aux.head()"
   ]
  },
  {
   "cell_type": "code",
   "execution_count": 119,
   "id": "37d135d5",
   "metadata": {},
   "outputs": [],
   "source": [
    "X_new = df_aux.filter(selected_features, axis = 1)\n"
   ]
  },
  {
   "cell_type": "code",
   "execution_count": 120,
   "id": "c6490d7a",
   "metadata": {},
   "outputs": [],
   "source": [
    "df_scaled = scaler.transform(X_new)"
   ]
  },
  {
   "cell_type": "code",
   "execution_count": 121,
   "id": "88b774f7",
   "metadata": {},
   "outputs": [],
   "source": [
    "y_new_predicted = clf.predict(df_scaled)"
   ]
  },
  {
   "cell_type": "code",
   "execution_count": 122,
   "id": "c35bb283",
   "metadata": {},
   "outputs": [
    {
     "data": {
      "text/plain": [
       "array([1, 1, 0, 1], dtype=uint8)"
      ]
     },
     "execution_count": 122,
     "metadata": {},
     "output_type": "execute_result"
    }
   ],
   "source": [
    "y_new_predicted"
   ]
  },
  {
   "cell_type": "markdown",
   "id": "364a50cf",
   "metadata": {},
   "source": [
    "### Finfings and analysis of results "
   ]
  },
  {
   "cell_type": "code",
   "execution_count": 124,
   "id": "83deaa07",
   "metadata": {},
   "outputs": [
    {
     "name": "stdout",
     "output_type": "stream",
     "text": [
      "Feature Importances:\n",
      "            Feature  Importance\n",
      "3  poutcome_success    0.449762\n",
      "0               age    0.226817\n",
      "1      last_contact    0.196187\n",
      "2   contact_unknown    0.073870\n",
      "4  poutcome_unknown    0.053364\n"
     ]
    }
   ],
   "source": [
    "feature_importances = clf.feature_importances_\n",
    "importance_df = pd.DataFrame({'Feature': X_new.columns, 'Importance': feature_importances})\n",
    "\n",
    "\n",
    "importance_df = importance_df.sort_values(by='Importance', ascending=False)\n",
    "\n",
    "print(\"Feature Importances:\")\n",
    "print(importance_df)"
   ]
  },
  {
   "cell_type": "markdown",
   "id": "84fbb959",
   "metadata": {},
   "source": [
    "Based on the predictive results for this new data and the model's feature importance, we recommend that the management focus marketing campaigns on customers who have previously subscribed to a term deposit. Additionally, at an operational level, we advise the management to reinforce the process of recording the outcomes of previous campaigns.\n",
    "\n",
    "It's worth noting that the customer information for the record predicted as 'No' shows atypical characteristics, such as an unusual age value and a last contact that occurred 200 days ago. However, the number of days does not seem to influence the prediction for the last record, where the customer was contacted 180 days prior. This discrepancy might be attributed to the outcome having a value of 'success.'  "
   ]
  },
  {
   "cell_type": "code",
   "execution_count": 140,
   "id": "72d7c8cf",
   "metadata": {},
   "outputs": [
    {
     "data": {
      "text/html": [
       "<div>\n",
       "<style scoped>\n",
       "    .dataframe tbody tr th:only-of-type {\n",
       "        vertical-align: middle;\n",
       "    }\n",
       "\n",
       "    .dataframe tbody tr th {\n",
       "        vertical-align: top;\n",
       "    }\n",
       "\n",
       "    .dataframe thead th {\n",
       "        text-align: right;\n",
       "    }\n",
       "</style>\n",
       "<table border=\"1\" class=\"dataframe\">\n",
       "  <thead>\n",
       "    <tr style=\"text-align: right;\">\n",
       "      <th></th>\n",
       "      <th>age</th>\n",
       "      <th>job</th>\n",
       "      <th>marital</th>\n",
       "      <th>education</th>\n",
       "      <th>default</th>\n",
       "      <th>balance</th>\n",
       "      <th>housing</th>\n",
       "      <th>loan</th>\n",
       "      <th>contact</th>\n",
       "      <th>campaign</th>\n",
       "      <th>pdays</th>\n",
       "      <th>previous</th>\n",
       "      <th>poutcome</th>\n",
       "      <th>y</th>\n",
       "      <th>last_contact</th>\n",
       "    </tr>\n",
       "  </thead>\n",
       "  <tbody>\n",
       "    <tr>\n",
       "      <th>0</th>\n",
       "      <td>58</td>\n",
       "      <td>management</td>\n",
       "      <td>married</td>\n",
       "      <td>tertiary</td>\n",
       "      <td>no</td>\n",
       "      <td>2143</td>\n",
       "      <td>yes</td>\n",
       "      <td>no</td>\n",
       "      <td>unknown</td>\n",
       "      <td>1</td>\n",
       "      <td>-1</td>\n",
       "      <td>0</td>\n",
       "      <td>unknown</td>\n",
       "      <td>no</td>\n",
       "      <td>197</td>\n",
       "    </tr>\n",
       "    <tr>\n",
       "      <th>1</th>\n",
       "      <td>33</td>\n",
       "      <td>entrepreneur</td>\n",
       "      <td>married</td>\n",
       "      <td>secondary</td>\n",
       "      <td>no</td>\n",
       "      <td>2</td>\n",
       "      <td>yes</td>\n",
       "      <td>yes</td>\n",
       "      <td>unknown</td>\n",
       "      <td>1</td>\n",
       "      <td>-1</td>\n",
       "      <td>0</td>\n",
       "      <td>unknown</td>\n",
       "      <td>no</td>\n",
       "      <td>197</td>\n",
       "    </tr>\n",
       "    <tr>\n",
       "      <th>2</th>\n",
       "      <td>29</td>\n",
       "      <td>admin.</td>\n",
       "      <td>single</td>\n",
       "      <td>secondary</td>\n",
       "      <td>no</td>\n",
       "      <td>390</td>\n",
       "      <td>yes</td>\n",
       "      <td>no</td>\n",
       "      <td>unknown</td>\n",
       "      <td>1</td>\n",
       "      <td>-1</td>\n",
       "      <td>0</td>\n",
       "      <td>unknown</td>\n",
       "      <td>no</td>\n",
       "      <td>197</td>\n",
       "    </tr>\n",
       "    <tr>\n",
       "      <th>3</th>\n",
       "      <td>53</td>\n",
       "      <td>technician</td>\n",
       "      <td>married</td>\n",
       "      <td>secondary</td>\n",
       "      <td>no</td>\n",
       "      <td>6</td>\n",
       "      <td>yes</td>\n",
       "      <td>no</td>\n",
       "      <td>unknown</td>\n",
       "      <td>1</td>\n",
       "      <td>-1</td>\n",
       "      <td>0</td>\n",
       "      <td>unknown</td>\n",
       "      <td>no</td>\n",
       "      <td>197</td>\n",
       "    </tr>\n",
       "    <tr>\n",
       "      <th>4</th>\n",
       "      <td>57</td>\n",
       "      <td>blue-collar</td>\n",
       "      <td>married</td>\n",
       "      <td>primary</td>\n",
       "      <td>no</td>\n",
       "      <td>52</td>\n",
       "      <td>yes</td>\n",
       "      <td>no</td>\n",
       "      <td>unknown</td>\n",
       "      <td>1</td>\n",
       "      <td>-1</td>\n",
       "      <td>0</td>\n",
       "      <td>unknown</td>\n",
       "      <td>no</td>\n",
       "      <td>197</td>\n",
       "    </tr>\n",
       "  </tbody>\n",
       "</table>\n",
       "</div>"
      ],
      "text/plain": [
       "   age           job  marital  education default  balance housing loan  \\\n",
       "0   58    management  married   tertiary      no     2143     yes   no   \n",
       "1   33  entrepreneur  married  secondary      no        2     yes  yes   \n",
       "2   29        admin.   single  secondary      no      390     yes   no   \n",
       "3   53    technician  married  secondary      no        6     yes   no   \n",
       "4   57   blue-collar  married    primary      no       52     yes   no   \n",
       "\n",
       "   contact  campaign  pdays  previous poutcome   y  last_contact  \n",
       "0  unknown         1     -1         0  unknown  no           197  \n",
       "1  unknown         1     -1         0  unknown  no           197  \n",
       "2  unknown         1     -1         0  unknown  no           197  \n",
       "3  unknown         1     -1         0  unknown  no           197  \n",
       "4  unknown         1     -1         0  unknown  no           197  "
      ]
     },
     "execution_count": 140,
     "metadata": {},
     "output_type": "execute_result"
    }
   ],
   "source": [
    "# To review y_yes by values of p_outcome\n",
    "result = df[df2['y_yes'] == 0]\n",
    "result.head()\n"
   ]
  },
  {
   "cell_type": "code",
   "execution_count": 133,
   "id": "187cf753",
   "metadata": {},
   "outputs": [
    {
     "data": {
      "text/plain": [
       "unknown    668\n",
       "success    191\n",
       "failure    119\n",
       "other       53\n",
       "Name: poutcome, dtype: int64"
      ]
     },
     "execution_count": 133,
     "metadata": {},
     "output_type": "execute_result"
    }
   ],
   "source": [
    "result['poutcome'].value_counts()"
   ]
  },
  {
   "cell_type": "code",
   "execution_count": 138,
   "id": "918fd48d",
   "metadata": {},
   "outputs": [],
   "source": [
    "result2 = df2[df2['y_yes'] == 0]\n",
    "result3 = result2[selected_features]"
   ]
  },
  {
   "cell_type": "code",
   "execution_count": 139,
   "id": "567d3717",
   "metadata": {},
   "outputs": [
    {
     "data": {
      "text/html": [
       "<div>\n",
       "<style scoped>\n",
       "    .dataframe tbody tr th:only-of-type {\n",
       "        vertical-align: middle;\n",
       "    }\n",
       "\n",
       "    .dataframe tbody tr th {\n",
       "        vertical-align: top;\n",
       "    }\n",
       "\n",
       "    .dataframe thead th {\n",
       "        text-align: right;\n",
       "    }\n",
       "</style>\n",
       "<table border=\"1\" class=\"dataframe\">\n",
       "  <thead>\n",
       "    <tr style=\"text-align: right;\">\n",
       "      <th></th>\n",
       "      <th>age</th>\n",
       "      <th>last_contact</th>\n",
       "      <th>contact_unknown</th>\n",
       "      <th>poutcome_success</th>\n",
       "      <th>poutcome_unknown</th>\n",
       "    </tr>\n",
       "  </thead>\n",
       "  <tbody>\n",
       "    <tr>\n",
       "      <th>count</th>\n",
       "      <td>7969.000000</td>\n",
       "      <td>7969.000000</td>\n",
       "      <td>7969.000000</td>\n",
       "      <td>7969.000000</td>\n",
       "      <td>7969.000000</td>\n",
       "    </tr>\n",
       "    <tr>\n",
       "      <th>mean</th>\n",
       "      <td>40.935500</td>\n",
       "      <td>150.551387</td>\n",
       "      <td>0.311331</td>\n",
       "      <td>0.012674</td>\n",
       "      <td>0.839503</td>\n",
       "    </tr>\n",
       "    <tr>\n",
       "      <th>std</th>\n",
       "      <td>10.097857</td>\n",
       "      <td>73.336100</td>\n",
       "      <td>0.463067</td>\n",
       "      <td>0.111871</td>\n",
       "      <td>0.367089</td>\n",
       "    </tr>\n",
       "    <tr>\n",
       "      <th>min</th>\n",
       "      <td>18.000000</td>\n",
       "      <td>-42.000000</td>\n",
       "      <td>0.000000</td>\n",
       "      <td>0.000000</td>\n",
       "      <td>0.000000</td>\n",
       "    </tr>\n",
       "    <tr>\n",
       "      <th>25%</th>\n",
       "      <td>33.000000</td>\n",
       "      <td>107.000000</td>\n",
       "      <td>0.000000</td>\n",
       "      <td>0.000000</td>\n",
       "      <td>1.000000</td>\n",
       "    </tr>\n",
       "    <tr>\n",
       "      <th>50%</th>\n",
       "      <td>39.000000</td>\n",
       "      <td>166.000000</td>\n",
       "      <td>0.000000</td>\n",
       "      <td>0.000000</td>\n",
       "      <td>1.000000</td>\n",
       "    </tr>\n",
       "    <tr>\n",
       "      <th>75%</th>\n",
       "      <td>48.000000</td>\n",
       "      <td>191.000000</td>\n",
       "      <td>1.000000</td>\n",
       "      <td>0.000000</td>\n",
       "      <td>1.000000</td>\n",
       "    </tr>\n",
       "    <tr>\n",
       "      <th>max</th>\n",
       "      <td>83.000000</td>\n",
       "      <td>316.000000</td>\n",
       "      <td>1.000000</td>\n",
       "      <td>1.000000</td>\n",
       "      <td>1.000000</td>\n",
       "    </tr>\n",
       "  </tbody>\n",
       "</table>\n",
       "</div>"
      ],
      "text/plain": [
       "               age  last_contact  contact_unknown  poutcome_success  \\\n",
       "count  7969.000000   7969.000000      7969.000000       7969.000000   \n",
       "mean     40.935500    150.551387         0.311331          0.012674   \n",
       "std      10.097857     73.336100         0.463067          0.111871   \n",
       "min      18.000000    -42.000000         0.000000          0.000000   \n",
       "25%      33.000000    107.000000         0.000000          0.000000   \n",
       "50%      39.000000    166.000000         0.000000          0.000000   \n",
       "75%      48.000000    191.000000         1.000000          0.000000   \n",
       "max      83.000000    316.000000         1.000000          1.000000   \n",
       "\n",
       "       poutcome_unknown  \n",
       "count       7969.000000  \n",
       "mean           0.839503  \n",
       "std            0.367089  \n",
       "min            0.000000  \n",
       "25%            1.000000  \n",
       "50%            1.000000  \n",
       "75%            1.000000  \n",
       "max            1.000000  "
      ]
     },
     "execution_count": 139,
     "metadata": {},
     "output_type": "execute_result"
    }
   ],
   "source": [
    "result3.describe()"
   ]
  },
  {
   "cell_type": "code",
   "execution_count": 141,
   "id": "1bd8706f",
   "metadata": {},
   "outputs": [],
   "source": [
    "result2 = df2[df2['y_yes'] == 1]\n",
    "result3 = result2[selected_features]"
   ]
  },
  {
   "cell_type": "code",
   "execution_count": 143,
   "id": "47d12732",
   "metadata": {},
   "outputs": [
    {
     "data": {
      "text/html": [
       "<div>\n",
       "<style scoped>\n",
       "    .dataframe tbody tr th:only-of-type {\n",
       "        vertical-align: middle;\n",
       "    }\n",
       "\n",
       "    .dataframe tbody tr th {\n",
       "        vertical-align: top;\n",
       "    }\n",
       "\n",
       "    .dataframe thead th {\n",
       "        text-align: right;\n",
       "    }\n",
       "</style>\n",
       "<table border=\"1\" class=\"dataframe\">\n",
       "  <thead>\n",
       "    <tr style=\"text-align: right;\">\n",
       "      <th></th>\n",
       "      <th>age</th>\n",
       "      <th>last_contact</th>\n",
       "      <th>contact_unknown</th>\n",
       "      <th>poutcome_success</th>\n",
       "      <th>poutcome_unknown</th>\n",
       "    </tr>\n",
       "  </thead>\n",
       "  <tbody>\n",
       "    <tr>\n",
       "      <th>count</th>\n",
       "      <td>1031.000000</td>\n",
       "      <td>1031.000000</td>\n",
       "      <td>1031.000000</td>\n",
       "      <td>1031.000000</td>\n",
       "      <td>1031.000000</td>\n",
       "    </tr>\n",
       "    <tr>\n",
       "      <th>mean</th>\n",
       "      <td>41.809893</td>\n",
       "      <td>148.260912</td>\n",
       "      <td>0.103783</td>\n",
       "      <td>0.185257</td>\n",
       "      <td>0.647915</td>\n",
       "    </tr>\n",
       "    <tr>\n",
       "      <th>std</th>\n",
       "      <td>13.605565</td>\n",
       "      <td>84.684594</td>\n",
       "      <td>0.305127</td>\n",
       "      <td>0.388694</td>\n",
       "      <td>0.477852</td>\n",
       "    </tr>\n",
       "    <tr>\n",
       "      <th>min</th>\n",
       "      <td>18.000000</td>\n",
       "      <td>-42.000000</td>\n",
       "      <td>0.000000</td>\n",
       "      <td>0.000000</td>\n",
       "      <td>0.000000</td>\n",
       "    </tr>\n",
       "    <tr>\n",
       "      <th>25%</th>\n",
       "      <td>32.000000</td>\n",
       "      <td>92.500000</td>\n",
       "      <td>0.000000</td>\n",
       "      <td>0.000000</td>\n",
       "      <td>0.000000</td>\n",
       "    </tr>\n",
       "    <tr>\n",
       "      <th>50%</th>\n",
       "      <td>38.000000</td>\n",
       "      <td>162.000000</td>\n",
       "      <td>0.000000</td>\n",
       "      <td>0.000000</td>\n",
       "      <td>1.000000</td>\n",
       "    </tr>\n",
       "    <tr>\n",
       "      <th>75%</th>\n",
       "      <td>52.000000</td>\n",
       "      <td>202.000000</td>\n",
       "      <td>0.000000</td>\n",
       "      <td>0.000000</td>\n",
       "      <td>1.000000</td>\n",
       "    </tr>\n",
       "    <tr>\n",
       "      <th>max</th>\n",
       "      <td>90.000000</td>\n",
       "      <td>315.000000</td>\n",
       "      <td>1.000000</td>\n",
       "      <td>1.000000</td>\n",
       "      <td>1.000000</td>\n",
       "    </tr>\n",
       "  </tbody>\n",
       "</table>\n",
       "</div>"
      ],
      "text/plain": [
       "               age  last_contact  contact_unknown  poutcome_success  \\\n",
       "count  1031.000000   1031.000000      1031.000000       1031.000000   \n",
       "mean     41.809893    148.260912         0.103783          0.185257   \n",
       "std      13.605565     84.684594         0.305127          0.388694   \n",
       "min      18.000000    -42.000000         0.000000          0.000000   \n",
       "25%      32.000000     92.500000         0.000000          0.000000   \n",
       "50%      38.000000    162.000000         0.000000          0.000000   \n",
       "75%      52.000000    202.000000         0.000000          0.000000   \n",
       "max      90.000000    315.000000         1.000000          1.000000   \n",
       "\n",
       "       poutcome_unknown  \n",
       "count       1031.000000  \n",
       "mean           0.647915  \n",
       "std            0.477852  \n",
       "min            0.000000  \n",
       "25%            0.000000  \n",
       "50%            1.000000  \n",
       "75%            1.000000  \n",
       "max            1.000000  "
      ]
     },
     "execution_count": 143,
     "metadata": {},
     "output_type": "execute_result"
    }
   ],
   "source": [
    "result3.describe()"
   ]
  },
  {
   "cell_type": "markdown",
   "id": "e306c7ca",
   "metadata": {},
   "source": [
    "For the provided data the mean and standard deviations for both age, and last_contact do not present significant difference.  "
   ]
  },
  {
   "cell_type": "markdown",
   "id": "49441ce0",
   "metadata": {},
   "source": [
    "In general, we would suggest management to incentivate the recording of the data after each call to decrease the unknown values, as we believe that this can improve the model. "
   ]
  },
  {
   "cell_type": "code",
   "execution_count": null,
   "id": "131642c4",
   "metadata": {},
   "outputs": [],
   "source": []
  }
 ],
 "metadata": {
  "kernelspec": {
   "display_name": "Python 3",
   "language": "python",
   "name": "python3"
  },
  "language_info": {
   "codemirror_mode": {
    "name": "ipython",
    "version": 3
   },
   "file_extension": ".py",
   "mimetype": "text/x-python",
   "name": "python",
   "nbconvert_exporter": "python",
   "pygments_lexer": "ipython3",
   "version": "3.8.8"
  }
 },
 "nbformat": 4,
 "nbformat_minor": 5
}
