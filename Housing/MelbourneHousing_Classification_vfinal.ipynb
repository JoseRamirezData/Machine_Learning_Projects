{
 "cells": [
  {
   "cell_type": "markdown",
   "id": "c31d57bf",
   "metadata": {},
   "source": [
    "\n",
    "# Project Melbourne Housing"
   ]
  },
  {
   "cell_type": "markdown",
   "id": "3d13ac01",
   "metadata": {},
   "source": [
    "Project Description: Predict the Categorical Price of the buildings in Melbourne Australia based on their features.\n",
    "\n",
    "Jose Ramirez"
   ]
  },
  {
   "cell_type": "markdown",
   "id": "ebdf23bc",
   "metadata": {},
   "source": [
    "# Melbourne Housing Variables"
   ]
  },
  {
   "cell_type": "markdown",
   "id": "573b9e3a",
   "metadata": {},
   "source": [
    "- Rooms: Number of rooms\n",
    "- Price: Price in dollars\n",
    "- Method: S - property sold; SP - property sold prior; PI - property passed in; PN - sold prior not disclosed; SN - sold not disclosed; NB - no bid; VB - vendor bid; W - withdrawn prior to auction; SA - sold after auction; SS - sold after auction price not disclosed. N/A - price or highest bid not available.\n",
    "- Type: br - bedroom(s); h - house,cottage,villa, semi,terrace; u - unit, duplex; t - townhouse; dev site - development site; o res - other residential.\n",
    "- SellerG: Real Estate Agent\n",
    "- Date: Date sold\n",
    "- Distance: Distance from CBD\n",
    "- Regionname: General Region (West, North West, North, North east …etc)\n",
    "- Propertycount: Number of properties that exist in the suburb.\n",
    "- Bedroom2 : Scraped # of Bedrooms (from different source)\n",
    "- Bathroom: Number of Bathrooms\n",
    "- Car: Number of carspots\n",
    "- Landsize: Land Size\n",
    "- BuildingArea: Building Size\n",
    "- CouncilArea: Governing council for the area"
   ]
  },
  {
   "cell_type": "markdown",
   "id": "ce689ee1",
   "metadata": {},
   "source": [
    "# Import Libraries"
   ]
  },
  {
   "cell_type": "code",
   "execution_count": 1,
   "id": "79376f90",
   "metadata": {},
   "outputs": [],
   "source": [
    "import numpy as np\n",
    "from datetime import datetime\n",
    "import pandas as pd\n",
    "import matplotlib.pyplot as plt\n",
    "import seaborn as sns"
   ]
  },
  {
   "cell_type": "markdown",
   "id": "a5d75cf7",
   "metadata": {},
   "source": [
    "# Import Dataset"
   ]
  },
  {
   "cell_type": "code",
   "execution_count": 2,
   "id": "d718ed5b",
   "metadata": {
    "scrolled": true
   },
   "outputs": [],
   "source": [
    "df=pd.read_csv(r'E:\\FALL SEMESTER\\Fundamentals of Data Analytics\\Project\\Project Python\\Melbourne_housing_FULL.csv')"
   ]
  },
  {
   "cell_type": "code",
   "execution_count": 3,
   "id": "74ec42f3",
   "metadata": {
    "scrolled": false
   },
   "outputs": [
    {
     "data": {
      "text/html": [
       "<div>\n",
       "<style scoped>\n",
       "    .dataframe tbody tr th:only-of-type {\n",
       "        vertical-align: middle;\n",
       "    }\n",
       "\n",
       "    .dataframe tbody tr th {\n",
       "        vertical-align: top;\n",
       "    }\n",
       "\n",
       "    .dataframe thead th {\n",
       "        text-align: right;\n",
       "    }\n",
       "</style>\n",
       "<table border=\"1\" class=\"dataframe\">\n",
       "  <thead>\n",
       "    <tr style=\"text-align: right;\">\n",
       "      <th></th>\n",
       "      <th>Suburb</th>\n",
       "      <th>Address</th>\n",
       "      <th>Rooms</th>\n",
       "      <th>Type</th>\n",
       "      <th>Price</th>\n",
       "      <th>Method</th>\n",
       "      <th>SellerG</th>\n",
       "      <th>Date</th>\n",
       "      <th>Distance</th>\n",
       "      <th>Postcode</th>\n",
       "      <th>...</th>\n",
       "      <th>Bathroom</th>\n",
       "      <th>Car</th>\n",
       "      <th>Landsize</th>\n",
       "      <th>BuildingArea</th>\n",
       "      <th>YearBuilt</th>\n",
       "      <th>CouncilArea</th>\n",
       "      <th>Lattitude</th>\n",
       "      <th>Longtitude</th>\n",
       "      <th>Regionname</th>\n",
       "      <th>Propertycount</th>\n",
       "    </tr>\n",
       "  </thead>\n",
       "  <tbody>\n",
       "    <tr>\n",
       "      <th>0</th>\n",
       "      <td>Abbotsford</td>\n",
       "      <td>68 Studley St</td>\n",
       "      <td>2</td>\n",
       "      <td>h</td>\n",
       "      <td>NaN</td>\n",
       "      <td>SS</td>\n",
       "      <td>Jellis</td>\n",
       "      <td>3/09/2016</td>\n",
       "      <td>2.5</td>\n",
       "      <td>3067.0</td>\n",
       "      <td>...</td>\n",
       "      <td>1.0</td>\n",
       "      <td>1.0</td>\n",
       "      <td>126.0</td>\n",
       "      <td>NaN</td>\n",
       "      <td>NaN</td>\n",
       "      <td>Yarra City Council</td>\n",
       "      <td>-37.8014</td>\n",
       "      <td>144.9958</td>\n",
       "      <td>Northern Metropolitan</td>\n",
       "      <td>4019.0</td>\n",
       "    </tr>\n",
       "    <tr>\n",
       "      <th>1</th>\n",
       "      <td>Abbotsford</td>\n",
       "      <td>85 Turner St</td>\n",
       "      <td>2</td>\n",
       "      <td>h</td>\n",
       "      <td>1480000.0</td>\n",
       "      <td>S</td>\n",
       "      <td>Biggin</td>\n",
       "      <td>3/12/2016</td>\n",
       "      <td>2.5</td>\n",
       "      <td>3067.0</td>\n",
       "      <td>...</td>\n",
       "      <td>1.0</td>\n",
       "      <td>1.0</td>\n",
       "      <td>202.0</td>\n",
       "      <td>NaN</td>\n",
       "      <td>NaN</td>\n",
       "      <td>Yarra City Council</td>\n",
       "      <td>-37.7996</td>\n",
       "      <td>144.9984</td>\n",
       "      <td>Northern Metropolitan</td>\n",
       "      <td>4019.0</td>\n",
       "    </tr>\n",
       "    <tr>\n",
       "      <th>2</th>\n",
       "      <td>Abbotsford</td>\n",
       "      <td>25 Bloomburg St</td>\n",
       "      <td>2</td>\n",
       "      <td>h</td>\n",
       "      <td>1035000.0</td>\n",
       "      <td>S</td>\n",
       "      <td>Biggin</td>\n",
       "      <td>4/02/2016</td>\n",
       "      <td>2.5</td>\n",
       "      <td>3067.0</td>\n",
       "      <td>...</td>\n",
       "      <td>1.0</td>\n",
       "      <td>0.0</td>\n",
       "      <td>156.0</td>\n",
       "      <td>79.0</td>\n",
       "      <td>1900.0</td>\n",
       "      <td>Yarra City Council</td>\n",
       "      <td>-37.8079</td>\n",
       "      <td>144.9934</td>\n",
       "      <td>Northern Metropolitan</td>\n",
       "      <td>4019.0</td>\n",
       "    </tr>\n",
       "    <tr>\n",
       "      <th>3</th>\n",
       "      <td>Abbotsford</td>\n",
       "      <td>18/659 Victoria St</td>\n",
       "      <td>3</td>\n",
       "      <td>u</td>\n",
       "      <td>NaN</td>\n",
       "      <td>VB</td>\n",
       "      <td>Rounds</td>\n",
       "      <td>4/02/2016</td>\n",
       "      <td>2.5</td>\n",
       "      <td>3067.0</td>\n",
       "      <td>...</td>\n",
       "      <td>2.0</td>\n",
       "      <td>1.0</td>\n",
       "      <td>0.0</td>\n",
       "      <td>NaN</td>\n",
       "      <td>NaN</td>\n",
       "      <td>Yarra City Council</td>\n",
       "      <td>-37.8114</td>\n",
       "      <td>145.0116</td>\n",
       "      <td>Northern Metropolitan</td>\n",
       "      <td>4019.0</td>\n",
       "    </tr>\n",
       "    <tr>\n",
       "      <th>4</th>\n",
       "      <td>Abbotsford</td>\n",
       "      <td>5 Charles St</td>\n",
       "      <td>3</td>\n",
       "      <td>h</td>\n",
       "      <td>1465000.0</td>\n",
       "      <td>SP</td>\n",
       "      <td>Biggin</td>\n",
       "      <td>4/03/2017</td>\n",
       "      <td>2.5</td>\n",
       "      <td>3067.0</td>\n",
       "      <td>...</td>\n",
       "      <td>2.0</td>\n",
       "      <td>0.0</td>\n",
       "      <td>134.0</td>\n",
       "      <td>150.0</td>\n",
       "      <td>1900.0</td>\n",
       "      <td>Yarra City Council</td>\n",
       "      <td>-37.8093</td>\n",
       "      <td>144.9944</td>\n",
       "      <td>Northern Metropolitan</td>\n",
       "      <td>4019.0</td>\n",
       "    </tr>\n",
       "  </tbody>\n",
       "</table>\n",
       "<p>5 rows × 21 columns</p>\n",
       "</div>"
      ],
      "text/plain": [
       "       Suburb             Address  Rooms Type      Price Method SellerG  \\\n",
       "0  Abbotsford       68 Studley St      2    h        NaN     SS  Jellis   \n",
       "1  Abbotsford        85 Turner St      2    h  1480000.0      S  Biggin   \n",
       "2  Abbotsford     25 Bloomburg St      2    h  1035000.0      S  Biggin   \n",
       "3  Abbotsford  18/659 Victoria St      3    u        NaN     VB  Rounds   \n",
       "4  Abbotsford        5 Charles St      3    h  1465000.0     SP  Biggin   \n",
       "\n",
       "        Date  Distance  Postcode  ...  Bathroom  Car  Landsize  BuildingArea  \\\n",
       "0  3/09/2016       2.5    3067.0  ...       1.0  1.0     126.0           NaN   \n",
       "1  3/12/2016       2.5    3067.0  ...       1.0  1.0     202.0           NaN   \n",
       "2  4/02/2016       2.5    3067.0  ...       1.0  0.0     156.0          79.0   \n",
       "3  4/02/2016       2.5    3067.0  ...       2.0  1.0       0.0           NaN   \n",
       "4  4/03/2017       2.5    3067.0  ...       2.0  0.0     134.0         150.0   \n",
       "\n",
       "   YearBuilt         CouncilArea Lattitude  Longtitude             Regionname  \\\n",
       "0        NaN  Yarra City Council  -37.8014    144.9958  Northern Metropolitan   \n",
       "1        NaN  Yarra City Council  -37.7996    144.9984  Northern Metropolitan   \n",
       "2     1900.0  Yarra City Council  -37.8079    144.9934  Northern Metropolitan   \n",
       "3        NaN  Yarra City Council  -37.8114    145.0116  Northern Metropolitan   \n",
       "4     1900.0  Yarra City Council  -37.8093    144.9944  Northern Metropolitan   \n",
       "\n",
       "  Propertycount  \n",
       "0        4019.0  \n",
       "1        4019.0  \n",
       "2        4019.0  \n",
       "3        4019.0  \n",
       "4        4019.0  \n",
       "\n",
       "[5 rows x 21 columns]"
      ]
     },
     "execution_count": 3,
     "metadata": {},
     "output_type": "execute_result"
    }
   ],
   "source": [
    "df.head()"
   ]
  },
  {
   "cell_type": "code",
   "execution_count": 4,
   "id": "5caf2b99",
   "metadata": {},
   "outputs": [
    {
     "name": "stdout",
     "output_type": "stream",
     "text": [
      "<class 'pandas.core.frame.DataFrame'>\n",
      "RangeIndex: 34857 entries, 0 to 34856\n",
      "Data columns (total 21 columns):\n",
      " #   Column         Non-Null Count  Dtype  \n",
      "---  ------         --------------  -----  \n",
      " 0   Suburb         34857 non-null  object \n",
      " 1   Address        34857 non-null  object \n",
      " 2   Rooms          34857 non-null  int64  \n",
      " 3   Type           34857 non-null  object \n",
      " 4   Price          27247 non-null  float64\n",
      " 5   Method         34857 non-null  object \n",
      " 6   SellerG        34857 non-null  object \n",
      " 7   Date           34857 non-null  object \n",
      " 8   Distance       34856 non-null  float64\n",
      " 9   Postcode       34856 non-null  float64\n",
      " 10  Bedroom2       26640 non-null  float64\n",
      " 11  Bathroom       26631 non-null  float64\n",
      " 12  Car            26129 non-null  float64\n",
      " 13  Landsize       23047 non-null  float64\n",
      " 14  BuildingArea   13742 non-null  float64\n",
      " 15  YearBuilt      15551 non-null  float64\n",
      " 16  CouncilArea    34854 non-null  object \n",
      " 17  Lattitude      26881 non-null  float64\n",
      " 18  Longtitude     26881 non-null  float64\n",
      " 19  Regionname     34854 non-null  object \n",
      " 20  Propertycount  34854 non-null  float64\n",
      "dtypes: float64(12), int64(1), object(8)\n",
      "memory usage: 5.6+ MB\n"
     ]
    }
   ],
   "source": [
    "df.info()"
   ]
  },
  {
   "cell_type": "markdown",
   "id": "ee65ccf2",
   "metadata": {},
   "source": [
    "# Data Cleaning"
   ]
  },
  {
   "cell_type": "markdown",
   "id": "7cbe4fe2",
   "metadata": {},
   "source": [
    "- Delete the columns that are not requiered in the model.\n",
    "- Delete the NaN values.\n",
    "- Convert YearBuilt to AgeBuilding.\n",
    "- Create dummy encoding for the columns Type, Method and RegionName"
   ]
  },
  {
   "cell_type": "code",
   "execution_count": 5,
   "id": "3fa50f0e",
   "metadata": {},
   "outputs": [],
   "source": [
    "#Drop the unnecessary columns\n",
    "df.drop(columns = {'Address','CouncilArea', 'Rooms', 'SellerG', 'Date', 'Propertycount', 'Suburb'}, axis = 1, inplace = True)"
   ]
  },
  {
   "cell_type": "code",
   "execution_count": 6,
   "id": "652bda8b",
   "metadata": {},
   "outputs": [],
   "source": [
    "df.dropna(inplace=True)"
   ]
  },
  {
   "cell_type": "code",
   "execution_count": 7,
   "id": "bcc509ad",
   "metadata": {},
   "outputs": [],
   "source": [
    "# Convert YearBuilt to AgeBuilding\n",
    "current_year = datetime.now().year\n",
    "df['AgeBuilding'] = current_year-df['YearBuilt'].astype(int)"
   ]
  },
  {
   "cell_type": "code",
   "execution_count": 8,
   "id": "767d628b",
   "metadata": {},
   "outputs": [],
   "source": [
    "df.drop('YearBuilt', axis=1, inplace=True)"
   ]
  },
  {
   "cell_type": "code",
   "execution_count": 9,
   "id": "fb32b22b",
   "metadata": {
    "scrolled": false
   },
   "outputs": [
    {
     "data": {
      "text/html": [
       "<div>\n",
       "<style scoped>\n",
       "    .dataframe tbody tr th:only-of-type {\n",
       "        vertical-align: middle;\n",
       "    }\n",
       "\n",
       "    .dataframe tbody tr th {\n",
       "        vertical-align: top;\n",
       "    }\n",
       "\n",
       "    .dataframe thead th {\n",
       "        text-align: right;\n",
       "    }\n",
       "</style>\n",
       "<table border=\"1\" class=\"dataframe\">\n",
       "  <thead>\n",
       "    <tr style=\"text-align: right;\">\n",
       "      <th></th>\n",
       "      <th>Type</th>\n",
       "      <th>Price</th>\n",
       "      <th>Method</th>\n",
       "      <th>Distance</th>\n",
       "      <th>Postcode</th>\n",
       "      <th>Bedroom2</th>\n",
       "      <th>Bathroom</th>\n",
       "      <th>Car</th>\n",
       "      <th>Landsize</th>\n",
       "      <th>BuildingArea</th>\n",
       "      <th>Lattitude</th>\n",
       "      <th>Longtitude</th>\n",
       "      <th>Regionname</th>\n",
       "      <th>AgeBuilding</th>\n",
       "    </tr>\n",
       "  </thead>\n",
       "  <tbody>\n",
       "    <tr>\n",
       "      <th>2</th>\n",
       "      <td>h</td>\n",
       "      <td>1035000.0</td>\n",
       "      <td>S</td>\n",
       "      <td>2.5</td>\n",
       "      <td>3067.0</td>\n",
       "      <td>2.0</td>\n",
       "      <td>1.0</td>\n",
       "      <td>0.0</td>\n",
       "      <td>156.0</td>\n",
       "      <td>79.0</td>\n",
       "      <td>-37.80790</td>\n",
       "      <td>144.99340</td>\n",
       "      <td>Northern Metropolitan</td>\n",
       "      <td>123</td>\n",
       "    </tr>\n",
       "    <tr>\n",
       "      <th>4</th>\n",
       "      <td>h</td>\n",
       "      <td>1465000.0</td>\n",
       "      <td>SP</td>\n",
       "      <td>2.5</td>\n",
       "      <td>3067.0</td>\n",
       "      <td>3.0</td>\n",
       "      <td>2.0</td>\n",
       "      <td>0.0</td>\n",
       "      <td>134.0</td>\n",
       "      <td>150.0</td>\n",
       "      <td>-37.80930</td>\n",
       "      <td>144.99440</td>\n",
       "      <td>Northern Metropolitan</td>\n",
       "      <td>123</td>\n",
       "    </tr>\n",
       "    <tr>\n",
       "      <th>6</th>\n",
       "      <td>h</td>\n",
       "      <td>1600000.0</td>\n",
       "      <td>VB</td>\n",
       "      <td>2.5</td>\n",
       "      <td>3067.0</td>\n",
       "      <td>3.0</td>\n",
       "      <td>1.0</td>\n",
       "      <td>2.0</td>\n",
       "      <td>120.0</td>\n",
       "      <td>142.0</td>\n",
       "      <td>-37.80720</td>\n",
       "      <td>144.99410</td>\n",
       "      <td>Northern Metropolitan</td>\n",
       "      <td>9</td>\n",
       "    </tr>\n",
       "    <tr>\n",
       "      <th>11</th>\n",
       "      <td>h</td>\n",
       "      <td>1876000.0</td>\n",
       "      <td>S</td>\n",
       "      <td>2.5</td>\n",
       "      <td>3067.0</td>\n",
       "      <td>4.0</td>\n",
       "      <td>2.0</td>\n",
       "      <td>0.0</td>\n",
       "      <td>245.0</td>\n",
       "      <td>210.0</td>\n",
       "      <td>-37.80240</td>\n",
       "      <td>144.99930</td>\n",
       "      <td>Northern Metropolitan</td>\n",
       "      <td>113</td>\n",
       "    </tr>\n",
       "    <tr>\n",
       "      <th>14</th>\n",
       "      <td>h</td>\n",
       "      <td>1636000.0</td>\n",
       "      <td>S</td>\n",
       "      <td>2.5</td>\n",
       "      <td>3067.0</td>\n",
       "      <td>2.0</td>\n",
       "      <td>1.0</td>\n",
       "      <td>2.0</td>\n",
       "      <td>256.0</td>\n",
       "      <td>107.0</td>\n",
       "      <td>-37.80600</td>\n",
       "      <td>144.99540</td>\n",
       "      <td>Northern Metropolitan</td>\n",
       "      <td>133</td>\n",
       "    </tr>\n",
       "    <tr>\n",
       "      <th>...</th>\n",
       "      <td>...</td>\n",
       "      <td>...</td>\n",
       "      <td>...</td>\n",
       "      <td>...</td>\n",
       "      <td>...</td>\n",
       "      <td>...</td>\n",
       "      <td>...</td>\n",
       "      <td>...</td>\n",
       "      <td>...</td>\n",
       "      <td>...</td>\n",
       "      <td>...</td>\n",
       "      <td>...</td>\n",
       "      <td>...</td>\n",
       "      <td>...</td>\n",
       "    </tr>\n",
       "    <tr>\n",
       "      <th>34847</th>\n",
       "      <td>h</td>\n",
       "      <td>500000.0</td>\n",
       "      <td>PI</td>\n",
       "      <td>25.5</td>\n",
       "      <td>3750.0</td>\n",
       "      <td>3.0</td>\n",
       "      <td>2.0</td>\n",
       "      <td>2.0</td>\n",
       "      <td>383.0</td>\n",
       "      <td>118.0</td>\n",
       "      <td>-37.61940</td>\n",
       "      <td>145.03951</td>\n",
       "      <td>Northern Metropolitan</td>\n",
       "      <td>7</td>\n",
       "    </tr>\n",
       "    <tr>\n",
       "      <th>34849</th>\n",
       "      <td>h</td>\n",
       "      <td>570000.0</td>\n",
       "      <td>SP</td>\n",
       "      <td>25.5</td>\n",
       "      <td>3750.0</td>\n",
       "      <td>3.0</td>\n",
       "      <td>2.0</td>\n",
       "      <td>2.0</td>\n",
       "      <td>404.0</td>\n",
       "      <td>158.0</td>\n",
       "      <td>-37.61031</td>\n",
       "      <td>145.03393</td>\n",
       "      <td>Northern Metropolitan</td>\n",
       "      <td>11</td>\n",
       "    </tr>\n",
       "    <tr>\n",
       "      <th>34853</th>\n",
       "      <td>h</td>\n",
       "      <td>888000.0</td>\n",
       "      <td>SP</td>\n",
       "      <td>6.3</td>\n",
       "      <td>3013.0</td>\n",
       "      <td>2.0</td>\n",
       "      <td>2.0</td>\n",
       "      <td>1.0</td>\n",
       "      <td>98.0</td>\n",
       "      <td>104.0</td>\n",
       "      <td>-37.81551</td>\n",
       "      <td>144.88826</td>\n",
       "      <td>Western Metropolitan</td>\n",
       "      <td>5</td>\n",
       "    </tr>\n",
       "    <tr>\n",
       "      <th>34854</th>\n",
       "      <td>t</td>\n",
       "      <td>705000.0</td>\n",
       "      <td>S</td>\n",
       "      <td>6.3</td>\n",
       "      <td>3013.0</td>\n",
       "      <td>2.0</td>\n",
       "      <td>1.0</td>\n",
       "      <td>2.0</td>\n",
       "      <td>220.0</td>\n",
       "      <td>120.0</td>\n",
       "      <td>-37.82286</td>\n",
       "      <td>144.87856</td>\n",
       "      <td>Western Metropolitan</td>\n",
       "      <td>23</td>\n",
       "    </tr>\n",
       "    <tr>\n",
       "      <th>34856</th>\n",
       "      <td>h</td>\n",
       "      <td>1020000.0</td>\n",
       "      <td>PI</td>\n",
       "      <td>6.3</td>\n",
       "      <td>3013.0</td>\n",
       "      <td>2.0</td>\n",
       "      <td>1.0</td>\n",
       "      <td>0.0</td>\n",
       "      <td>250.0</td>\n",
       "      <td>103.0</td>\n",
       "      <td>-37.81810</td>\n",
       "      <td>144.89351</td>\n",
       "      <td>Western Metropolitan</td>\n",
       "      <td>93</td>\n",
       "    </tr>\n",
       "  </tbody>\n",
       "</table>\n",
       "<p>8887 rows × 14 columns</p>\n",
       "</div>"
      ],
      "text/plain": [
       "      Type      Price Method  Distance  Postcode  Bedroom2  Bathroom  Car  \\\n",
       "2        h  1035000.0      S       2.5    3067.0       2.0       1.0  0.0   \n",
       "4        h  1465000.0     SP       2.5    3067.0       3.0       2.0  0.0   \n",
       "6        h  1600000.0     VB       2.5    3067.0       3.0       1.0  2.0   \n",
       "11       h  1876000.0      S       2.5    3067.0       4.0       2.0  0.0   \n",
       "14       h  1636000.0      S       2.5    3067.0       2.0       1.0  2.0   \n",
       "...    ...        ...    ...       ...       ...       ...       ...  ...   \n",
       "34847    h   500000.0     PI      25.5    3750.0       3.0       2.0  2.0   \n",
       "34849    h   570000.0     SP      25.5    3750.0       3.0       2.0  2.0   \n",
       "34853    h   888000.0     SP       6.3    3013.0       2.0       2.0  1.0   \n",
       "34854    t   705000.0      S       6.3    3013.0       2.0       1.0  2.0   \n",
       "34856    h  1020000.0     PI       6.3    3013.0       2.0       1.0  0.0   \n",
       "\n",
       "       Landsize  BuildingArea  Lattitude  Longtitude             Regionname  \\\n",
       "2         156.0          79.0  -37.80790   144.99340  Northern Metropolitan   \n",
       "4         134.0         150.0  -37.80930   144.99440  Northern Metropolitan   \n",
       "6         120.0         142.0  -37.80720   144.99410  Northern Metropolitan   \n",
       "11        245.0         210.0  -37.80240   144.99930  Northern Metropolitan   \n",
       "14        256.0         107.0  -37.80600   144.99540  Northern Metropolitan   \n",
       "...         ...           ...        ...         ...                    ...   \n",
       "34847     383.0         118.0  -37.61940   145.03951  Northern Metropolitan   \n",
       "34849     404.0         158.0  -37.61031   145.03393  Northern Metropolitan   \n",
       "34853      98.0         104.0  -37.81551   144.88826   Western Metropolitan   \n",
       "34854     220.0         120.0  -37.82286   144.87856   Western Metropolitan   \n",
       "34856     250.0         103.0  -37.81810   144.89351   Western Metropolitan   \n",
       "\n",
       "       AgeBuilding  \n",
       "2              123  \n",
       "4              123  \n",
       "6                9  \n",
       "11             113  \n",
       "14             133  \n",
       "...            ...  \n",
       "34847            7  \n",
       "34849           11  \n",
       "34853            5  \n",
       "34854           23  \n",
       "34856           93  \n",
       "\n",
       "[8887 rows x 14 columns]"
      ]
     },
     "execution_count": 9,
     "metadata": {},
     "output_type": "execute_result"
    }
   ],
   "source": [
    "df"
   ]
  },
  {
   "cell_type": "markdown",
   "id": "842dc15b",
   "metadata": {},
   "source": [
    "Dummie Encoding of Categorical Variables"
   ]
  },
  {
   "cell_type": "code",
   "execution_count": 10,
   "id": "f6beb744",
   "metadata": {},
   "outputs": [],
   "source": [
    "df = pd.get_dummies(df, columns=['Type'])"
   ]
  },
  {
   "cell_type": "code",
   "execution_count": 11,
   "id": "d64a06ff",
   "metadata": {},
   "outputs": [],
   "source": [
    "df = pd.get_dummies(df, columns=['Method'])"
   ]
  },
  {
   "cell_type": "code",
   "execution_count": 12,
   "id": "fc83df14",
   "metadata": {},
   "outputs": [],
   "source": [
    "df = pd.get_dummies(df, columns=['Regionname'])"
   ]
  },
  {
   "cell_type": "code",
   "execution_count": 13,
   "id": "e5bd7a5a",
   "metadata": {},
   "outputs": [
    {
     "data": {
      "text/html": [
       "<div>\n",
       "<style scoped>\n",
       "    .dataframe tbody tr th:only-of-type {\n",
       "        vertical-align: middle;\n",
       "    }\n",
       "\n",
       "    .dataframe tbody tr th {\n",
       "        vertical-align: top;\n",
       "    }\n",
       "\n",
       "    .dataframe thead th {\n",
       "        text-align: right;\n",
       "    }\n",
       "</style>\n",
       "<table border=\"1\" class=\"dataframe\">\n",
       "  <thead>\n",
       "    <tr style=\"text-align: right;\">\n",
       "      <th></th>\n",
       "      <th>Price</th>\n",
       "      <th>Distance</th>\n",
       "      <th>Postcode</th>\n",
       "      <th>Bedroom2</th>\n",
       "      <th>Bathroom</th>\n",
       "      <th>Car</th>\n",
       "      <th>Landsize</th>\n",
       "      <th>BuildingArea</th>\n",
       "      <th>Lattitude</th>\n",
       "      <th>Longtitude</th>\n",
       "      <th>...</th>\n",
       "      <th>Method_SP</th>\n",
       "      <th>Method_VB</th>\n",
       "      <th>Regionname_Eastern Metropolitan</th>\n",
       "      <th>Regionname_Eastern Victoria</th>\n",
       "      <th>Regionname_Northern Metropolitan</th>\n",
       "      <th>Regionname_Northern Victoria</th>\n",
       "      <th>Regionname_South-Eastern Metropolitan</th>\n",
       "      <th>Regionname_Southern Metropolitan</th>\n",
       "      <th>Regionname_Western Metropolitan</th>\n",
       "      <th>Regionname_Western Victoria</th>\n",
       "    </tr>\n",
       "  </thead>\n",
       "  <tbody>\n",
       "    <tr>\n",
       "      <th>2</th>\n",
       "      <td>1035000.0</td>\n",
       "      <td>2.5</td>\n",
       "      <td>3067.0</td>\n",
       "      <td>2.0</td>\n",
       "      <td>1.0</td>\n",
       "      <td>0.0</td>\n",
       "      <td>156.0</td>\n",
       "      <td>79.0</td>\n",
       "      <td>-37.8079</td>\n",
       "      <td>144.9934</td>\n",
       "      <td>...</td>\n",
       "      <td>0</td>\n",
       "      <td>0</td>\n",
       "      <td>0</td>\n",
       "      <td>0</td>\n",
       "      <td>1</td>\n",
       "      <td>0</td>\n",
       "      <td>0</td>\n",
       "      <td>0</td>\n",
       "      <td>0</td>\n",
       "      <td>0</td>\n",
       "    </tr>\n",
       "    <tr>\n",
       "      <th>4</th>\n",
       "      <td>1465000.0</td>\n",
       "      <td>2.5</td>\n",
       "      <td>3067.0</td>\n",
       "      <td>3.0</td>\n",
       "      <td>2.0</td>\n",
       "      <td>0.0</td>\n",
       "      <td>134.0</td>\n",
       "      <td>150.0</td>\n",
       "      <td>-37.8093</td>\n",
       "      <td>144.9944</td>\n",
       "      <td>...</td>\n",
       "      <td>1</td>\n",
       "      <td>0</td>\n",
       "      <td>0</td>\n",
       "      <td>0</td>\n",
       "      <td>1</td>\n",
       "      <td>0</td>\n",
       "      <td>0</td>\n",
       "      <td>0</td>\n",
       "      <td>0</td>\n",
       "      <td>0</td>\n",
       "    </tr>\n",
       "    <tr>\n",
       "      <th>6</th>\n",
       "      <td>1600000.0</td>\n",
       "      <td>2.5</td>\n",
       "      <td>3067.0</td>\n",
       "      <td>3.0</td>\n",
       "      <td>1.0</td>\n",
       "      <td>2.0</td>\n",
       "      <td>120.0</td>\n",
       "      <td>142.0</td>\n",
       "      <td>-37.8072</td>\n",
       "      <td>144.9941</td>\n",
       "      <td>...</td>\n",
       "      <td>0</td>\n",
       "      <td>1</td>\n",
       "      <td>0</td>\n",
       "      <td>0</td>\n",
       "      <td>1</td>\n",
       "      <td>0</td>\n",
       "      <td>0</td>\n",
       "      <td>0</td>\n",
       "      <td>0</td>\n",
       "      <td>0</td>\n",
       "    </tr>\n",
       "    <tr>\n",
       "      <th>11</th>\n",
       "      <td>1876000.0</td>\n",
       "      <td>2.5</td>\n",
       "      <td>3067.0</td>\n",
       "      <td>4.0</td>\n",
       "      <td>2.0</td>\n",
       "      <td>0.0</td>\n",
       "      <td>245.0</td>\n",
       "      <td>210.0</td>\n",
       "      <td>-37.8024</td>\n",
       "      <td>144.9993</td>\n",
       "      <td>...</td>\n",
       "      <td>0</td>\n",
       "      <td>0</td>\n",
       "      <td>0</td>\n",
       "      <td>0</td>\n",
       "      <td>1</td>\n",
       "      <td>0</td>\n",
       "      <td>0</td>\n",
       "      <td>0</td>\n",
       "      <td>0</td>\n",
       "      <td>0</td>\n",
       "    </tr>\n",
       "    <tr>\n",
       "      <th>14</th>\n",
       "      <td>1636000.0</td>\n",
       "      <td>2.5</td>\n",
       "      <td>3067.0</td>\n",
       "      <td>2.0</td>\n",
       "      <td>1.0</td>\n",
       "      <td>2.0</td>\n",
       "      <td>256.0</td>\n",
       "      <td>107.0</td>\n",
       "      <td>-37.8060</td>\n",
       "      <td>144.9954</td>\n",
       "      <td>...</td>\n",
       "      <td>0</td>\n",
       "      <td>0</td>\n",
       "      <td>0</td>\n",
       "      <td>0</td>\n",
       "      <td>1</td>\n",
       "      <td>0</td>\n",
       "      <td>0</td>\n",
       "      <td>0</td>\n",
       "      <td>0</td>\n",
       "      <td>0</td>\n",
       "    </tr>\n",
       "  </tbody>\n",
       "</table>\n",
       "<p>5 rows × 27 columns</p>\n",
       "</div>"
      ],
      "text/plain": [
       "        Price  Distance  Postcode  Bedroom2  Bathroom  Car  Landsize  \\\n",
       "2   1035000.0       2.5    3067.0       2.0       1.0  0.0     156.0   \n",
       "4   1465000.0       2.5    3067.0       3.0       2.0  0.0     134.0   \n",
       "6   1600000.0       2.5    3067.0       3.0       1.0  2.0     120.0   \n",
       "11  1876000.0       2.5    3067.0       4.0       2.0  0.0     245.0   \n",
       "14  1636000.0       2.5    3067.0       2.0       1.0  2.0     256.0   \n",
       "\n",
       "    BuildingArea  Lattitude  Longtitude  ...  Method_SP  Method_VB  \\\n",
       "2           79.0   -37.8079    144.9934  ...          0          0   \n",
       "4          150.0   -37.8093    144.9944  ...          1          0   \n",
       "6          142.0   -37.8072    144.9941  ...          0          1   \n",
       "11         210.0   -37.8024    144.9993  ...          0          0   \n",
       "14         107.0   -37.8060    144.9954  ...          0          0   \n",
       "\n",
       "    Regionname_Eastern Metropolitan  Regionname_Eastern Victoria  \\\n",
       "2                                 0                            0   \n",
       "4                                 0                            0   \n",
       "6                                 0                            0   \n",
       "11                                0                            0   \n",
       "14                                0                            0   \n",
       "\n",
       "    Regionname_Northern Metropolitan  Regionname_Northern Victoria  \\\n",
       "2                                  1                             0   \n",
       "4                                  1                             0   \n",
       "6                                  1                             0   \n",
       "11                                 1                             0   \n",
       "14                                 1                             0   \n",
       "\n",
       "    Regionname_South-Eastern Metropolitan  Regionname_Southern Metropolitan  \\\n",
       "2                                       0                                 0   \n",
       "4                                       0                                 0   \n",
       "6                                       0                                 0   \n",
       "11                                      0                                 0   \n",
       "14                                      0                                 0   \n",
       "\n",
       "    Regionname_Western Metropolitan  Regionname_Western Victoria  \n",
       "2                                 0                            0  \n",
       "4                                 0                            0  \n",
       "6                                 0                            0  \n",
       "11                                0                            0  \n",
       "14                                0                            0  \n",
       "\n",
       "[5 rows x 27 columns]"
      ]
     },
     "execution_count": 13,
     "metadata": {},
     "output_type": "execute_result"
    }
   ],
   "source": [
    "df.head()"
   ]
  },
  {
   "cell_type": "code",
   "execution_count": 14,
   "id": "211eae5e",
   "metadata": {},
   "outputs": [],
   "source": [
    "df['NewPrice'] = df['Price']/1000"
   ]
  },
  {
   "cell_type": "code",
   "execution_count": 15,
   "id": "eab66c2c",
   "metadata": {},
   "outputs": [
    {
     "name": "stdout",
     "output_type": "stream",
     "text": [
      "           Price  Distance  Postcode  Bedroom2  Bathroom  Car  Landsize  \\\n",
      "2      1035000.0       2.5    3067.0       2.0       1.0  0.0     156.0   \n",
      "4      1465000.0       2.5    3067.0       3.0       2.0  0.0     134.0   \n",
      "6      1600000.0       2.5    3067.0       3.0       1.0  2.0     120.0   \n",
      "11     1876000.0       2.5    3067.0       4.0       2.0  0.0     245.0   \n",
      "14     1636000.0       2.5    3067.0       2.0       1.0  2.0     256.0   \n",
      "...          ...       ...       ...       ...       ...  ...       ...   \n",
      "34847   500000.0      25.5    3750.0       3.0       2.0  2.0     383.0   \n",
      "34849   570000.0      25.5    3750.0       3.0       2.0  2.0     404.0   \n",
      "34853   888000.0       6.3    3013.0       2.0       2.0  1.0      98.0   \n",
      "34854   705000.0       6.3    3013.0       2.0       1.0  2.0     220.0   \n",
      "34856  1020000.0       6.3    3013.0       2.0       1.0  0.0     250.0   \n",
      "\n",
      "       BuildingArea  Lattitude  Longtitude  ...  Method_VB  \\\n",
      "2              79.0  -37.80790   144.99340  ...          0   \n",
      "4             150.0  -37.80930   144.99440  ...          0   \n",
      "6             142.0  -37.80720   144.99410  ...          1   \n",
      "11            210.0  -37.80240   144.99930  ...          0   \n",
      "14            107.0  -37.80600   144.99540  ...          0   \n",
      "...             ...        ...         ...  ...        ...   \n",
      "34847         118.0  -37.61940   145.03951  ...          0   \n",
      "34849         158.0  -37.61031   145.03393  ...          0   \n",
      "34853         104.0  -37.81551   144.88826  ...          0   \n",
      "34854         120.0  -37.82286   144.87856  ...          0   \n",
      "34856         103.0  -37.81810   144.89351  ...          0   \n",
      "\n",
      "       Regionname_Eastern Metropolitan  Regionname_Eastern Victoria  \\\n",
      "2                                    0                            0   \n",
      "4                                    0                            0   \n",
      "6                                    0                            0   \n",
      "11                                   0                            0   \n",
      "14                                   0                            0   \n",
      "...                                ...                          ...   \n",
      "34847                                0                            0   \n",
      "34849                                0                            0   \n",
      "34853                                0                            0   \n",
      "34854                                0                            0   \n",
      "34856                                0                            0   \n",
      "\n",
      "       Regionname_Northern Metropolitan  Regionname_Northern Victoria  \\\n",
      "2                                     1                             0   \n",
      "4                                     1                             0   \n",
      "6                                     1                             0   \n",
      "11                                    1                             0   \n",
      "14                                    1                             0   \n",
      "...                                 ...                           ...   \n",
      "34847                                 1                             0   \n",
      "34849                                 1                             0   \n",
      "34853                                 0                             0   \n",
      "34854                                 0                             0   \n",
      "34856                                 0                             0   \n",
      "\n",
      "       Regionname_South-Eastern Metropolitan  \\\n",
      "2                                          0   \n",
      "4                                          0   \n",
      "6                                          0   \n",
      "11                                         0   \n",
      "14                                         0   \n",
      "...                                      ...   \n",
      "34847                                      0   \n",
      "34849                                      0   \n",
      "34853                                      0   \n",
      "34854                                      0   \n",
      "34856                                      0   \n",
      "\n",
      "       Regionname_Southern Metropolitan  Regionname_Western Metropolitan  \\\n",
      "2                                     0                                0   \n",
      "4                                     0                                0   \n",
      "6                                     0                                0   \n",
      "11                                    0                                0   \n",
      "14                                    0                                0   \n",
      "...                                 ...                              ...   \n",
      "34847                                 0                                0   \n",
      "34849                                 0                                0   \n",
      "34853                                 0                                1   \n",
      "34854                                 0                                1   \n",
      "34856                                 0                                1   \n",
      "\n",
      "       Regionname_Western Victoria  NewPrice  \n",
      "2                                0    1035.0  \n",
      "4                                0    1465.0  \n",
      "6                                0    1600.0  \n",
      "11                               0    1876.0  \n",
      "14                               0    1636.0  \n",
      "...                            ...       ...  \n",
      "34847                            0     500.0  \n",
      "34849                            0     570.0  \n",
      "34853                            0     888.0  \n",
      "34854                            0     705.0  \n",
      "34856                            0    1020.0  \n",
      "\n",
      "[8887 rows x 28 columns]\n"
     ]
    }
   ],
   "source": [
    "print(df)"
   ]
  },
  {
   "cell_type": "code",
   "execution_count": 16,
   "id": "8853188c",
   "metadata": {},
   "outputs": [],
   "source": [
    "df.drop('Price', axis=1, inplace=True)"
   ]
  },
  {
   "cell_type": "code",
   "execution_count": 17,
   "id": "61ba971a",
   "metadata": {},
   "outputs": [
    {
     "data": {
      "text/plain": [
       "count    8887.000000\n",
       "mean     1092.901629\n",
       "std       679.381904\n",
       "min       131.000000\n",
       "25%       641.000000\n",
       "50%       900.000000\n",
       "75%      1345.000000\n",
       "max      9000.000000\n",
       "Name: NewPrice, dtype: float64"
      ]
     },
     "execution_count": 17,
     "metadata": {},
     "output_type": "execute_result"
    }
   ],
   "source": [
    "df['NewPrice'].describe()"
   ]
  },
  {
   "cell_type": "code",
   "execution_count": 18,
   "id": "8ef3f993",
   "metadata": {},
   "outputs": [],
   "source": [
    "# Define bins and labels for the price categories\n",
    "#Bins were defined based on Q1 (25%) and Q3 (75%)\n",
    "bins = [0,641,1345, float('inf')]  # specify the bin edges of the Prices\n",
    "labels = ['Low', 'Medium','High']  # specify labels for each Price category"
   ]
  },
  {
   "cell_type": "code",
   "execution_count": 19,
   "id": "1773acdd",
   "metadata": {},
   "outputs": [],
   "source": [
    "# Create a new column 'Price_Category' with the categorical values\n",
    "df['Price_Category'] = pd.cut(df['NewPrice'], bins=bins, labels=labels, right=False)"
   ]
  },
  {
   "cell_type": "code",
   "execution_count": 20,
   "id": "3f1176e2",
   "metadata": {
    "scrolled": true
   },
   "outputs": [
    {
     "name": "stdout",
     "output_type": "stream",
     "text": [
      "       Distance  Postcode  Bedroom2  Bathroom  Car  Landsize  BuildingArea  \\\n",
      "2           2.5    3067.0       2.0       1.0  0.0     156.0          79.0   \n",
      "4           2.5    3067.0       3.0       2.0  0.0     134.0         150.0   \n",
      "6           2.5    3067.0       3.0       1.0  2.0     120.0         142.0   \n",
      "11          2.5    3067.0       4.0       2.0  0.0     245.0         210.0   \n",
      "14          2.5    3067.0       2.0       1.0  2.0     256.0         107.0   \n",
      "...         ...       ...       ...       ...  ...       ...           ...   \n",
      "34847      25.5    3750.0       3.0       2.0  2.0     383.0         118.0   \n",
      "34849      25.5    3750.0       3.0       2.0  2.0     404.0         158.0   \n",
      "34853       6.3    3013.0       2.0       2.0  1.0      98.0         104.0   \n",
      "34854       6.3    3013.0       2.0       1.0  2.0     220.0         120.0   \n",
      "34856       6.3    3013.0       2.0       1.0  0.0     250.0         103.0   \n",
      "\n",
      "       Lattitude  Longtitude  AgeBuilding  ...  Method_VB  \\\n",
      "2      -37.80790   144.99340          123  ...          0   \n",
      "4      -37.80930   144.99440          123  ...          0   \n",
      "6      -37.80720   144.99410            9  ...          1   \n",
      "11     -37.80240   144.99930          113  ...          0   \n",
      "14     -37.80600   144.99540          133  ...          0   \n",
      "...          ...         ...          ...  ...        ...   \n",
      "34847  -37.61940   145.03951            7  ...          0   \n",
      "34849  -37.61031   145.03393           11  ...          0   \n",
      "34853  -37.81551   144.88826            5  ...          0   \n",
      "34854  -37.82286   144.87856           23  ...          0   \n",
      "34856  -37.81810   144.89351           93  ...          0   \n",
      "\n",
      "       Regionname_Eastern Metropolitan  Regionname_Eastern Victoria  \\\n",
      "2                                    0                            0   \n",
      "4                                    0                            0   \n",
      "6                                    0                            0   \n",
      "11                                   0                            0   \n",
      "14                                   0                            0   \n",
      "...                                ...                          ...   \n",
      "34847                                0                            0   \n",
      "34849                                0                            0   \n",
      "34853                                0                            0   \n",
      "34854                                0                            0   \n",
      "34856                                0                            0   \n",
      "\n",
      "       Regionname_Northern Metropolitan  Regionname_Northern Victoria  \\\n",
      "2                                     1                             0   \n",
      "4                                     1                             0   \n",
      "6                                     1                             0   \n",
      "11                                    1                             0   \n",
      "14                                    1                             0   \n",
      "...                                 ...                           ...   \n",
      "34847                                 1                             0   \n",
      "34849                                 1                             0   \n",
      "34853                                 0                             0   \n",
      "34854                                 0                             0   \n",
      "34856                                 0                             0   \n",
      "\n",
      "       Regionname_South-Eastern Metropolitan  \\\n",
      "2                                          0   \n",
      "4                                          0   \n",
      "6                                          0   \n",
      "11                                         0   \n",
      "14                                         0   \n",
      "...                                      ...   \n",
      "34847                                      0   \n",
      "34849                                      0   \n",
      "34853                                      0   \n",
      "34854                                      0   \n",
      "34856                                      0   \n",
      "\n",
      "       Regionname_Southern Metropolitan  Regionname_Western Metropolitan  \\\n",
      "2                                     0                                0   \n",
      "4                                     0                                0   \n",
      "6                                     0                                0   \n",
      "11                                    0                                0   \n",
      "14                                    0                                0   \n",
      "...                                 ...                              ...   \n",
      "34847                                 0                                0   \n",
      "34849                                 0                                0   \n",
      "34853                                 0                                1   \n",
      "34854                                 0                                1   \n",
      "34856                                 0                                1   \n",
      "\n",
      "       Regionname_Western Victoria  Price_Category  \n",
      "2                                0          Medium  \n",
      "4                                0            High  \n",
      "6                                0            High  \n",
      "11                               0            High  \n",
      "14                               0            High  \n",
      "...                            ...             ...  \n",
      "34847                            0             Low  \n",
      "34849                            0             Low  \n",
      "34853                            0          Medium  \n",
      "34854                            0          Medium  \n",
      "34856                            0          Medium  \n",
      "\n",
      "[8887 rows x 27 columns]\n"
     ]
    }
   ],
   "source": [
    "df.drop('NewPrice', axis=1, inplace=True)\n",
    "print(df)"
   ]
  },
  {
   "cell_type": "markdown",
   "id": "bc91e57f",
   "metadata": {},
   "source": [
    "Export dataframe into the file modified_Classification_Dataset.csv"
   ]
  },
  {
   "cell_type": "code",
   "execution_count": 21,
   "id": "6ecc4761",
   "metadata": {},
   "outputs": [],
   "source": [
    "df.to_csv('modified_Classification_Dataset.csv', index = False)"
   ]
  },
  {
   "cell_type": "markdown",
   "id": "1cdb4304",
   "metadata": {},
   "source": [
    "# Exploratory Data Analysis (EDA)"
   ]
  },
  {
   "cell_type": "code",
   "execution_count": 22,
   "id": "398d8411",
   "metadata": {},
   "outputs": [
    {
     "data": {
      "text/html": [
       "<div>\n",
       "<style scoped>\n",
       "    .dataframe tbody tr th:only-of-type {\n",
       "        vertical-align: middle;\n",
       "    }\n",
       "\n",
       "    .dataframe tbody tr th {\n",
       "        vertical-align: top;\n",
       "    }\n",
       "\n",
       "    .dataframe thead th {\n",
       "        text-align: right;\n",
       "    }\n",
       "</style>\n",
       "<table border=\"1\" class=\"dataframe\">\n",
       "  <thead>\n",
       "    <tr style=\"text-align: right;\">\n",
       "      <th></th>\n",
       "      <th>Distance</th>\n",
       "      <th>Postcode</th>\n",
       "      <th>Bedroom2</th>\n",
       "      <th>Bathroom</th>\n",
       "      <th>Car</th>\n",
       "      <th>Landsize</th>\n",
       "      <th>BuildingArea</th>\n",
       "      <th>Lattitude</th>\n",
       "      <th>Longtitude</th>\n",
       "      <th>AgeBuilding</th>\n",
       "      <th>...</th>\n",
       "      <th>Method_SP</th>\n",
       "      <th>Method_VB</th>\n",
       "      <th>Regionname_Eastern Metropolitan</th>\n",
       "      <th>Regionname_Eastern Victoria</th>\n",
       "      <th>Regionname_Northern Metropolitan</th>\n",
       "      <th>Regionname_Northern Victoria</th>\n",
       "      <th>Regionname_South-Eastern Metropolitan</th>\n",
       "      <th>Regionname_Southern Metropolitan</th>\n",
       "      <th>Regionname_Western Metropolitan</th>\n",
       "      <th>Regionname_Western Victoria</th>\n",
       "    </tr>\n",
       "  </thead>\n",
       "  <tbody>\n",
       "    <tr>\n",
       "      <th>count</th>\n",
       "      <td>8887.000000</td>\n",
       "      <td>8887.000000</td>\n",
       "      <td>8887.000000</td>\n",
       "      <td>8887.000000</td>\n",
       "      <td>8887.000000</td>\n",
       "      <td>8887.000000</td>\n",
       "      <td>8887.000000</td>\n",
       "      <td>8887.000000</td>\n",
       "      <td>8887.000000</td>\n",
       "      <td>8887.000000</td>\n",
       "      <td>...</td>\n",
       "      <td>8887.000000</td>\n",
       "      <td>8887.000000</td>\n",
       "      <td>8887.000000</td>\n",
       "      <td>8887.000000</td>\n",
       "      <td>8887.000000</td>\n",
       "      <td>8887.000000</td>\n",
       "      <td>8887.000000</td>\n",
       "      <td>8887.000000</td>\n",
       "      <td>8887.000000</td>\n",
       "      <td>8887.000000</td>\n",
       "    </tr>\n",
       "    <tr>\n",
       "      <th>mean</th>\n",
       "      <td>11.199887</td>\n",
       "      <td>3111.662653</td>\n",
       "      <td>3.078204</td>\n",
       "      <td>1.646450</td>\n",
       "      <td>1.692247</td>\n",
       "      <td>523.480365</td>\n",
       "      <td>149.309477</td>\n",
       "      <td>-37.804501</td>\n",
       "      <td>144.991393</td>\n",
       "      <td>57.246652</td>\n",
       "      <td>...</td>\n",
       "      <td>0.145381</td>\n",
       "      <td>0.095195</td>\n",
       "      <td>0.110498</td>\n",
       "      <td>0.005739</td>\n",
       "      <td>0.293912</td>\n",
       "      <td>0.006976</td>\n",
       "      <td>0.041746</td>\n",
       "      <td>0.304602</td>\n",
       "      <td>0.231687</td>\n",
       "      <td>0.004839</td>\n",
       "    </tr>\n",
       "    <tr>\n",
       "      <th>std</th>\n",
       "      <td>6.813402</td>\n",
       "      <td>112.614268</td>\n",
       "      <td>0.966269</td>\n",
       "      <td>0.721611</td>\n",
       "      <td>0.975464</td>\n",
       "      <td>1061.324228</td>\n",
       "      <td>87.925580</td>\n",
       "      <td>0.090549</td>\n",
       "      <td>0.118919</td>\n",
       "      <td>37.040876</td>\n",
       "      <td>...</td>\n",
       "      <td>0.352504</td>\n",
       "      <td>0.293501</td>\n",
       "      <td>0.313528</td>\n",
       "      <td>0.075541</td>\n",
       "      <td>0.455578</td>\n",
       "      <td>0.083238</td>\n",
       "      <td>0.200020</td>\n",
       "      <td>0.460265</td>\n",
       "      <td>0.421934</td>\n",
       "      <td>0.069395</td>\n",
       "    </tr>\n",
       "    <tr>\n",
       "      <th>min</th>\n",
       "      <td>0.000000</td>\n",
       "      <td>3000.000000</td>\n",
       "      <td>0.000000</td>\n",
       "      <td>1.000000</td>\n",
       "      <td>0.000000</td>\n",
       "      <td>0.000000</td>\n",
       "      <td>0.000000</td>\n",
       "      <td>-38.174360</td>\n",
       "      <td>144.423790</td>\n",
       "      <td>4.000000</td>\n",
       "      <td>...</td>\n",
       "      <td>0.000000</td>\n",
       "      <td>0.000000</td>\n",
       "      <td>0.000000</td>\n",
       "      <td>0.000000</td>\n",
       "      <td>0.000000</td>\n",
       "      <td>0.000000</td>\n",
       "      <td>0.000000</td>\n",
       "      <td>0.000000</td>\n",
       "      <td>0.000000</td>\n",
       "      <td>0.000000</td>\n",
       "    </tr>\n",
       "    <tr>\n",
       "      <th>25%</th>\n",
       "      <td>6.400000</td>\n",
       "      <td>3044.000000</td>\n",
       "      <td>2.000000</td>\n",
       "      <td>1.000000</td>\n",
       "      <td>1.000000</td>\n",
       "      <td>212.000000</td>\n",
       "      <td>100.000000</td>\n",
       "      <td>-37.858560</td>\n",
       "      <td>144.920000</td>\n",
       "      <td>23.000000</td>\n",
       "      <td>...</td>\n",
       "      <td>0.000000</td>\n",
       "      <td>0.000000</td>\n",
       "      <td>0.000000</td>\n",
       "      <td>0.000000</td>\n",
       "      <td>0.000000</td>\n",
       "      <td>0.000000</td>\n",
       "      <td>0.000000</td>\n",
       "      <td>0.000000</td>\n",
       "      <td>0.000000</td>\n",
       "      <td>0.000000</td>\n",
       "    </tr>\n",
       "    <tr>\n",
       "      <th>50%</th>\n",
       "      <td>10.200000</td>\n",
       "      <td>3084.000000</td>\n",
       "      <td>3.000000</td>\n",
       "      <td>2.000000</td>\n",
       "      <td>2.000000</td>\n",
       "      <td>478.000000</td>\n",
       "      <td>132.000000</td>\n",
       "      <td>-37.798700</td>\n",
       "      <td>144.998500</td>\n",
       "      <td>53.000000</td>\n",
       "      <td>...</td>\n",
       "      <td>0.000000</td>\n",
       "      <td>0.000000</td>\n",
       "      <td>0.000000</td>\n",
       "      <td>0.000000</td>\n",
       "      <td>0.000000</td>\n",
       "      <td>0.000000</td>\n",
       "      <td>0.000000</td>\n",
       "      <td>0.000000</td>\n",
       "      <td>0.000000</td>\n",
       "      <td>0.000000</td>\n",
       "    </tr>\n",
       "    <tr>\n",
       "      <th>75%</th>\n",
       "      <td>13.900000</td>\n",
       "      <td>3150.000000</td>\n",
       "      <td>4.000000</td>\n",
       "      <td>2.000000</td>\n",
       "      <td>2.000000</td>\n",
       "      <td>652.000000</td>\n",
       "      <td>180.000000</td>\n",
       "      <td>-37.748945</td>\n",
       "      <td>145.064560</td>\n",
       "      <td>78.000000</td>\n",
       "      <td>...</td>\n",
       "      <td>0.000000</td>\n",
       "      <td>0.000000</td>\n",
       "      <td>0.000000</td>\n",
       "      <td>0.000000</td>\n",
       "      <td>1.000000</td>\n",
       "      <td>0.000000</td>\n",
       "      <td>0.000000</td>\n",
       "      <td>1.000000</td>\n",
       "      <td>0.000000</td>\n",
       "      <td>0.000000</td>\n",
       "    </tr>\n",
       "    <tr>\n",
       "      <th>max</th>\n",
       "      <td>47.400000</td>\n",
       "      <td>3977.000000</td>\n",
       "      <td>12.000000</td>\n",
       "      <td>9.000000</td>\n",
       "      <td>10.000000</td>\n",
       "      <td>42800.000000</td>\n",
       "      <td>3112.000000</td>\n",
       "      <td>-37.407200</td>\n",
       "      <td>145.526350</td>\n",
       "      <td>827.000000</td>\n",
       "      <td>...</td>\n",
       "      <td>1.000000</td>\n",
       "      <td>1.000000</td>\n",
       "      <td>1.000000</td>\n",
       "      <td>1.000000</td>\n",
       "      <td>1.000000</td>\n",
       "      <td>1.000000</td>\n",
       "      <td>1.000000</td>\n",
       "      <td>1.000000</td>\n",
       "      <td>1.000000</td>\n",
       "      <td>1.000000</td>\n",
       "    </tr>\n",
       "  </tbody>\n",
       "</table>\n",
       "<p>8 rows × 26 columns</p>\n",
       "</div>"
      ],
      "text/plain": [
       "          Distance     Postcode     Bedroom2     Bathroom          Car  \\\n",
       "count  8887.000000  8887.000000  8887.000000  8887.000000  8887.000000   \n",
       "mean     11.199887  3111.662653     3.078204     1.646450     1.692247   \n",
       "std       6.813402   112.614268     0.966269     0.721611     0.975464   \n",
       "min       0.000000  3000.000000     0.000000     1.000000     0.000000   \n",
       "25%       6.400000  3044.000000     2.000000     1.000000     1.000000   \n",
       "50%      10.200000  3084.000000     3.000000     2.000000     2.000000   \n",
       "75%      13.900000  3150.000000     4.000000     2.000000     2.000000   \n",
       "max      47.400000  3977.000000    12.000000     9.000000    10.000000   \n",
       "\n",
       "           Landsize  BuildingArea    Lattitude   Longtitude  AgeBuilding  ...  \\\n",
       "count   8887.000000   8887.000000  8887.000000  8887.000000  8887.000000  ...   \n",
       "mean     523.480365    149.309477   -37.804501   144.991393    57.246652  ...   \n",
       "std     1061.324228     87.925580     0.090549     0.118919    37.040876  ...   \n",
       "min        0.000000      0.000000   -38.174360   144.423790     4.000000  ...   \n",
       "25%      212.000000    100.000000   -37.858560   144.920000    23.000000  ...   \n",
       "50%      478.000000    132.000000   -37.798700   144.998500    53.000000  ...   \n",
       "75%      652.000000    180.000000   -37.748945   145.064560    78.000000  ...   \n",
       "max    42800.000000   3112.000000   -37.407200   145.526350   827.000000  ...   \n",
       "\n",
       "         Method_SP    Method_VB  Regionname_Eastern Metropolitan  \\\n",
       "count  8887.000000  8887.000000                      8887.000000   \n",
       "mean      0.145381     0.095195                         0.110498   \n",
       "std       0.352504     0.293501                         0.313528   \n",
       "min       0.000000     0.000000                         0.000000   \n",
       "25%       0.000000     0.000000                         0.000000   \n",
       "50%       0.000000     0.000000                         0.000000   \n",
       "75%       0.000000     0.000000                         0.000000   \n",
       "max       1.000000     1.000000                         1.000000   \n",
       "\n",
       "       Regionname_Eastern Victoria  Regionname_Northern Metropolitan  \\\n",
       "count                  8887.000000                       8887.000000   \n",
       "mean                      0.005739                          0.293912   \n",
       "std                       0.075541                          0.455578   \n",
       "min                       0.000000                          0.000000   \n",
       "25%                       0.000000                          0.000000   \n",
       "50%                       0.000000                          0.000000   \n",
       "75%                       0.000000                          1.000000   \n",
       "max                       1.000000                          1.000000   \n",
       "\n",
       "       Regionname_Northern Victoria  Regionname_South-Eastern Metropolitan  \\\n",
       "count                   8887.000000                            8887.000000   \n",
       "mean                       0.006976                               0.041746   \n",
       "std                        0.083238                               0.200020   \n",
       "min                        0.000000                               0.000000   \n",
       "25%                        0.000000                               0.000000   \n",
       "50%                        0.000000                               0.000000   \n",
       "75%                        0.000000                               0.000000   \n",
       "max                        1.000000                               1.000000   \n",
       "\n",
       "       Regionname_Southern Metropolitan  Regionname_Western Metropolitan  \\\n",
       "count                       8887.000000                      8887.000000   \n",
       "mean                           0.304602                         0.231687   \n",
       "std                            0.460265                         0.421934   \n",
       "min                            0.000000                         0.000000   \n",
       "25%                            0.000000                         0.000000   \n",
       "50%                            0.000000                         0.000000   \n",
       "75%                            1.000000                         0.000000   \n",
       "max                            1.000000                         1.000000   \n",
       "\n",
       "       Regionname_Western Victoria  \n",
       "count                  8887.000000  \n",
       "mean                      0.004839  \n",
       "std                       0.069395  \n",
       "min                       0.000000  \n",
       "25%                       0.000000  \n",
       "50%                       0.000000  \n",
       "75%                       0.000000  \n",
       "max                       1.000000  \n",
       "\n",
       "[8 rows x 26 columns]"
      ]
     },
     "execution_count": 22,
     "metadata": {},
     "output_type": "execute_result"
    }
   ],
   "source": [
    "df.describe()"
   ]
  },
  {
   "cell_type": "code",
   "execution_count": 23,
   "id": "499e9859",
   "metadata": {
    "scrolled": false
   },
   "outputs": [
    {
     "data": {
      "text/plain": [
       "array([[<AxesSubplot:title={'center':'Distance'}>,\n",
       "        <AxesSubplot:title={'center':'Postcode'}>,\n",
       "        <AxesSubplot:title={'center':'Bedroom2'}>,\n",
       "        <AxesSubplot:title={'center':'Bathroom'}>,\n",
       "        <AxesSubplot:title={'center':'Car'}>],\n",
       "       [<AxesSubplot:title={'center':'Landsize'}>,\n",
       "        <AxesSubplot:title={'center':'BuildingArea'}>,\n",
       "        <AxesSubplot:title={'center':'Lattitude'}>,\n",
       "        <AxesSubplot:title={'center':'Longtitude'}>,\n",
       "        <AxesSubplot:title={'center':'AgeBuilding'}>],\n",
       "       [<AxesSubplot:title={'center':'Type_h'}>,\n",
       "        <AxesSubplot:title={'center':'Type_t'}>,\n",
       "        <AxesSubplot:title={'center':'Type_u'}>,\n",
       "        <AxesSubplot:title={'center':'Method_PI'}>,\n",
       "        <AxesSubplot:title={'center':'Method_S'}>],\n",
       "       [<AxesSubplot:title={'center':'Method_SA'}>,\n",
       "        <AxesSubplot:title={'center':'Method_SP'}>,\n",
       "        <AxesSubplot:title={'center':'Method_VB'}>,\n",
       "        <AxesSubplot:title={'center':'Regionname_Eastern Metropolitan'}>,\n",
       "        <AxesSubplot:title={'center':'Regionname_Eastern Victoria'}>],\n",
       "       [<AxesSubplot:title={'center':'Regionname_Northern Metropolitan'}>,\n",
       "        <AxesSubplot:title={'center':'Regionname_Northern Victoria'}>,\n",
       "        <AxesSubplot:title={'center':'Regionname_South-Eastern Metropolitan'}>,\n",
       "        <AxesSubplot:title={'center':'Regionname_Southern Metropolitan'}>,\n",
       "        <AxesSubplot:title={'center':'Regionname_Western Metropolitan'}>],\n",
       "       [<AxesSubplot:title={'center':'Regionname_Western Victoria'}>,\n",
       "        <AxesSubplot:>, <AxesSubplot:>, <AxesSubplot:>, <AxesSubplot:>]],\n",
       "      dtype=object)"
      ]
     },
     "execution_count": 23,
     "metadata": {},
     "output_type": "execute_result"
    },
    {
     "data": {
      "image/png": "[encoded data removed]",
      "text/plain": [
       "<Figure size 1080x576 with 30 Axes>"
      ]
     },
     "metadata": {
      "needs_background": "light"
     },
     "output_type": "display_data"
    }
   ],
   "source": [
    "df.hist(figsize=(15, 8))"
   ]
  },
  {
   "cell_type": "markdown",
   "id": "378061e9",
   "metadata": {},
   "source": [
    "## Normalization and Feature Scaling"
   ]
  },
  {
   "cell_type": "code",
   "execution_count": 24,
   "id": "56c71511",
   "metadata": {},
   "outputs": [],
   "source": [
    "df['Distance'] = np.log(df['Distance'] + 1)\n",
    "df['Postcode'] = np.log(df['Postcode'] + 1)\n",
    "df['Landsize'] = np.log(df['Landsize'] + 1)\n",
    "df['BuildingArea'] = np.log(df['BuildingArea'] + 1)"
   ]
  },
  {
   "cell_type": "code",
   "execution_count": 25,
   "id": "5d6ce61c",
   "metadata": {},
   "outputs": [
    {
     "data": {
      "text/plain": [
       "array([[<AxesSubplot:title={'center':'Distance'}>,\n",
       "        <AxesSubplot:title={'center':'Postcode'}>,\n",
       "        <AxesSubplot:title={'center':'Bedroom2'}>,\n",
       "        <AxesSubplot:title={'center':'Bathroom'}>,\n",
       "        <AxesSubplot:title={'center':'Car'}>],\n",
       "       [<AxesSubplot:title={'center':'Landsize'}>,\n",
       "        <AxesSubplot:title={'center':'BuildingArea'}>,\n",
       "        <AxesSubplot:title={'center':'Lattitude'}>,\n",
       "        <AxesSubplot:title={'center':'Longtitude'}>,\n",
       "        <AxesSubplot:title={'center':'AgeBuilding'}>],\n",
       "       [<AxesSubplot:title={'center':'Type_h'}>,\n",
       "        <AxesSubplot:title={'center':'Type_t'}>,\n",
       "        <AxesSubplot:title={'center':'Type_u'}>,\n",
       "        <AxesSubplot:title={'center':'Method_PI'}>,\n",
       "        <AxesSubplot:title={'center':'Method_S'}>],\n",
       "       [<AxesSubplot:title={'center':'Method_SA'}>,\n",
       "        <AxesSubplot:title={'center':'Method_SP'}>,\n",
       "        <AxesSubplot:title={'center':'Method_VB'}>,\n",
       "        <AxesSubplot:title={'center':'Regionname_Eastern Metropolitan'}>,\n",
       "        <AxesSubplot:title={'center':'Regionname_Eastern Victoria'}>],\n",
       "       [<AxesSubplot:title={'center':'Regionname_Northern Metropolitan'}>,\n",
       "        <AxesSubplot:title={'center':'Regionname_Northern Victoria'}>,\n",
       "        <AxesSubplot:title={'center':'Regionname_South-Eastern Metropolitan'}>,\n",
       "        <AxesSubplot:title={'center':'Regionname_Southern Metropolitan'}>,\n",
       "        <AxesSubplot:title={'center':'Regionname_Western Metropolitan'}>],\n",
       "       [<AxesSubplot:title={'center':'Regionname_Western Victoria'}>,\n",
       "        <AxesSubplot:>, <AxesSubplot:>, <AxesSubplot:>, <AxesSubplot:>]],\n",
       "      dtype=object)"
      ]
     },
     "execution_count": 25,
     "metadata": {},
     "output_type": "execute_result"
    },
    {
     "data": {
      "image/png": "[encoded data removed]",
      "text/plain": [
       "<Figure size 1080x576 with 30 Axes>"
      ]
     },
     "metadata": {
      "needs_background": "light"
     },
     "output_type": "display_data"
    }
   ],
   "source": [
    "df.hist(figsize=(15, 8))"
   ]
  },
  {
   "cell_type": "code",
   "execution_count": 26,
   "id": "8a6c8d67",
   "metadata": {},
   "outputs": [],
   "source": [
    "# Load data\n",
    "X = df.drop(\"Price_Category\",axis=1)\n",
    "y = df[\"Price_Category\"]"
   ]
  },
  {
   "cell_type": "code",
   "execution_count": 27,
   "id": "964301ac",
   "metadata": {},
   "outputs": [],
   "source": [
    "#Feature scaling using MinMaxScaler()\n",
    "from sklearn.preprocessing import MinMaxScaler\n",
    "\n",
    "min_max_scaler = MinMaxScaler(feature_range=(-1, 1))\n",
    "housing_num_min_max_scaled = min_max_scaler.fit_transform(X)"
   ]
  },
  {
   "cell_type": "markdown",
   "id": "98fd25f3",
   "metadata": {},
   "source": [
    "## Train and Test"
   ]
  },
  {
   "cell_type": "code",
   "execution_count": 28,
   "id": "487dbf46",
   "metadata": {},
   "outputs": [],
   "source": [
    "from sklearn.model_selection import train_test_split"
   ]
  },
  {
   "cell_type": "code",
   "execution_count": 29,
   "id": "4559cf96",
   "metadata": {},
   "outputs": [],
   "source": [
    "X_train, X_test, y_train, y_test = train_test_split(housing_num_min_max_scaled, y, test_size=0.2, random_state=42)"
   ]
  },
  {
   "cell_type": "markdown",
   "id": "be9daafd",
   "metadata": {},
   "source": [
    "# Naive Bayes"
   ]
  },
  {
   "cell_type": "code",
   "execution_count": 30,
   "id": "0212e4bc",
   "metadata": {},
   "outputs": [],
   "source": [
    "# Load libraries\n",
    "from sklearn.naive_bayes import GaussianNB"
   ]
  },
  {
   "cell_type": "code",
   "execution_count": 31,
   "id": "df46a977",
   "metadata": {},
   "outputs": [],
   "source": [
    "# Create Gaussian naive Bayes object\n",
    "classifer = GaussianNB()"
   ]
  },
  {
   "cell_type": "code",
   "execution_count": 32,
   "id": "8bab166e",
   "metadata": {},
   "outputs": [],
   "source": [
    "# Train model\n",
    "model_nb = classifer.fit(housing_num_min_max_scaled, y)"
   ]
  },
  {
   "cell_type": "code",
   "execution_count": 33,
   "id": "87dda5e7",
   "metadata": {},
   "outputs": [],
   "source": [
    "preds = model_nb.predict(X_test)"
   ]
  },
  {
   "cell_type": "markdown",
   "id": "2f608963",
   "metadata": {},
   "source": [
    "### Model Evaluation Naive Bayes"
   ]
  },
  {
   "cell_type": "code",
   "execution_count": 34,
   "id": "d960dd97",
   "metadata": {},
   "outputs": [],
   "source": [
    "from sklearn.metrics import confusion_matrix,classification_report, accuracy_score\n",
    "from sklearn.metrics import plot_confusion_matrix"
   ]
  },
  {
   "cell_type": "code",
   "execution_count": 35,
   "id": "80043124",
   "metadata": {},
   "outputs": [
    {
     "data": {
      "text/plain": [
       "array([[430,   1,  13],\n",
       "       [150, 251,  55],\n",
       "       [647, 110, 121]], dtype=int64)"
      ]
     },
     "execution_count": 35,
     "metadata": {},
     "output_type": "execute_result"
    }
   ],
   "source": [
    "confusion_matrix(y_test,preds)"
   ]
  },
  {
   "cell_type": "code",
   "execution_count": 36,
   "id": "0c9a5aee",
   "metadata": {
    "scrolled": true
   },
   "outputs": [
    {
     "name": "stdout",
     "output_type": "stream",
     "text": [
      "              precision    recall  f1-score   support\n",
      "\n",
      "        High       0.35      0.97      0.51       444\n",
      "         Low       0.69      0.55      0.61       456\n",
      "      Medium       0.64      0.14      0.23       878\n",
      "\n",
      "    accuracy                           0.45      1778\n",
      "   macro avg       0.56      0.55      0.45      1778\n",
      "weighted avg       0.58      0.45      0.40      1778\n",
      "\n"
     ]
    }
   ],
   "source": [
    "print(classification_report(y_test,preds))"
   ]
  },
  {
   "cell_type": "code",
   "execution_count": null,
   "id": "c659f916",
   "metadata": {},
   "outputs": [],
   "source": [
    "conf_matrix = confusion_matrix(y_test, y_pred)\n",
    "print(\"Confusion Matrix:\")\n",
    "print(conf_matrix)"
   ]
  },
  {
   "cell_type": "code",
   "execution_count": 37,
   "id": "4d1a3b34",
   "metadata": {},
   "outputs": [
    {
     "data": {
      "image/png": "[encoded data removed]",
      "text/plain": [
       "<Figure size 432x288 with 2 Axes>"
      ]
     },
     "metadata": {
      "needs_background": "light"
     },
     "output_type": "display_data"
    }
   ],
   "source": [
    "plot_confusion_matrix(conf_matrix, X_test, y_test, cmap=plt.cm.Blues)\n",
    "plt.show()"
   ]
  },
  {
   "cell_type": "markdown",
   "id": "352e93a3",
   "metadata": {},
   "source": [
    "# Random Forest Classification"
   ]
  },
  {
   "cell_type": "code",
   "execution_count": 38,
   "id": "78b3549b",
   "metadata": {},
   "outputs": [],
   "source": [
    "from sklearn.ensemble import RandomForestClassifier"
   ]
  },
  {
   "cell_type": "code",
   "execution_count": 39,
   "id": "b13a7f4c",
   "metadata": {},
   "outputs": [],
   "source": [
    "model_rfc = RandomForestClassifier(n_estimators=100,bootstrap=True, oob_score= False, max_features='auto',random_state=42)"
   ]
  },
  {
   "cell_type": "code",
   "execution_count": 40,
   "id": "3590db03",
   "metadata": {},
   "outputs": [
    {
     "data": {
      "text/plain": [
       "RandomForestClassifier(random_state=42)"
      ]
     },
     "execution_count": 40,
     "metadata": {},
     "output_type": "execute_result"
    }
   ],
   "source": [
    "model_rfc.fit(X_train,y_train)"
   ]
  },
  {
   "cell_type": "code",
   "execution_count": 41,
   "id": "4e289b62",
   "metadata": {},
   "outputs": [],
   "source": [
    "preds = model_rfc.predict(X_test)"
   ]
  },
  {
   "cell_type": "markdown",
   "id": "9f9c364b",
   "metadata": {},
   "source": [
    "### Model Evaluation Random Forest Classifier"
   ]
  },
  {
   "cell_type": "code",
   "execution_count": 42,
   "id": "55d1e9e4",
   "metadata": {},
   "outputs": [],
   "source": [
    "from sklearn.metrics import confusion_matrix,classification_report, accuracy_score\n",
    "from sklearn.metrics import plot_confusion_matrix"
   ]
  },
  {
   "cell_type": "code",
   "execution_count": 43,
   "id": "2a4127ea",
   "metadata": {},
   "outputs": [
    {
     "data": {
      "text/plain": [
       "array([[361,   0,  83],\n",
       "       [  0, 378,  78],\n",
       "       [ 55,  60, 763]], dtype=int64)"
      ]
     },
     "execution_count": 43,
     "metadata": {},
     "output_type": "execute_result"
    }
   ],
   "source": [
    "confusion_matrix(y_test,preds)"
   ]
  },
  {
   "cell_type": "code",
   "execution_count": 44,
   "id": "92a2a299",
   "metadata": {},
   "outputs": [
    {
     "name": "stdout",
     "output_type": "stream",
     "text": [
      "              precision    recall  f1-score   support\n",
      "\n",
      "        High       0.87      0.81      0.84       444\n",
      "         Low       0.86      0.83      0.85       456\n",
      "      Medium       0.83      0.87      0.85       878\n",
      "\n",
      "    accuracy                           0.84      1778\n",
      "   macro avg       0.85      0.84      0.84      1778\n",
      "weighted avg       0.85      0.84      0.84      1778\n",
      "\n"
     ]
    }
   ],
   "source": [
    "print(classification_report(y_test,preds))"
   ]
  },
  {
   "cell_type": "code",
   "execution_count": 45,
   "id": "98787201",
   "metadata": {},
   "outputs": [
    {
     "data": {
      "image/png": "[encoded data removed]",
      "text/plain": [
       "<Figure size 432x288 with 2 Axes>"
      ]
     },
     "metadata": {
      "needs_background": "light"
     },
     "output_type": "display_data"
    }
   ],
   "source": [
    "plot_confusion_matrix(model_rfc, X_test, y_test, cmap=plt.cm.Blues)\n",
    "plt.show()"
   ]
  },
  {
   "cell_type": "markdown",
   "id": "4b398a06",
   "metadata": {},
   "source": [
    "# Features Importance"
   ]
  },
  {
   "cell_type": "code",
   "execution_count": 46,
   "id": "f971b0f1",
   "metadata": {
    "scrolled": true
   },
   "outputs": [
    {
     "data": {
      "text/plain": [
       "array([0.10026569, 0.07615191, 0.04490307, 0.03235083, 0.02308993,\n",
       "       0.08570111, 0.16577212, 0.11773237, 0.10646358, 0.07840434,\n",
       "       0.02778791, 0.00586409, 0.04169973, 0.00605668, 0.00887604,\n",
       "       0.0008597 , 0.00539584, 0.00484386, 0.00510563, 0.00071744,\n",
       "       0.00645725, 0.00056773, 0.00329337, 0.04363797, 0.0075058 ,\n",
       "       0.000496  ])"
      ]
     },
     "execution_count": 46,
     "metadata": {},
     "output_type": "execute_result"
    }
   ],
   "source": [
    "model_rfc.feature_importances_"
   ]
  },
  {
   "cell_type": "code",
   "execution_count": 47,
   "id": "6f0cb2e6",
   "metadata": {},
   "outputs": [
    {
     "name": "stdout",
     "output_type": "stream",
     "text": [
      "['Distance', 'Postcode', 'Bedroom2', 'Bathroom', 'Car', 'Landsize', 'BuildingArea', 'Lattitude', 'Longtitude', 'AgeBuilding', 'Type_h', 'Type_t', 'Type_u', 'Method_PI', 'Method_S', 'Method_SA', 'Method_SP', 'Method_VB', 'Regionname_Eastern Metropolitan', 'Regionname_Eastern Victoria', 'Regionname_Northern Metropolitan', 'Regionname_Northern Victoria', 'Regionname_South-Eastern Metropolitan', 'Regionname_Southern Metropolitan', 'Regionname_Western Metropolitan', 'Regionname_Western Victoria', 'Price_Category']\n"
     ]
    }
   ],
   "source": [
    "feature_names = df.columns.tolist()\n",
    "print(feature_names)"
   ]
  },
  {
   "cell_type": "code",
   "execution_count": 48,
   "id": "6fd771cc",
   "metadata": {},
   "outputs": [],
   "source": [
    "# Get feature importances\n",
    "importances = model_rfc.feature_importances_\n",
    "std = np.std([tree.feature_importances_ for tree in model_rfc.estimators_], axis=0)\n",
    "indices = np.argsort(importances)[::-1]"
   ]
  },
  {
   "cell_type": "code",
   "execution_count": 49,
   "id": "a1a063f3",
   "metadata": {},
   "outputs": [
    {
     "data": {
      "image/png": "[encoded data removed]",
      "text/plain": [
       "<Figure size 576x432 with 1 Axes>"
      ]
     },
     "metadata": {
      "needs_background": "light"
     },
     "output_type": "display_data"
    }
   ],
   "source": [
    "# Plot feature importances with names\n",
    "plt.figure(figsize=(8, 6))\n",
    "plt.title(\"Feature importances\")\n",
    "plt.bar(range(X.shape[1]), importances[indices], color=\"b\", yerr=std[indices], align=\"center\")\n",
    "plt.xticks(range(X.shape[1]), [feature_names[i] for i in indices], rotation=45, ha='right')  # Feature names added\n",
    "plt.xlim([-1, X.shape[1]])\n",
    "plt.tight_layout()\n",
    "plt.show()"
   ]
  },
  {
   "cell_type": "markdown",
   "id": "7d88ab21",
   "metadata": {},
   "source": [
    "# Choosing correct number of trees"
   ]
  },
  {
   "cell_type": "code",
   "execution_count": 50,
   "id": "77750872",
   "metadata": {},
   "outputs": [],
   "source": [
    "test_error = []\n",
    "\n",
    "for n in range(1,40):\n",
    "    # Use n random trees\n",
    "    model = RandomForestClassifier(n_estimators=n,bootstrap=True, oob_score= False, max_features='auto')\n",
    "    model.fit(X_train,y_train)\n",
    "    test_preds = model.predict(X_test)\n",
    "    test_error.append(1-accuracy_score(test_preds,y_test))"
   ]
  },
  {
   "cell_type": "code",
   "execution_count": 51,
   "id": "9b3d0517",
   "metadata": {
    "scrolled": true
   },
   "outputs": [
    {
     "data": {
      "text/plain": [
       "<matplotlib.legend.Legend at 0x28acba176a0>"
      ]
     },
     "execution_count": 51,
     "metadata": {},
     "output_type": "execute_result"
    },
    {
     "data": {
      "image/png": "[encoded data removed]",
      "text/plain": [
       "<Figure size 432x288 with 1 Axes>"
      ]
     },
     "metadata": {
      "needs_background": "light"
     },
     "output_type": "display_data"
    }
   ],
   "source": [
    "plt.plot(range(1,40),test_error,label='Test Error')\n",
    "plt.legend()"
   ]
  }
 ],
 "metadata": {
  "kernelspec": {
   "display_name": "Python 3",
   "language": "python",
   "name": "python3"
  },
  "language_info": {
   "codemirror_mode": {
    "name": "ipython",
    "version": 3
   },
   "file_extension": ".py",
   "mimetype": "text/x-python",
   "name": "python",
   "nbconvert_exporter": "python",
   "pygments_lexer": "ipython3",
   "version": "3.8.8"
  }
 },
 "nbformat": 4,
 "nbformat_minor": 5
}
